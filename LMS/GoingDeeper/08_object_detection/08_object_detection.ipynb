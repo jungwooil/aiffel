{
 "cells": [
  {
   "cell_type": "markdown",
   "id": "living-thanksgiving",
   "metadata": {},
   "source": [
    "# 프로젝트: 자율주행 보조 시스템 만들기\n",
    "\n",
    "### 실습 목표\n",
    "---\n",
    "1. 바운딩 박스(bounding box) 데이터셋을 전처리할 수 있습니다.\n",
    "2. Object detection 모델을 학습할 수 있습니다.\n",
    "3. Detection 모델을 활용한 시스템을 만들 수 있습니다.\n",
    "\n",
    "### 학습 내용\n",
    "---\n",
    "1. 자율주행 보조장치\n",
    "2. RetinaNet\n",
    "3. keras-retinanet\n",
    "4. 프로젝트: 자율주행 보조 시스템 만들기\n",
    "\n",
    "## 목차\n",
    "[1. 자율주행 시스템 만들기](#1.-자율주행-시스템-만들기)   \n",
    "[2. 자율주행 시스템 평가하기](#2.-자율주행-시스템-평가하기)  \n",
    "[Rubric](#Rubric)  \n",
    "[회고](#회고)\n",
    "\n",
    "## 1. 자율주행 시스템 만들기\n",
    "---\n",
    "위에서 만든 모델을 통해 아래의 조건을 만족하는 함수를 만들어 주세요.\n",
    "\n",
    "- 입력으로 이미지 경로를 받습니다.\n",
    "- 정지조건에 맞는 경우 \"Stop\" 아닌 경우 \"Go\"를 반환합니다.\n",
    "- 조건은 다음과 같습니다.\n",
    "    - 사람이 한 명 이상 있는 경우\n",
    "    - 차량의 크기(width or height)가 300px이상인 경우"
   ]
  },
  {
   "cell_type": "code",
   "execution_count": null,
   "id": "recreational-subscription",
   "metadata": {},
   "outputs": [],
   "source": [
    "img_path = os.getenv('HOME')+'/aiffel/object_detection/test_set/stop_1.png'\n",
    "\n",
    "def self_drive_assist(img_path, size_limit=300):\n",
    "    # 코드 구현\n",
    "\t\t# 정지조건에 맞으면 return \"Stop\"\n",
    "\t\t# 아닌 경우 return \"Go\"\n",
    "\n",
    "print(self_drive_assist(img_path))"
   ]
  },
  {
   "cell_type": "markdown",
   "id": "forty-thumb",
   "metadata": {},
   "source": [
    "## 2. 자율주행 시스템 평가하기\n",
    "---\n",
    "아래 `test_system()` 를 통해서 위에서 만든 함수를 평가해봅시다. 10장에 대해 Go와 Stop을 맞게 반환하는지 확인하고 100점 만점으로 평가해줍니다."
   ]
  },
  {
   "cell_type": "code",
   "execution_count": null,
   "id": "positive-correction",
   "metadata": {},
   "outputs": [],
   "source": [
    "import os\n",
    "\n",
    "def test_system(func):\n",
    "    work_dir = os.getenv('HOME')+'/aiffel/object_detection'\n",
    "    score = 0\n",
    "    test_set=[\n",
    "        (\"test_set/stop_1.png\", \"Stop\"),\n",
    "        (\"test_set/stop_2.png\", \"Stop\"),\n",
    "        (\"test_set/stop_3.png\", \"Stop\"),\n",
    "        (\"test_set/stop_4.png\", \"Stop\"),\n",
    "        (\"test_set/stop_5.png\", \"Stop\"),\n",
    "        (\"test_set/go_1.png\", \"Go\"),\n",
    "        (\"test_set/go_2.png\", \"Go\"),\n",
    "        (\"test_set/go_3.png\", \"Go\"),\n",
    "        (\"test_set/go_4.png\", \"Go\"),\n",
    "        (\"test_set/go_5.png\", \"Go\"),\n",
    "    ]\n",
    "    \n",
    "    for image_file, answer in test_set:\n",
    "        image_path = work_dir + '/' + image_file\n",
    "        pred = func(image_path)\n",
    "        if pred == answer:\n",
    "            score += 10\n",
    "    print(f\"{score}점입니다.\")\n",
    "\n",
    "test_system(self_drive_assist)"
   ]
  },
  {
   "cell_type": "markdown",
   "id": "surprised-murray",
   "metadata": {},
   "source": [
    "## Rubric\n",
    "\n",
    "||**평가 문항**|**상세 기준**|\n",
    "|:--------|:--------|:--------|\n",
    "|**1**|KITTI 데이터셋에 대한 분석이 체계적으로 진행되었다.|KITTI 데이터셋 구조와 내용을 파악하고 이를 토대로 필요한 데이터셋 가공을 정상 진행하였다.|\n",
    "|**2**|RetinaNet 학습이 정상적으로 진행되어 object detection 결과의 시각화까지 진행되었다.|바운딩박스가 정확히 표시된 시각화된 이미지를 생성하였다.|\n",
    "|**3**|자율주행 Object Detection 테스트시스템 적용결과 만족스러운 정확도 성능을 달성하였다.|테스트 수행결과 90% 이상의 정확도를 보였다.|"
   ]
  },
  {
   "cell_type": "markdown",
   "id": "destroyed-trunk",
   "metadata": {},
   "source": [
    "## 회고\n",
    "\n",
    "#### 알게 된 점\n",
    "\n",
    "\n",
    "#### 느낀 점"
   ]
  },
  {
   "cell_type": "code",
   "execution_count": null,
   "id": "necessary-interval",
   "metadata": {},
   "outputs": [],
   "source": []
  }
 ],
 "metadata": {
  "kernelspec": {
   "display_name": "Python 3",
   "language": "python",
   "name": "python3"
  },
  "language_info": {
   "codemirror_mode": {
    "name": "ipython",
    "version": 3
   },
   "file_extension": ".py",
   "mimetype": "text/x-python",
   "name": "python",
   "nbconvert_exporter": "python",
   "pygments_lexer": "ipython3",
   "version": "3.7.9"
  }
 },
 "nbformat": 4,
 "nbformat_minor": 5
}
