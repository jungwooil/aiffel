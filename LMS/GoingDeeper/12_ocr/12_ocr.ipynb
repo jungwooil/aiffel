{
 "cells": [
  {
   "cell_type": "markdown",
   "id": "young-elizabeth",
   "metadata": {},
   "source": [
    "# 프로젝트: End-to-End OCR"
   ]
  },
  {
   "cell_type": "markdown",
   "id": "advisory-release",
   "metadata": {},
   "source": [
    "### 실습목표\n",
    "---\n",
    "1. Text Recognition 모델을 직접 구현해 봅니다.\n",
    "2. Text Recognition 모델 학습을 진행해 봅니다.\n",
    "3. Text Detection 모델과 연결하여 전체 OCR 시스템을 구현합니다.\n",
    "\n",
    "## 목차\n",
    "[1. Recognition model](#1.-Recognition-model)   \n",
    "- [(1) Input Image](#(1)-Input-Image)  \n",
    "- [(2) Encode](#(2)-Encode)  \n",
    "- [(3) Build CRNN model](#(3)-Build-CRNN-model)  \n",
    "- [(4) Train & Inference](#(4)-Train-&-Inference)  \n",
    "\n",
    "[2. 프로젝트: End-to-End OCR](#2.-프로젝트:-End-to-End-OCR)  \n",
    "[Rubric](#Rubric)"
   ]
  },
  {
   "cell_type": "markdown",
   "id": "radical-messaging",
   "metadata": {},
   "source": [
    "#### 라이브러리 import"
   ]
  },
  {
   "cell_type": "code",
   "execution_count": 1,
   "id": "norman-treat",
   "metadata": {},
   "outputs": [
    {
     "name": "stdout",
     "output_type": "stream",
     "text": [
      "The total number of characters is 36\n"
     ]
    }
   ],
   "source": [
    "NUMBERS = \"0123456789\"\n",
    "ENG_CHAR_UPPER = \"ABCDEFGHIJKLMNOPQRSTUVWXYZ\"\n",
    "TARGET_CHARACTERS = ENG_CHAR_UPPER + NUMBERS\n",
    "print(f\"The total number of characters is {len(TARGET_CHARACTERS)}\")"
   ]
  },
  {
   "cell_type": "code",
   "execution_count": 2,
   "id": "valuable-seating",
   "metadata": {},
   "outputs": [
    {
     "name": "stdout",
     "output_type": "stream",
     "text": [
      "/aiffel/aiffel/ocr/data/MJ/MJ_train\n"
     ]
    }
   ],
   "source": [
    "import re\n",
    "import six\n",
    "import math\n",
    "import lmdb\n",
    "import os\n",
    "import numpy as np\n",
    "import tensorflow as tf\n",
    "\n",
    "from PIL import Image\n",
    "\n",
    "from tensorflow.keras import layers\n",
    "from tensorflow.keras.models import Model\n",
    "from tensorflow.keras.utils import Sequence\n",
    "from tensorflow.keras import backend as K\n",
    "from tensorflow.keras.models import load_model\n",
    "\n",
    "BATCH_SIZE = 128\n",
    "HOME_DIR = os.getenv('HOME')+'/aiffel/ocr'\n",
    "\n",
    "TRAIN_DATA_PATH = HOME_DIR+'/data/MJ/MJ_train'\n",
    "VALID_DATA_PATH = HOME_DIR+'/data/MJ/MJ_valid'\n",
    "TEST_DATA_PATH = HOME_DIR+'/data/MJ/MJ_test'\n",
    "\n",
    "print(TRAIN_DATA_PATH)"
   ]
  },
  {
   "cell_type": "markdown",
   "id": "painted-dancing",
   "metadata": {},
   "source": [
    "## 1. Recognition model\n",
    "\n",
    "### (1) Input Image"
   ]
  },
  {
   "cell_type": "code",
   "execution_count": 3,
   "id": "integrated-fashion",
   "metadata": {},
   "outputs": [
    {
     "name": "stdout",
     "output_type": "stream",
     "text": [
      "original image width:72, height:31\n",
      "target_img_size:(74, 32)\n",
      "display img shape:(74, 32, 3)\n",
      "label:Lube\n"
     ]
    },
    {
     "data": {
      "image/png": "[encoded data removed]",
      "text/plain": [
       "<PIL.Image.Image image mode=RGB size=74x32 at 0x7F9A0AA9AC90>"
      ]
     },
     "metadata": {},
     "output_type": "display_data"
    },
    {
     "name": "stdout",
     "output_type": "stream",
     "text": [
      "original image width:82, height:31\n",
      "target_img_size:(84, 32)\n",
      "display img shape:(84, 32, 3)\n",
      "label:Spencerian\n"
     ]
    },
    {
     "data": {
      "image/png": "[encoded data removed]",
      "text/plain": [
       "<PIL.Image.Image image mode=RGB size=84x32 at 0x7F9F5BB1CE10>"
      ]
     },
     "metadata": {},
     "output_type": "display_data"
    },
    {
     "name": "stdout",
     "output_type": "stream",
     "text": [
      "original image width:115, height:31\n",
      "target_img_size:(100, 32)\n",
      "display img shape:(100, 32, 3)\n",
      "label:accommodatingly\n"
     ]
    },
    {
     "data": {
      "image/png": "[encoded data removed]",
      "text/plain": [
       "<PIL.Image.Image image mode=RGB size=100x32 at 0x7F9F5BB1CE10>"
      ]
     },
     "metadata": {},
     "output_type": "display_data"
    },
    {
     "name": "stdout",
     "output_type": "stream",
     "text": [
      "original image width:140, height:31\n",
      "target_img_size:(100, 32)\n",
      "display img shape:(100, 32, 3)\n",
      "label:CARPENTER\n"
     ]
    },
    {
     "data": {
      "image/png": "[encoded data removed]",
      "text/plain": [
       "<PIL.Image.Image image mode=RGB size=100x32 at 0x7F9F5BB46E10>"
      ]
     },
     "metadata": {},
     "output_type": "display_data"
    }
   ],
   "source": [
    "from IPython.display import display\n",
    "\n",
    "env = lmdb.open(TRAIN_DATA_PATH, \n",
    "                max_readers=32, \n",
    "                readonly=True, \n",
    "                lock=False, \n",
    "                readahead=False, \n",
    "                meminit=False)\n",
    "\n",
    "with env.begin(write=False) as txn:\n",
    "    for index in range(1, 5):\n",
    "        label_key = 'label-%09d'.encode() % index\n",
    "        label = txn.get(label_key).decode('utf-8')\n",
    "        img_key = 'image-%09d'.encode() % index\n",
    "        imgbuf = txn.get(img_key)\n",
    "        buf = six.BytesIO()\n",
    "        buf.write(imgbuf)\n",
    "        buf.seek(0)\n",
    "\n",
    "        try:\n",
    "            img = Image.open(buf).convert('RGB')\n",
    "\n",
    "        except IOError:\n",
    "            img = Image.new('RGB', (100, 32))\n",
    "            label = '-'\n",
    "\n",
    "        width, height = img.size\n",
    "        print('original image width:{}, height:{}'.format(width, height))\n",
    "        \n",
    "        target_width = min(int(width*32/height), 100)\n",
    "        target_img_size = (target_width,32)        \n",
    "        print('target_img_size:{}'.format(target_img_size))        \n",
    "        img = np.array(img.resize(target_img_size)).transpose(1,0,2)\n",
    "  \n",
    "        print('display img shape:{}'.format(img.shape))\n",
    "        print('label:{}'.format(label))\n",
    "        display(Image.fromarray(img.transpose(1,0,2).astype(np.uint8)))"
   ]
  },
  {
   "cell_type": "markdown",
   "id": "superb-password",
   "metadata": {},
   "source": [
    "#### lmdb를 활용하여 케라스 모델 학습용 `MJSynth`데이터셋 클래스 구현"
   ]
  },
  {
   "cell_type": "code",
   "execution_count": 4,
   "id": "czech-manchester",
   "metadata": {},
   "outputs": [],
   "source": [
    "class MJDatasetSequence(Sequence):\n",
    "    def __init__(self, \n",
    "                 dataset_path,\n",
    "                 label_converter,\n",
    "                 batch_size=1,\n",
    "                 img_size=(100,32),\n",
    "                 max_text_len=22,\n",
    "                 is_train=False,\n",
    "                 character='') :\n",
    "        \n",
    "        self.label_converter = label_converter\n",
    "        self.batch_size = batch_size\n",
    "        self.img_size = img_size\n",
    "        self.max_text_len = max_text_len\n",
    "        self.character = character\n",
    "        self.is_train = is_train\n",
    "        self.divide_length = 100\n",
    "\n",
    "        self.env = lmdb.open(dataset_path, max_readers=32, readonly=True, lock=False, readahead=False, meminit=False)\n",
    "        with self.env.begin(write=False) as txn:\n",
    "            self.num_samples = int(txn.get('num-samples'.encode()))\n",
    "            self.index_list = [index + 1 for index in range(self.num_samples)]\n",
    "        \n",
    "\n",
    "    def __len__(self):\n",
    "        return math.ceil(self.num_samples/self.batch_size/self.divide_length)\n",
    "\n",
    "    def _get_img_label(self, index):\n",
    "        with self.env.begin(write=False) as txn:\n",
    "            label_key = 'label-%09d'.encode() % index\n",
    "            label = txn.get(label_key).decode('utf-8')\n",
    "            img_key = 'image-%09d'.encode() % index\n",
    "            imgbuf = txn.get(img_key)\n",
    "\n",
    "            buf = six.BytesIO()\n",
    "            buf.write(imgbuf)\n",
    "            buf.seek(0)\n",
    "            try:\n",
    "                img = Image.open(buf).convert('RGB')\n",
    "\n",
    "            except IOError:\n",
    "                img = Image.new('RGB', self.img_size)\n",
    "                label = '-'\n",
    "            width, height = img.size\n",
    "            \n",
    "            target_width = min(int(width*self.img_size[1]/height), self.img_size[0])\n",
    "            target_img_size = (target_width, self.img_size[1])\n",
    "            img = np.array(img.resize(target_img_size)).transpose(1,0,2)\n",
    "            label = label.upper()\n",
    "            out_of_char = f'[^{self.character}]'\n",
    "            label = re.sub(out_of_char, '', label)\n",
    "            label = label[:self.max_text_len]\n",
    "\n",
    "        return (img, label)\n",
    "    \n",
    "    def __getitem__(self, idx):\n",
    "        # 1.\n",
    "        batch_indicies = self.index_list[\n",
    "            idx*self.batch_size:\n",
    "            (idx+1)*self.batch_size\n",
    "        ]\n",
    "        input_images = np.zeros([self.batch_size, *self.img_size, 3])\n",
    "        labels = np.zeros([self.batch_size, self.max_text_len], dtype='int64')\n",
    "\n",
    "        input_length = np.ones([self.batch_size], dtype='int64') * self.max_text_len\n",
    "        label_length = np.ones([self.batch_size], dtype='int64')\n",
    "\n",
    "        # 2.\n",
    "        for i, index in enumerate(batch_indicies):\n",
    "            img, label = self._get_img_label(index)\n",
    "            encoded_label = self.label_converter.encode(label)\n",
    "            if len(encoded_label) > self.max_text_len:\n",
    "                continue\n",
    "            width = img.shape[0]\n",
    "            input_images[i,:width,:,:] = img\n",
    "            labels[i,0:len(encoded_label)] = encoded_label\n",
    "            label_length[i] = len(encoded_label)\n",
    "        \n",
    "        # 3.\n",
    "        inputs = {\n",
    "            'input_image': input_images,\n",
    "            'label': labels,\n",
    "            'input_length': input_length,\n",
    "            'label_length': label_length,\n",
    "        }\n",
    "        outputs = {'ctc': np.zeros([self.batch_size, 1])}\n",
    "\n",
    "        return inputs, outputs\n",
    "    \n",
    "    def on_epoch_end(self):\n",
    "        self.index_list =  [index + 1 for index in range(self.num_samples)]\n",
    "        if self.is_train :\n",
    "            np.random.shuffle(self.index_list)\n",
    "            return self.index_list"
   ]
  },
  {
   "cell_type": "markdown",
   "id": "reflected-tuesday",
   "metadata": {},
   "source": [
    "### (2) Encode"
   ]
  },
  {
   "cell_type": "code",
   "execution_count": 5,
   "id": "resistant-closure",
   "metadata": {},
   "outputs": [],
   "source": [
    "class LabelConverter(object):\n",
    "\n",
    "     def __init__(self, character):\n",
    "         self.character = \"-\" + character\n",
    "         self.label_map = dict()\n",
    "         for i, char in enumerate(self.character):\n",
    "             self.label_map[char] = i\n",
    "\n",
    "     def encode(self, text):\n",
    "         encoded_label = []\n",
    "         for i, char in enumerate(text):\n",
    "            if i > 0 and char == text[i-1]:\n",
    "                encoded_label.append(0) # 같은 문자 사이에 공백 문자 label 삽입\n",
    "            encoded_label.append(self.label_map[char])\n",
    "         return np.array(encoded_label)\n",
    "\n",
    "     def decode(self, encoded_label):\n",
    "         target_characters = list(self.character)\n",
    "         decoded_label = \"\"\n",
    "         for encode in encoded_label:\n",
    "             decoded_label += self.character[encode]\n",
    "         return decoded_label"
   ]
  },
  {
   "cell_type": "markdown",
   "id": "painted-inspiration",
   "metadata": {},
   "source": [
    "#### 'HELLO'를 Encode한 후 Decode가 정상적으로 되는지 확인"
   ]
  },
  {
   "cell_type": "code",
   "execution_count": 6,
   "id": "moderate-refrigerator",
   "metadata": {},
   "outputs": [
    {
     "name": "stdout",
     "output_type": "stream",
     "text": [
      "Encdoded_text:  [ 8  5 12  0 12 15]\n",
      "Decoded_text:  HEL-LO\n"
     ]
    }
   ],
   "source": [
    "label_converter = LabelConverter(TARGET_CHARACTERS)\n",
    "\n",
    "encdoded_text = label_converter.encode('HELLO')\n",
    "print(\"Encdoded_text: \", encdoded_text)\n",
    "decoded_text = label_converter.decode(encdoded_text)\n",
    "print(\"Decoded_text: \", decoded_text)"
   ]
  },
  {
   "cell_type": "markdown",
   "id": "silent-shame",
   "metadata": {},
   "source": [
    "### (3) Build CRNN model"
   ]
  },
  {
   "cell_type": "code",
   "execution_count": 7,
   "id": "parliamentary-sustainability",
   "metadata": {},
   "outputs": [],
   "source": [
    "def ctc_lambda_func(args): # CTC loss를 계산하기 위한 Lambda 함수\n",
    "    labels, y_pred, label_length, input_length = args\n",
    "    y_pred = y_pred[:, 2:, :]\n",
    "    return K.ctc_batch_cost(labels, y_pred, input_length, label_length)"
   ]
  },
  {
   "cell_type": "code",
   "execution_count": 8,
   "id": "flying-newman",
   "metadata": {},
   "outputs": [],
   "source": [
    "def build_crnn_model(input_shape=(100,32,3), characters=TARGET_CHARACTERS):\n",
    "    num_chars = len(characters)+2\n",
    "    image_input = layers.Input(shape=input_shape, dtype='float32', name='input_image')\n",
    "    \n",
    "    # Build CRNN model\n",
    "    conv = layers.Conv2D(64, (3, 3), activation='relu', padding='same', kernel_initializer='he_normal')(image_input)\n",
    "    conv = layers.MaxPooling2D(pool_size=(2, 2))(conv)\n",
    "    conv = layers.Conv2D(128, (3, 3), activation='relu', padding='same', kernel_initializer='he_normal')(conv)\n",
    "    conv = layers.MaxPooling2D(pool_size=(2, 2))(conv)\n",
    "    conv = layers.Conv2D(256, (3, 3), activation='relu', padding='same', kernel_initializer='he_normal')(conv)\n",
    "    conv = layers.Conv2D(256, (3, 3), activation='relu', padding='same', kernel_initializer='he_normal')(conv)\n",
    "    conv = layers.MaxPooling2D(pool_size=(1, 2))(conv)\n",
    "    conv = layers.Conv2D(512, (3, 3), activation='relu', padding='same', kernel_initializer='he_normal')(conv)\n",
    "    conv = layers.BatchNormalization()(conv)\n",
    "    conv = layers.Conv2D(512, (3, 3), activation='relu', padding='same', kernel_initializer='he_normal')(conv)\n",
    "    conv = layers.BatchNormalization()(conv)\n",
    "    conv = layers.MaxPooling2D(pool_size=(1, 2))(conv)\n",
    "    feature = layers.Conv2D(512, (2, 2), activation='relu', kernel_initializer='he_normal')(conv)\n",
    "    sequence = layers.Reshape(target_shape=(24, 512))(feature)\n",
    "    sequence = layers.Dense(64, activation='relu')(sequence)\n",
    "    sequence = layers.Bidirectional(layers.LSTM(256, return_sequences=True))(sequence)\n",
    "    sequence = layers.Bidirectional(layers.LSTM(256, return_sequences=True))(sequence)\n",
    "    y_pred = layers.Dense(num_chars, activation='softmax', name='output')(sequence)\n",
    "\n",
    "    labels = layers.Input(shape=[22], dtype='int64', name='label')\n",
    "    input_length = layers.Input(shape=[1], dtype='int64', name='input_length')\n",
    "    label_length = layers.Input(shape=[1], dtype='int64', name='label_length')\n",
    "    loss_out = layers.Lambda(ctc_lambda_func, output_shape=(1,), name=\"ctc\")(\n",
    "        [labels, y_pred, label_length, input_length]\n",
    "    )\n",
    "    model_input = [image_input, labels, input_length, label_length]\n",
    "    model = Model(\n",
    "        inputs=model_input,\n",
    "        outputs=loss_out\n",
    "    )\n",
    "    y_func = tf.keras.backend.function(image_input, [y_pred])\n",
    "    \n",
    "    return model, y_func"
   ]
  },
  {
   "cell_type": "markdown",
   "id": "selective-windsor",
   "metadata": {},
   "source": [
    "### (4) Train & Inference\n",
    "\n",
    "#### 이제 앞에서 정의한 `MJDatasetSequence`로 데이터를 적절히 분리하여 구성된 데이터셋을 통해 학습"
   ]
  },
  {
   "cell_type": "code",
   "execution_count": 9,
   "id": "hazardous-genius",
   "metadata": {},
   "outputs": [],
   "source": [
    "train_set = MJDatasetSequence(TRAIN_DATA_PATH, label_converter, batch_size=BATCH_SIZE, character=TARGET_CHARACTERS, is_train=True)\n",
    "val_set = MJDatasetSequence(VALID_DATA_PATH, label_converter, batch_size=BATCH_SIZE, character=TARGET_CHARACTERS)\n",
    "model = build_crnn_model()\n",
    "\n",
    "model, y_func = build_crnn_model()\n",
    "optimizer = tf.keras.optimizers.Adadelta(lr=0.1, clipnorm=5)\n",
    "model.compile(loss={'ctc': lambda y_true, y_pred: y_pred}, optimizer=optimizer)"
   ]
  },
  {
   "cell_type": "code",
   "execution_count": 10,
   "id": "aerial-married",
   "metadata": {},
   "outputs": [],
   "source": [
    "checkpoint_path = HOME_DIR + '/model_checkpoint.hdf5'\n",
    "ckp = tf.keras.callbacks.ModelCheckpoint(\n",
    "    checkpoint_path, monitor='val_loss',\n",
    "    verbose=1, save_best_only=True, save_weights_only=True\n",
    ")"
   ]
  },
  {
   "cell_type": "code",
   "execution_count": 10,
   "id": "fatal-swift",
   "metadata": {
    "scrolled": true
   },
   "outputs": [
    {
     "name": "stdout",
     "output_type": "stream",
     "text": [
      "Epoch 1/100\n",
      "565/565 [==============================] - 179s 275ms/step - loss: 27.5564 - val_loss: 24.4633\n",
      "\n",
      "Epoch 00001: val_loss improved from inf to 24.46334, saving model to /aiffel/aiffel/ocr/model_checkpoint.hdf5\n",
      "Epoch 2/100\n",
      "565/565 [==============================] - 276s 487ms/step - loss: 17.4192 - val_loss: 9.3758\n",
      "\n",
      "Epoch 00002: val_loss improved from 24.46334 to 9.37579, saving model to /aiffel/aiffel/ocr/model_checkpoint.hdf5\n",
      "Epoch 3/100\n",
      "565/565 [==============================] - 193s 341ms/step - loss: 7.6590 - val_loss: 6.1422\n",
      "\n",
      "Epoch 00003: val_loss improved from 9.37579 to 6.14219, saving model to /aiffel/aiffel/ocr/model_checkpoint.hdf5\n",
      "Epoch 4/100\n",
      "565/565 [==============================] - 170s 301ms/step - loss: 5.6717 - val_loss: 5.4433\n",
      "\n",
      "Epoch 00004: val_loss improved from 6.14219 to 5.44330, saving model to /aiffel/aiffel/ocr/model_checkpoint.hdf5\n",
      "Epoch 5/100\n",
      "565/565 [==============================] - 162s 286ms/step - loss: 4.7105 - val_loss: 4.5106\n",
      "\n",
      "Epoch 00005: val_loss improved from 5.44330 to 4.51065, saving model to /aiffel/aiffel/ocr/model_checkpoint.hdf5\n",
      "Epoch 6/100\n",
      "565/565 [==============================] - 159s 282ms/step - loss: 4.1064 - val_loss: 4.0623\n",
      "\n",
      "Epoch 00006: val_loss improved from 4.51065 to 4.06232, saving model to /aiffel/aiffel/ocr/model_checkpoint.hdf5\n",
      "Epoch 7/100\n",
      "565/565 [==============================] - 159s 281ms/step - loss: 3.7481 - val_loss: 3.6433\n",
      "\n",
      "Epoch 00007: val_loss improved from 4.06232 to 3.64335, saving model to /aiffel/aiffel/ocr/model_checkpoint.hdf5\n",
      "Epoch 8/100\n",
      "565/565 [==============================] - 158s 279ms/step - loss: 3.4456 - val_loss: 3.4233\n",
      "\n",
      "Epoch 00008: val_loss improved from 3.64335 to 3.42328, saving model to /aiffel/aiffel/ocr/model_checkpoint.hdf5\n",
      "Epoch 9/100\n",
      "565/565 [==============================] - 156s 275ms/step - loss: 3.2104 - val_loss: 3.2575\n",
      "\n",
      "Epoch 00009: val_loss improved from 3.42328 to 3.25752, saving model to /aiffel/aiffel/ocr/model_checkpoint.hdf5\n",
      "Epoch 10/100\n",
      "565/565 [==============================] - 156s 275ms/step - loss: 3.0561 - val_loss: 3.0118\n",
      "\n",
      "Epoch 00010: val_loss improved from 3.25752 to 3.01182, saving model to /aiffel/aiffel/ocr/model_checkpoint.hdf5\n",
      "Epoch 11/100\n",
      "565/565 [==============================] - 155s 274ms/step - loss: 2.8251 - val_loss: 2.7867\n",
      "\n",
      "Epoch 00011: val_loss improved from 3.01182 to 2.78668, saving model to /aiffel/aiffel/ocr/model_checkpoint.hdf5\n",
      "Epoch 12/100\n",
      "565/565 [==============================] - 155s 274ms/step - loss: 2.7135 - val_loss: 2.7936\n",
      "\n",
      "Epoch 00012: val_loss did not improve from 2.78668\n",
      "Epoch 13/100\n",
      "565/565 [==============================] - 156s 275ms/step - loss: 2.6724 - val_loss: 2.6519\n",
      "\n",
      "Epoch 00013: val_loss improved from 2.78668 to 2.65190, saving model to /aiffel/aiffel/ocr/model_checkpoint.hdf5\n",
      "Epoch 14/100\n",
      "565/565 [==============================] - 154s 273ms/step - loss: 2.5393 - val_loss: 2.6180\n",
      "\n",
      "Epoch 00014: val_loss improved from 2.65190 to 2.61796, saving model to /aiffel/aiffel/ocr/model_checkpoint.hdf5\n",
      "Epoch 15/100\n",
      "565/565 [==============================] - 155s 274ms/step - loss: 2.4837 - val_loss: 2.4165\n",
      "\n",
      "Epoch 00015: val_loss improved from 2.61796 to 2.41649, saving model to /aiffel/aiffel/ocr/model_checkpoint.hdf5\n",
      "Epoch 16/100\n",
      "565/565 [==============================] - 155s 274ms/step - loss: 2.3484 - val_loss: 2.4158\n",
      "\n",
      "Epoch 00016: val_loss improved from 2.41649 to 2.41585, saving model to /aiffel/aiffel/ocr/model_checkpoint.hdf5\n",
      "Epoch 17/100\n",
      "565/565 [==============================] - 154s 273ms/step - loss: 2.3398 - val_loss: 2.3493\n",
      "\n",
      "Epoch 00017: val_loss improved from 2.41585 to 2.34930, saving model to /aiffel/aiffel/ocr/model_checkpoint.hdf5\n",
      "Epoch 18/100\n",
      "565/565 [==============================] - 154s 272ms/step - loss: 2.1833 - val_loss: 2.3297\n",
      "\n",
      "Epoch 00018: val_loss improved from 2.34930 to 2.32966, saving model to /aiffel/aiffel/ocr/model_checkpoint.hdf5\n",
      "Epoch 19/100\n",
      "565/565 [==============================] - 155s 274ms/step - loss: 2.2046 - val_loss: 2.2760\n",
      "\n",
      "Epoch 00019: val_loss improved from 2.32966 to 2.27601, saving model to /aiffel/aiffel/ocr/model_checkpoint.hdf5\n",
      "Epoch 20/100\n",
      "565/565 [==============================] - 155s 273ms/step - loss: 2.1027 - val_loss: 2.1632\n",
      "\n",
      "Epoch 00020: val_loss improved from 2.27601 to 2.16316, saving model to /aiffel/aiffel/ocr/model_checkpoint.hdf5\n",
      "Epoch 21/100\n",
      "565/565 [==============================] - 155s 274ms/step - loss: 2.0629 - val_loss: 2.2390\n",
      "\n",
      "Epoch 00021: val_loss did not improve from 2.16316\n",
      "Epoch 22/100\n",
      "565/565 [==============================] - 154s 273ms/step - loss: 2.0338 - val_loss: 2.1562\n",
      "\n",
      "Epoch 00022: val_loss improved from 2.16316 to 2.15615, saving model to /aiffel/aiffel/ocr/model_checkpoint.hdf5\n",
      "Epoch 23/100\n",
      "565/565 [==============================] - 154s 272ms/step - loss: 2.0038 - val_loss: 2.0795\n",
      "\n",
      "Epoch 00023: val_loss improved from 2.15615 to 2.07947, saving model to /aiffel/aiffel/ocr/model_checkpoint.hdf5\n",
      "Epoch 24/100\n",
      "565/565 [==============================] - 154s 273ms/step - loss: 1.9414 - val_loss: 2.0065\n",
      "\n",
      "Epoch 00024: val_loss improved from 2.07947 to 2.00652, saving model to /aiffel/aiffel/ocr/model_checkpoint.hdf5\n",
      "Epoch 25/100\n",
      "565/565 [==============================] - 154s 273ms/step - loss: 1.9189 - val_loss: 1.9449\n",
      "\n",
      "Epoch 00025: val_loss improved from 2.00652 to 1.94491, saving model to /aiffel/aiffel/ocr/model_checkpoint.hdf5\n",
      "Epoch 26/100\n",
      "565/565 [==============================] - 154s 272ms/step - loss: 1.9055 - val_loss: 1.9349\n",
      "\n",
      "Epoch 00026: val_loss improved from 1.94491 to 1.93486, saving model to /aiffel/aiffel/ocr/model_checkpoint.hdf5\n",
      "Epoch 27/100\n",
      "565/565 [==============================] - 154s 272ms/step - loss: 1.8188 - val_loss: 1.8765\n",
      "\n",
      "Epoch 00027: val_loss improved from 1.93486 to 1.87648, saving model to /aiffel/aiffel/ocr/model_checkpoint.hdf5\n",
      "Epoch 28/100\n",
      "565/565 [==============================] - 155s 273ms/step - loss: 1.8393 - val_loss: 1.8622\n",
      "\n",
      "Epoch 00028: val_loss improved from 1.87648 to 1.86224, saving model to /aiffel/aiffel/ocr/model_checkpoint.hdf5\n",
      "Epoch 29/100\n",
      "565/565 [==============================] - 154s 272ms/step - loss: 1.8330 - val_loss: 1.8379\n",
      "\n",
      "Epoch 00029: val_loss improved from 1.86224 to 1.83792, saving model to /aiffel/aiffel/ocr/model_checkpoint.hdf5\n",
      "Epoch 30/100\n",
      "565/565 [==============================] - 154s 272ms/step - loss: 1.7256 - val_loss: 1.8242\n",
      "\n",
      "Epoch 00030: val_loss improved from 1.83792 to 1.82420, saving model to /aiffel/aiffel/ocr/model_checkpoint.hdf5\n",
      "Epoch 31/100\n",
      "565/565 [==============================] - 156s 275ms/step - loss: 1.7346 - val_loss: 1.7955\n",
      "\n",
      "Epoch 00031: val_loss improved from 1.82420 to 1.79550, saving model to /aiffel/aiffel/ocr/model_checkpoint.hdf5\n",
      "Epoch 32/100\n",
      "565/565 [==============================] - 154s 272ms/step - loss: 1.6652 - val_loss: 1.7842\n",
      "\n",
      "Epoch 00032: val_loss improved from 1.79550 to 1.78416, saving model to /aiffel/aiffel/ocr/model_checkpoint.hdf5\n",
      "Epoch 33/100\n",
      "565/565 [==============================] - 154s 273ms/step - loss: 1.6545 - val_loss: 1.8094\n",
      "\n",
      "Epoch 00033: val_loss did not improve from 1.78416\n",
      "Epoch 34/100\n",
      "565/565 [==============================] - 154s 273ms/step - loss: 1.7121 - val_loss: 1.7183\n",
      "\n",
      "Epoch 00034: val_loss improved from 1.78416 to 1.71826, saving model to /aiffel/aiffel/ocr/model_checkpoint.hdf5\n",
      "Epoch 35/100\n",
      "565/565 [==============================] - 153s 271ms/step - loss: 1.6724 - val_loss: 1.7039\n",
      "\n",
      "Epoch 00035: val_loss improved from 1.71826 to 1.70386, saving model to /aiffel/aiffel/ocr/model_checkpoint.hdf5\n",
      "Epoch 36/100\n",
      "565/565 [==============================] - 154s 273ms/step - loss: 1.6122 - val_loss: 1.7096\n",
      "\n",
      "Epoch 00036: val_loss did not improve from 1.70386\n",
      "Epoch 37/100\n",
      "565/565 [==============================] - 154s 272ms/step - loss: 1.6290 - val_loss: 1.6740\n",
      "\n",
      "Epoch 00037: val_loss improved from 1.70386 to 1.67395, saving model to /aiffel/aiffel/ocr/model_checkpoint.hdf5\n",
      "Epoch 38/100\n",
      "565/565 [==============================] - 154s 272ms/step - loss: 1.6040 - val_loss: 1.6272\n",
      "\n",
      "Epoch 00038: val_loss improved from 1.67395 to 1.62723, saving model to /aiffel/aiffel/ocr/model_checkpoint.hdf5\n",
      "Epoch 39/100\n",
      "565/565 [==============================] - 154s 272ms/step - loss: 1.5631 - val_loss: 1.6355\n",
      "\n",
      "Epoch 00039: val_loss did not improve from 1.62723\n",
      "Epoch 40/100\n",
      "565/565 [==============================] - 155s 274ms/step - loss: 1.5143 - val_loss: 1.6035\n",
      "\n",
      "Epoch 00040: val_loss improved from 1.62723 to 1.60346, saving model to /aiffel/aiffel/ocr/model_checkpoint.hdf5\n",
      "Epoch 41/100\n",
      "565/565 [==============================] - 154s 272ms/step - loss: 1.5216 - val_loss: 1.6204\n",
      "\n",
      "Epoch 00041: val_loss did not improve from 1.60346\n",
      "Epoch 42/100\n",
      "565/565 [==============================] - 154s 273ms/step - loss: 1.5003 - val_loss: 1.6365\n",
      "\n",
      "Epoch 00042: val_loss did not improve from 1.60346\n",
      "Epoch 43/100\n",
      "565/565 [==============================] - 154s 272ms/step - loss: 1.5267 - val_loss: 1.5410\n",
      "\n",
      "Epoch 00043: val_loss improved from 1.60346 to 1.54099, saving model to /aiffel/aiffel/ocr/model_checkpoint.hdf5\n",
      "Epoch 44/100\n",
      "565/565 [==============================] - 154s 273ms/step - loss: 1.4955 - val_loss: 1.5437\n",
      "\n",
      "Epoch 00044: val_loss did not improve from 1.54099\n",
      "Epoch 45/100\n",
      "565/565 [==============================] - 154s 272ms/step - loss: 1.4363 - val_loss: 1.5292\n",
      "\n",
      "Epoch 00045: val_loss improved from 1.54099 to 1.52917, saving model to /aiffel/aiffel/ocr/model_checkpoint.hdf5\n",
      "Epoch 46/100\n",
      "565/565 [==============================] - 154s 272ms/step - loss: 1.4506 - val_loss: 1.5489\n",
      "\n",
      "Epoch 00046: val_loss did not improve from 1.52917\n",
      "Epoch 47/100\n",
      "565/565 [==============================] - 155s 275ms/step - loss: 1.4353 - val_loss: 1.5002\n",
      "\n",
      "Epoch 00047: val_loss improved from 1.52917 to 1.50020, saving model to /aiffel/aiffel/ocr/model_checkpoint.hdf5\n",
      "Epoch 48/100\n",
      "565/565 [==============================] - 154s 273ms/step - loss: 1.4276 - val_loss: 1.4934\n",
      "\n",
      "Epoch 00048: val_loss improved from 1.50020 to 1.49337, saving model to /aiffel/aiffel/ocr/model_checkpoint.hdf5\n",
      "Epoch 49/100\n",
      "565/565 [==============================] - 154s 272ms/step - loss: 1.4116 - val_loss: 1.5126\n",
      "\n",
      "Epoch 00049: val_loss did not improve from 1.49337\n",
      "Epoch 50/100\n",
      "565/565 [==============================] - 154s 272ms/step - loss: 1.4292 - val_loss: 1.4824\n",
      "\n",
      "Epoch 00050: val_loss improved from 1.49337 to 1.48238, saving model to /aiffel/aiffel/ocr/model_checkpoint.hdf5\n",
      "Epoch 51/100\n",
      "565/565 [==============================] - 154s 273ms/step - loss: 1.3833 - val_loss: 1.4471\n",
      "\n",
      "Epoch 00051: val_loss improved from 1.48238 to 1.44711, saving model to /aiffel/aiffel/ocr/model_checkpoint.hdf5\n",
      "Epoch 52/100\n",
      "565/565 [==============================] - 154s 273ms/step - loss: 1.3670 - val_loss: 1.4379\n",
      "\n",
      "Epoch 00052: val_loss improved from 1.44711 to 1.43790, saving model to /aiffel/aiffel/ocr/model_checkpoint.hdf5\n",
      "Epoch 53/100\n",
      "565/565 [==============================] - 154s 273ms/step - loss: 1.3643 - val_loss: 1.4531\n",
      "\n",
      "Epoch 00053: val_loss did not improve from 1.43790\n",
      "Epoch 54/100\n",
      "565/565 [==============================] - 155s 273ms/step - loss: 1.3521 - val_loss: 1.3891\n",
      "\n",
      "Epoch 00054: val_loss improved from 1.43790 to 1.38913, saving model to /aiffel/aiffel/ocr/model_checkpoint.hdf5\n",
      "Epoch 55/100\n",
      "565/565 [==============================] - 154s 272ms/step - loss: 1.3338 - val_loss: 1.4107\n",
      "\n",
      "Epoch 00055: val_loss did not improve from 1.38913\n",
      "Epoch 56/100\n",
      "565/565 [==============================] - 154s 273ms/step - loss: 1.3639 - val_loss: 1.3818\n",
      "\n",
      "Epoch 00056: val_loss improved from 1.38913 to 1.38179, saving model to /aiffel/aiffel/ocr/model_checkpoint.hdf5\n",
      "Epoch 57/100\n",
      "565/565 [==============================] - 154s 273ms/step - loss: 1.3222 - val_loss: 1.3890\n",
      "\n",
      "Epoch 00057: val_loss did not improve from 1.38179\n",
      "Epoch 58/100\n",
      "565/565 [==============================] - 154s 272ms/step - loss: 1.3291 - val_loss: 1.3885\n",
      "\n",
      "Epoch 00058: val_loss did not improve from 1.38179\n",
      "Epoch 59/100\n",
      "565/565 [==============================] - 154s 272ms/step - loss: 1.3336 - val_loss: 1.3549\n",
      "\n",
      "Epoch 00059: val_loss improved from 1.38179 to 1.35493, saving model to /aiffel/aiffel/ocr/model_checkpoint.hdf5\n",
      "Epoch 60/100\n",
      "565/565 [==============================] - 154s 273ms/step - loss: 1.3137 - val_loss: 1.3546\n",
      "\n",
      "Epoch 00060: val_loss improved from 1.35493 to 1.35459, saving model to /aiffel/aiffel/ocr/model_checkpoint.hdf5\n",
      "Epoch 61/100\n",
      "565/565 [==============================] - 154s 273ms/step - loss: 1.2727 - val_loss: 1.3553\n",
      "\n",
      "Epoch 00061: val_loss did not improve from 1.35459\n",
      "Epoch 62/100\n",
      "565/565 [==============================] - 154s 273ms/step - loss: 1.2739 - val_loss: 1.3635\n",
      "\n",
      "Epoch 00062: val_loss did not improve from 1.35459\n",
      "Epoch 63/100\n",
      "565/565 [==============================] - 155s 274ms/step - loss: 1.2747 - val_loss: 1.3481\n",
      "\n",
      "Epoch 00063: val_loss improved from 1.35459 to 1.34809, saving model to /aiffel/aiffel/ocr/model_checkpoint.hdf5\n",
      "Epoch 64/100\n",
      "565/565 [==============================] - 155s 273ms/step - loss: 1.2475 - val_loss: 1.3447\n",
      "\n",
      "Epoch 00064: val_loss improved from 1.34809 to 1.34472, saving model to /aiffel/aiffel/ocr/model_checkpoint.hdf5\n",
      "Epoch 65/100\n",
      "565/565 [==============================] - 154s 273ms/step - loss: 1.2693 - val_loss: 1.3384\n",
      "\n",
      "Epoch 00065: val_loss improved from 1.34472 to 1.33841, saving model to /aiffel/aiffel/ocr/model_checkpoint.hdf5\n",
      "Epoch 66/100\n",
      "565/565 [==============================] - 154s 272ms/step - loss: 1.2578 - val_loss: 1.3253\n",
      "\n",
      "Epoch 00066: val_loss improved from 1.33841 to 1.32528, saving model to /aiffel/aiffel/ocr/model_checkpoint.hdf5\n",
      "Epoch 67/100\n",
      "565/565 [==============================] - 154s 273ms/step - loss: 1.2724 - val_loss: 1.2957\n",
      "\n",
      "Epoch 00067: val_loss improved from 1.32528 to 1.29565, saving model to /aiffel/aiffel/ocr/model_checkpoint.hdf5\n",
      "Epoch 68/100\n",
      "565/565 [==============================] - 155s 274ms/step - loss: 1.2280 - val_loss: 1.3451\n",
      "\n",
      "Epoch 00068: val_loss did not improve from 1.29565\n",
      "Epoch 69/100\n",
      "565/565 [==============================] - 154s 273ms/step - loss: 1.2258 - val_loss: 1.2895\n",
      "\n",
      "Epoch 00069: val_loss improved from 1.29565 to 1.28949, saving model to /aiffel/aiffel/ocr/model_checkpoint.hdf5\n",
      "Epoch 70/100\n",
      "565/565 [==============================] - 154s 273ms/step - loss: 1.2194 - val_loss: 1.2909\n",
      "\n",
      "Epoch 00070: val_loss did not improve from 1.28949\n",
      "Epoch 71/100\n",
      "565/565 [==============================] - 155s 274ms/step - loss: 1.2267 - val_loss: 1.3319\n",
      "\n",
      "Epoch 00071: val_loss did not improve from 1.28949\n",
      "Epoch 72/100\n",
      "565/565 [==============================] - 155s 275ms/step - loss: 1.1982 - val_loss: 1.2674\n",
      "\n",
      "Epoch 00072: val_loss improved from 1.28949 to 1.26736, saving model to /aiffel/aiffel/ocr/model_checkpoint.hdf5\n",
      "Epoch 73/100\n",
      "565/565 [==============================] - 155s 273ms/step - loss: 1.1786 - val_loss: 1.2706\n",
      "\n",
      "Epoch 00073: val_loss did not improve from 1.26736\n",
      "Epoch 74/100\n",
      "565/565 [==============================] - 155s 274ms/step - loss: 1.1934 - val_loss: 1.2723\n",
      "\n",
      "Epoch 00074: val_loss did not improve from 1.26736\n",
      "Epoch 75/100\n",
      "565/565 [==============================] - 155s 274ms/step - loss: 1.1705 - val_loss: 1.2396\n",
      "\n",
      "Epoch 00075: val_loss improved from 1.26736 to 1.23956, saving model to /aiffel/aiffel/ocr/model_checkpoint.hdf5\n",
      "Epoch 76/100\n",
      "565/565 [==============================] - 154s 273ms/step - loss: 1.1796 - val_loss: 1.2464\n",
      "\n",
      "Epoch 00076: val_loss did not improve from 1.23956\n",
      "Epoch 77/100\n",
      "565/565 [==============================] - 155s 273ms/step - loss: 1.1805 - val_loss: 1.2775\n",
      "\n",
      "Epoch 00077: val_loss did not improve from 1.23956\n",
      "Epoch 78/100\n",
      "565/565 [==============================] - 154s 273ms/step - loss: 1.1630 - val_loss: 1.2466\n",
      "\n",
      "Epoch 00078: val_loss did not improve from 1.23956\n",
      "Epoch 79/100\n",
      "565/565 [==============================] - 155s 274ms/step - loss: 1.1738 - val_loss: 1.2526\n",
      "\n",
      "Epoch 00079: val_loss did not improve from 1.23956\n",
      "Epoch 80/100\n",
      "565/565 [==============================] - 155s 274ms/step - loss: 1.1229 - val_loss: 1.2476\n",
      "\n",
      "Epoch 00080: val_loss did not improve from 1.23956\n",
      "Epoch 81/100\n",
      "565/565 [==============================] - 154s 273ms/step - loss: 1.1564 - val_loss: 1.2168\n",
      "\n",
      "Epoch 00081: val_loss improved from 1.23956 to 1.21679, saving model to /aiffel/aiffel/ocr/model_checkpoint.hdf5\n",
      "Epoch 82/100\n",
      "565/565 [==============================] - 154s 272ms/step - loss: 1.1429 - val_loss: 1.2313\n",
      "\n",
      "Epoch 00082: val_loss did not improve from 1.21679\n",
      "Epoch 83/100\n",
      "565/565 [==============================] - 154s 273ms/step - loss: 1.1240 - val_loss: 1.2162\n",
      "\n",
      "Epoch 00083: val_loss improved from 1.21679 to 1.21619, saving model to /aiffel/aiffel/ocr/model_checkpoint.hdf5\n",
      "Epoch 84/100\n",
      "565/565 [==============================] - 155s 274ms/step - loss: 1.1255 - val_loss: 1.1871\n",
      "\n",
      "Epoch 00084: val_loss improved from 1.21619 to 1.18711, saving model to /aiffel/aiffel/ocr/model_checkpoint.hdf5\n",
      "Epoch 85/100\n",
      "565/565 [==============================] - 155s 273ms/step - loss: 1.1313 - val_loss: 1.2107\n",
      "\n",
      "Epoch 00085: val_loss did not improve from 1.18711\n",
      "Epoch 86/100\n",
      "565/565 [==============================] - 155s 274ms/step - loss: 1.1259 - val_loss: 1.2030\n",
      "\n",
      "Epoch 00086: val_loss did not improve from 1.18711\n",
      "Epoch 87/100\n",
      "565/565 [==============================] - 154s 272ms/step - loss: 1.1858 - val_loss: 1.1743\n",
      "\n",
      "Epoch 00087: val_loss improved from 1.18711 to 1.17427, saving model to /aiffel/aiffel/ocr/model_checkpoint.hdf5\n",
      "Epoch 88/100\n",
      "565/565 [==============================] - 154s 273ms/step - loss: 1.0864 - val_loss: 1.1731\n",
      "\n",
      "Epoch 00088: val_loss improved from 1.17427 to 1.17311, saving model to /aiffel/aiffel/ocr/model_checkpoint.hdf5\n",
      "Epoch 89/100\n",
      "565/565 [==============================] - 154s 272ms/step - loss: 1.0970 - val_loss: 1.2032\n",
      "\n",
      "Epoch 00089: val_loss did not improve from 1.17311\n",
      "Epoch 90/100\n",
      "565/565 [==============================] - 154s 273ms/step - loss: 1.0898 - val_loss: 1.1726\n",
      "\n",
      "Epoch 00090: val_loss improved from 1.17311 to 1.17264, saving model to /aiffel/aiffel/ocr/model_checkpoint.hdf5\n",
      "Epoch 91/100\n",
      "565/565 [==============================] - 155s 274ms/step - loss: 1.1027 - val_loss: 1.1711\n",
      "\n",
      "Epoch 00091: val_loss improved from 1.17264 to 1.17114, saving model to /aiffel/aiffel/ocr/model_checkpoint.hdf5\n",
      "Epoch 92/100\n",
      "565/565 [==============================] - 154s 273ms/step - loss: 1.1025 - val_loss: 1.1683\n",
      "\n",
      "Epoch 00092: val_loss improved from 1.17114 to 1.16829, saving model to /aiffel/aiffel/ocr/model_checkpoint.hdf5\n",
      "Epoch 93/100\n",
      "565/565 [==============================] - 154s 272ms/step - loss: 1.0994 - val_loss: 1.1964\n",
      "\n",
      "Epoch 00093: val_loss did not improve from 1.16829\n",
      "Epoch 94/100\n",
      "565/565 [==============================] - 154s 272ms/step - loss: 1.0540 - val_loss: 1.1512\n",
      "\n",
      "Epoch 00094: val_loss improved from 1.16829 to 1.15121, saving model to /aiffel/aiffel/ocr/model_checkpoint.hdf5\n",
      "Epoch 95/100\n",
      "565/565 [==============================] - 155s 274ms/step - loss: 1.0811 - val_loss: 1.1621\n",
      "\n",
      "Epoch 00095: val_loss did not improve from 1.15121\n",
      "Epoch 96/100\n",
      "565/565 [==============================] - 154s 272ms/step - loss: 1.0725 - val_loss: 1.1648\n",
      "\n",
      "Epoch 00096: val_loss did not improve from 1.15121\n",
      "Epoch 97/100\n",
      "565/565 [==============================] - 154s 272ms/step - loss: 1.1086 - val_loss: 1.1757\n",
      "\n",
      "Epoch 00097: val_loss did not improve from 1.15121\n",
      "Epoch 98/100\n",
      "565/565 [==============================] - 154s 273ms/step - loss: 1.1000 - val_loss: 1.1598\n",
      "\n",
      "Epoch 00098: val_loss did not improve from 1.15121\n",
      "Epoch 99/100\n",
      "565/565 [==============================] - 154s 272ms/step - loss: 1.0958 - val_loss: 1.1635\n",
      "\n",
      "Epoch 00099: val_loss did not improve from 1.15121\n",
      "Epoch 100/100\n",
      "565/565 [==============================] - 153s 271ms/step - loss: 1.0770 - val_loss: 1.1424\n",
      "\n",
      "Epoch 00100: val_loss improved from 1.15121 to 1.14241, saving model to /aiffel/aiffel/ocr/model_checkpoint.hdf5\n"
     ]
    },
    {
     "data": {
      "text/plain": [
       "<tensorflow.python.keras.callbacks.History at 0x7f855a9b5090>"
      ]
     },
     "execution_count": 10,
     "metadata": {},
     "output_type": "execute_result"
    }
   ],
   "source": [
    "checkpoint_path = HOME_DIR + '/model_checkpoint.hdf5'\n",
    "ckp = tf.keras.callbacks.ModelCheckpoint(\n",
    "    checkpoint_path, monitor='val_loss',\n",
    "    verbose=1, save_best_only=True, save_weights_only=True\n",
    ")\n",
    "earlystop = tf.keras.callbacks.EarlyStopping(\n",
    "    monitor='val_loss', min_delta=0, patience=4, verbose=0, mode='min'\n",
    ")\n",
    "model.fit(train_set,\n",
    "          steps_per_epoch=len(train_set),\n",
    "          epochs=100,\n",
    "          validation_data=val_set,\n",
    "          validation_steps=len(val_set),\n",
    "          callbacks=[ckp])"
   ]
  },
  {
   "cell_type": "markdown",
   "id": "sharp-clearance",
   "metadata": {},
   "source": [
    "#### 학습한 모델을 테스트셋을 통해 확인"
   ]
  },
  {
   "cell_type": "code",
   "execution_count": 12,
   "id": "careful-northeast",
   "metadata": {},
   "outputs": [],
   "source": [
    "test_set = MJDatasetSequence(TEST_DATA_PATH, label_converter, batch_size=BATCH_SIZE, character=TARGET_CHARACTERS)\n",
    "model, y_func = build_crnn_model()\n",
    "model.load_weights(checkpoint_path)\n",
    "\n",
    "input_data = model.get_layer('input_image').output\n",
    "y_pred = model.get_layer('output').output\n",
    "model_pred = Model(inputs=input_data, outputs=y_pred)"
   ]
  },
  {
   "cell_type": "markdown",
   "id": "bulgarian-habitat",
   "metadata": {},
   "source": [
    "학습된 모델의 성능을 눈으로 확인해봅시다."
   ]
  },
  {
   "cell_type": "code",
   "execution_count": 13,
   "id": "satisfactory-honduras",
   "metadata": {},
   "outputs": [
    {
     "name": "stdout",
     "output_type": "stream",
     "text": [
      "Result: \t SLINKING9999999999999999\n"
     ]
    },
    {
     "data": {
      "image/png": "[encoded data removed]",
      "text/plain": [
       "<PIL.Image.Image image mode=RGB size=100x32 at 0x7F94A76A4A10>"
      ]
     },
     "metadata": {},
     "output_type": "display_data"
    },
    {
     "name": "stdout",
     "output_type": "stream",
     "text": [
      "Result: \t ALEPPO99999999999999999\n"
     ]
    },
    {
     "data": {
      "image/png": "[encoded data removed]",
      "text/plain": [
       "<PIL.Image.Image image mode=RGB size=100x32 at 0x7F9FF5A32650>"
      ]
     },
     "metadata": {},
     "output_type": "display_data"
    },
    {
     "name": "stdout",
     "output_type": "stream",
     "text": [
      "Result: \t RWANDA999999999999999999\n"
     ]
    },
    {
     "data": {
      "image/png": "[encoded data removed]",
      "text/plain": [
       "<PIL.Image.Image image mode=RGB size=100x32 at 0x7F9FF5A5C1D0>"
      ]
     },
     "metadata": {},
     "output_type": "display_data"
    },
    {
     "name": "stdout",
     "output_type": "stream",
     "text": [
      "Result: \t NATHANS99999999999999999\n"
     ]
    },
    {
     "data": {
      "image/png": "[encoded data removed]",
      "text/plain": [
       "<PIL.Image.Image image mode=RGB size=100x32 at 0x7F9FF5A39550>"
      ]
     },
     "metadata": {},
     "output_type": "display_data"
    },
    {
     "name": "stdout",
     "output_type": "stream",
     "text": [
      "Result: \t HALLO999999999999999999\n"
     ]
    },
    {
     "data": {
      "image/png": "[encoded data removed]",
      "text/plain": [
       "<PIL.Image.Image image mode=RGB size=100x32 at 0x7F9FF59F6290>"
      ]
     },
     "metadata": {},
     "output_type": "display_data"
    },
    {
     "name": "stdout",
     "output_type": "stream",
     "text": [
      "Result: \t HURLS9999999999999999999\n"
     ]
    },
    {
     "data": {
      "image/png": "[encoded data removed]",
      "text/plain": [
       "<PIL.Image.Image image mode=RGB size=100x32 at 0x7F9FF59CC950>"
      ]
     },
     "metadata": {},
     "output_type": "display_data"
    },
    {
     "name": "stdout",
     "output_type": "stream",
     "text": [
      "Result: \t DOWNSIZE9999999999999999\n"
     ]
    },
    {
     "data": {
      "image/png": "[encoded data removed]",
      "text/plain": [
       "<PIL.Image.Image image mode=RGB size=100x32 at 0x7F9FF5A1A690>"
      ]
     },
     "metadata": {},
     "output_type": "display_data"
    },
    {
     "name": "stdout",
     "output_type": "stream",
     "text": [
      "Result: \t ROBOTIC99999999999999999\n"
     ]
    },
    {
     "data": {
      "image/png": "[encoded data removed]",
      "text/plain": [
       "<PIL.Image.Image image mode=RGB size=100x32 at 0x7F9FF59A7750>"
      ]
     },
     "metadata": {},
     "output_type": "display_data"
    },
    {
     "name": "stdout",
     "output_type": "stream",
     "text": [
      "Result: \t SLOPPY99999999999999999\n"
     ]
    },
    {
     "data": {
      "image/png": "[encoded data removed]",
      "text/plain": [
       "<PIL.Image.Image image mode=RGB size=100x32 at 0x7F940404E0D0>"
      ]
     },
     "metadata": {},
     "output_type": "display_data"
    },
    {
     "name": "stdout",
     "output_type": "stream",
     "text": [
      "Result: \t HERMITE99999999999999999\n"
     ]
    },
    {
     "data": {
      "image/png": "[encoded data removed]",
      "text/plain": [
       "<PIL.Image.Image image mode=RGB size=100x32 at 0x7F94A771C3D0>"
      ]
     },
     "metadata": {},
     "output_type": "display_data"
    }
   ],
   "source": [
    "from IPython.display import display\n",
    "\n",
    "def decode_predict_ctc(out, chars = TARGET_CHARACTERS):\n",
    "    results = []\n",
    "    indexes = K.get_value(\n",
    "        K.ctc_decode(\n",
    "            out, input_length=np.ones(out.shape[0]) * out.shape[1],\n",
    "            greedy=False , beam_width=5, top_paths=1\n",
    "        )[0][0]\n",
    "    )[0]\n",
    "    text = \"\"\n",
    "    for index in indexes:\n",
    "        text += chars[index]\n",
    "    results.append(text)\n",
    "    return results\n",
    "\n",
    "def check_inference(model, dataset, index = 5):\n",
    "    for i in range(index):\n",
    "        inputs, outputs = dataset[i]\n",
    "        img = dataset[i][0]['input_image'][0:1,:,:,:]\n",
    "        output = model.predict(img)\n",
    "        result = decode_predict_ctc(output, chars=\"-\"+TARGET_CHARACTERS)[0].replace('-','')\n",
    "        print(\"Result: \\t\", result)\n",
    "        display(Image.fromarray(img[0].transpose(1,0,2).astype(np.uint8)))\n",
    "\n",
    "check_inference(model_pred, test_set, index=10)"
   ]
  },
  {
   "cell_type": "markdown",
   "id": "minute-bernard",
   "metadata": {},
   "source": [
    "## 2. 프로젝트: End-to-End OCR\n",
    "\n",
    "- keras OCR의 Detector class를 이용해서 이미지 내의 문자 위치를 찾아내는 함수를 만들기\n",
    "\n",
    "- 이를 위해서 keras-ocr을 설치해주고 Detector를 만들어 준다."
   ]
  },
  {
   "cell_type": "markdown",
   "id": "disciplinary-tyler",
   "metadata": {},
   "source": [
    "### 데이터 다운로드(☁️클라우드 유저용)\n",
    "---\n",
    "step3에서 심볼릭 링크를 사용한 경우, `sample.jpg`는 `~/aiffel/ocr/data`디렉토리에 있습니다."
   ]
  },
  {
   "cell_type": "code",
   "execution_count": 14,
   "id": "decimal-supplement",
   "metadata": {},
   "outputs": [
    {
     "name": "stdout",
     "output_type": "stream",
     "text": [
      "Looking for /aiffel/.keras-ocr/craft_mlt_25k.h5\n",
      "Downloading /aiffel/.keras-ocr/craft_mlt_25k.h5\n"
     ]
    }
   ],
   "source": [
    "from keras_ocr.detection import Detector\n",
    "\n",
    "SAMPLE_IMG_PATH = HOME_DIR + '/data/sample.jpg'\n",
    "\n",
    "detector = Detector()"
   ]
  },
  {
   "cell_type": "markdown",
   "id": "veterinary-laugh",
   "metadata": {},
   "source": [
    "### (1) keras-ocr의 Detector를 이용, 이미지 경로를 받아 해당 이미지 내의 문자를 찾아내는 함수의 구현"
   ]
  },
  {
   "cell_type": "code",
   "execution_count": 17,
   "id": "essential-electric",
   "metadata": {},
   "outputs": [],
   "source": [
    "import cv2\n",
    "import matplotlib.pyplot as plt\n",
    "from keras_ocr.detection import Detector"
   ]
  },
  {
   "cell_type": "code",
   "execution_count": 20,
   "id": "indian-charm",
   "metadata": {},
   "outputs": [],
   "source": [
    "def detect_text(img_path):\n",
    "    # 배치 크기를 위해서 dimension을 확장해주고 kera-ocr의 입력 차원에 맞게 H,W,C로 변경합니다.\n",
    "    # 배치의 첫 번째 결과만 가져옵니다.\n",
    "    img = cv2.imread(img_path)\n",
    "    line_img = img.copy()\n",
    "    input_img = img[tf.newaxis,...]\n",
    "    result = detector.detect(input_img)\n",
    "    ocr_result = result[0]\n",
    "    # 시각화를 위해서 x와 y좌표를 변경해줍니다. (앞선 h dimension으로 인해 y,x로 표기됨)\n",
    "    cropped_imgs = []\n",
    "    for text_result in ocr_result:\n",
    "        for i in range(4):\n",
    "            if i==3:\n",
    "                line_img = cv2.line(line_img,tuple(text_result[3]),tuple(text_result[0]),(0,0,255),10)\n",
    "            else:\n",
    "                line_img = cv2.line(line_img,tuple(text_result[i]),tuple(text_result[i+1]),(0,0,255),10)\n",
    "        \n",
    "        x_min = text_result[:,0].min() - 5\n",
    "        x_max = text_result[:,0].max() + 5\n",
    "        y_min = text_result[:,1].min() - 5\n",
    "        y_max = text_result[:,1].max() + 5\n",
    "        cropped_imgs.append(img[int(y_min):int(y_max),int(x_min):int(x_max)])\n",
    "\n",
    "    return line_img, cropped_imgs"
   ]
  },
  {
   "cell_type": "markdown",
   "id": "located-oriental",
   "metadata": {},
   "source": [
    "#### 잘라서 만들어진 단어의 영역 시각화"
   ]
  },
  {
   "cell_type": "code",
   "execution_count": 21,
   "id": "temporal-programming",
   "metadata": {},
   "outputs": [
    {
     "data": {
      "text/plain": [
       "<matplotlib.image.AxesImage at 0x7f92092c9250>"
      ]
     },
     "execution_count": 21,
     "metadata": {},
     "output_type": "execute_result"
    },
    {
     "data": {
      "image/png": "[encoded data removed]",
      "text/plain": [
       "<Figure size 432x288 with 1 Axes>"
      ]
     },
     "metadata": {
      "needs_background": "light"
     },
     "output_type": "display_data"
    }
   ],
   "source": [
    "img, cropped_img = detect_text(SAMPLE_IMG_PATH)\n",
    "plt.imshow(img[:,:,::-1])"
   ]
  },
  {
   "cell_type": "markdown",
   "id": "guided-driving",
   "metadata": {},
   "source": [
    "### (2) Recognition model로 인식하는 함수를 직접 작성하고 그 결과를 출력"
   ]
  },
  {
   "cell_type": "code",
   "execution_count": 24,
   "id": "structured-spirituality",
   "metadata": {},
   "outputs": [],
   "source": [
    "def recognize_img(input_img, input_img_size=(100,32)):\n",
    "    img = input_img[:,:,::-1]\n",
    "    img = cv2.resize(img, input_img_size)\n",
    "    result_img = img.copy()\n",
    "    img = img.transpose(1,0,2)\n",
    "    img = img[tf.newaxis,...]\n",
    "    output = model_pred.predict(img)\n",
    "    result = decode_predict_ctc(output, chars=\"-\"+TARGET_CHARACTERS)[0].replace('-','')\n",
    "    print(\"Result: \\t\", result)\n",
    "    display(Image.fromarray(result_img.astype(np.uint8)))"
   ]
  },
  {
   "cell_type": "code",
   "execution_count": 25,
   "id": "ruled-parts",
   "metadata": {},
   "outputs": [
    {
     "name": "stdout",
     "output_type": "stream",
     "text": [
      "Result: \t RE9999999999999999999999\n"
     ]
    },
    {
     "data": {
      "image/png": "[encoded data removed]",
      "text/plain": [
       "<PIL.Image.Image image mode=RGB size=100x32 at 0x7F9208167410>"
      ]
     },
     "metadata": {},
     "output_type": "display_data"
    },
    {
     "name": "stdout",
     "output_type": "stream",
     "text": [
      "Result: \t SLEEPER9999999999999999\n"
     ]
    },
    {
     "data": {
      "image/png": "[encoded data removed]",
      "text/plain": [
       "<PIL.Image.Image image mode=RGB size=100x32 at 0x7F91F95CD7D0>"
      ]
     },
     "metadata": {},
     "output_type": "display_data"
    }
   ],
   "source": [
    "for _img in cropped_img:\n",
    "    recognize_img(_img)"
   ]
  },
  {
   "cell_type": "markdown",
   "id": "atlantic-zambia",
   "metadata": {},
   "source": [
    "## Rubric\n",
    "\n",
    "||**평가 문항**|**상세 기준**|\n",
    "|:--------|:--------|:--------|\n",
    "|**1**|Text recognition을 위해 특화된 데이터셋 구성이 체계적으로 진행되었다.|텍스트 이미지 리사이징, ctc loss 측정을 위한 라벨 인코딩, 배치처리 등이 적절히 수행되었다.\n",
    "|\n",
    "|**2**|CRNN 기반의 recognition 모델의 학습이 정상적으로 진행되었다.|학습결과 loss가 안정적으로 감소하고 대부분의 문자인식 추론 결과가 정확하다.|\n",
    "|**3**|keras-ocr detector와 CRNN recognizer를 엮어 원본 이미지 입력으로부터 text가 출력되는 OCR이 End-to-End로 구성되었다.|샘플 이미지를 원본으로 받아 OCR 수행 결과를 리턴하는 1개의 함수가 만들어졌다.|"
   ]
  }
 ],
 "metadata": {
  "kernelspec": {
   "display_name": "Python 3",
   "language": "python",
   "name": "python3"
  },
  "language_info": {
   "codemirror_mode": {
    "name": "ipython",
    "version": 3
   },
   "file_extension": ".py",
   "mimetype": "text/x-python",
   "name": "python",
   "nbconvert_exporter": "python",
   "pygments_lexer": "ipython3",
   "version": "3.7.9"
  }
 },
 "nbformat": 4,
 "nbformat_minor": 5
}
