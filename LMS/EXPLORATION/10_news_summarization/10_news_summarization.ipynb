{
 "cells": [
  {
   "cell_type": "markdown",
   "id": "material-cooperative",
   "metadata": {},
   "source": [
    "# 프로젝트: 뉴스기사 요약해보기"
   ]
  },
  {
   "cell_type": "markdown",
   "id": "quarterly-physiology",
   "metadata": {},
   "source": [
    "텍스트 요약(Text Summarization) 기술을 활용해 긴 문장을 짧게 요약해 주는 텍스트 요약기 만들기\n",
    "\n",
    "### 학습 목표\n",
    "- Extractive/Abstractive summarization 이해하기\n",
    "- 단어장 크기를 줄이는 다양한 text normalization 적용해보기\n",
    "- seq2seq의 성능을 Up시키는 Attention Mechanism 적용하기\n",
    "\n",
    "## 10-2. 텍스트 요약(Text Summarization)이란?\n",
    "![10-1](https://user-images.githubusercontent.com/68702978/129651697-fa94ebb5-b84e-4bca-8205-575157b5cce2.png)\n",
    "텍스트 요약(Text Summarization)이란 위 그림과 같이 긴 길이의 문서(Document) 원문을 핵심 주제만으로 구성된 짧은 요약(Summary) 문장들로 변환하는 것이다.  \n",
    "이 때, 중요한 것은 요약 전후에 정보 손실 발생이 최소화되어야 한다.  \n",
    "\n",
    "### 텍스트 요약의 두 가지 접근\n",
    "#### 추출적 요약(Extractive Summarization)\n",
    "- 단어 그대로 원문에서 문장들을 추출해서 요약하는 방식.  \n",
    "- 문장으로 이루어진 텍스트에서 핵심적인 문장 몇 개만으로 구성된 요약문을 만드는 방식.\n",
    "- 꺼내온 원문에서 중요한 문장일 수는 있어도 각 문장의 연결이 자연스럽지 않을 수 있다.\n",
    "- 주로 전통적인 머신 러닝 방식에 속하는 텍스트 랭크(TextRank)와 같은 알고리즘을 통해 사용한다.\n",
    "- 원문을 구성하는 문장 중 어느 것이 핵심문장인지 판별한다는 점에서 문장 분류(Text Classification) 문제로 볼 수 있다.\n",
    "\n",
    "#### 추상적 요약(Abstractive Summarization)\n",
    "- 원문으로부터 내용이 요약된 새로운 문장을 생성해내는 방식.\n",
    "- 결과로 나온 문장이 원문에 원래 없던 문장일 수도 있다는 것을 의미한다.\n",
    "- 자연어 처리 분야 중 자연어 생성(Natural Language Generation, NLG)의 영역."
   ]
  },
  {
   "cell_type": "markdown",
   "id": "italic-flush",
   "metadata": {},
   "source": [
    "## 목차\n",
    "[Step 1. 데이터 수집하기](#Step-1.-데이터-수집하기)  \n",
    "[Step 2. 데이터 전처리하기 (추상적 요약)](#Step-2.-데이터-전처리하기-(추상적-요약))  \n",
    "[Step 3. 어텐션 메커니즘 사용하기 (추상적 요약)](#Step-3.-어텐션-메커니즘-사용하기-(추상적-요약))  \n",
    "[Step 4. 실제 결과와 요약문 비교하기 (추상적 요약)](#Step-4.-실제-결과와-요약문-비교하기-(추상적-요약))  \n",
    "[Step 5. Summa을 이용해서 추출적 요약해보기](#Step-5.-Summa을-이용해서-추출적-요약해보기)  \n",
    "[Rubric](#Rubric)  \n",
    "[회고](#회고)"
   ]
  },
  {
   "cell_type": "markdown",
   "id": "polar-comedy",
   "metadata": {},
   "source": [
    "## Step 1. 데이터 수집하기\n",
    "데이터는 아래 링크에 있는 뉴스 기사 데이터(`news_summary_more.csv`)를 사용하세요.\n",
    "\n",
    "[sunnysai12345/News_Summary](https://github.com/sunnysai12345/News_Summary)\n",
    "\n",
    "아래의 코드로 데이터를 다운로드할 수 있어요."
   ]
  },
  {
   "cell_type": "code",
   "execution_count": 1,
   "id": "paperback-start",
   "metadata": {},
   "outputs": [
    {
     "name": "stderr",
     "output_type": "stream",
     "text": [
      "[nltk_data] Downloading package stopwords to /aiffel/nltk_data...\n",
      "[nltk_data]   Package stopwords is already up-to-date!\n"
     ]
    },
    {
     "name": "stdout",
     "output_type": "stream",
     "text": [
      "=3\n"
     ]
    }
   ],
   "source": [
    "import nltk\n",
    "nltk.download('stopwords')\n",
    "\n",
    "import numpy as np\n",
    "import pandas as pd\n",
    "import os\n",
    "import re\n",
    "import matplotlib.pyplot as plt\n",
    "from nltk.corpus import stopwords\n",
    "from bs4 import BeautifulSoup \n",
    "from tensorflow.keras.preprocessing.text import Tokenizer \n",
    "from tensorflow.keras.preprocessing.sequence import pad_sequences\n",
    "import urllib.request\n",
    "\n",
    "print('=3')"
   ]
  },
  {
   "cell_type": "code",
   "execution_count": 2,
   "id": "portuguese-wildlife",
   "metadata": {},
   "outputs": [],
   "source": [
    "import urllib.request\n",
    "urllib.request.urlretrieve(\"https://raw.githubusercontent.com/sunnysai12345/News_Summary/master/news_summary_more.csv\", filename=\"news_summary_more.csv\")\n",
    "data = pd.read_csv('news_summary_more.csv', encoding='iso-8859-1')"
   ]
  },
  {
   "cell_type": "code",
   "execution_count": 3,
   "id": "compliant-signature",
   "metadata": {},
   "outputs": [
    {
     "data": {
      "text/html": [
       "<div>\n",
       "<style scoped>\n",
       "    .dataframe tbody tr th:only-of-type {\n",
       "        vertical-align: middle;\n",
       "    }\n",
       "\n",
       "    .dataframe tbody tr th {\n",
       "        vertical-align: top;\n",
       "    }\n",
       "\n",
       "    .dataframe thead th {\n",
       "        text-align: right;\n",
       "    }\n",
       "</style>\n",
       "<table border=\"1\" class=\"dataframe\">\n",
       "  <thead>\n",
       "    <tr style=\"text-align: right;\">\n",
       "      <th></th>\n",
       "      <th>headlines</th>\n",
       "      <th>text</th>\n",
       "    </tr>\n",
       "  </thead>\n",
       "  <tbody>\n",
       "    <tr>\n",
       "      <th>51671</th>\n",
       "      <td>'Only bookshop-library on lake' enters Limca B...</td>\n",
       "      <td>The Limca Book of Records has named Jammu and ...</td>\n",
       "    </tr>\n",
       "    <tr>\n",
       "      <th>66905</th>\n",
       "      <td>Indian Air Force capable of a two-front war: C...</td>\n",
       "      <td>Air Chief Marshal BS Dhanoa on Thursday said t...</td>\n",
       "    </tr>\n",
       "    <tr>\n",
       "      <th>34327</th>\n",
       "      <td>Flipkart-Walmart deal good for e-commerce: Ama...</td>\n",
       "      <td>On being asked about the ongoing talks between...</td>\n",
       "    </tr>\n",
       "    <tr>\n",
       "      <th>86161</th>\n",
       "      <td>Lisa Haydon shares picture with her son Zack L...</td>\n",
       "      <td>Model-actress Lisa Haydon shared a picture of ...</td>\n",
       "    </tr>\n",
       "    <tr>\n",
       "      <th>7043</th>\n",
       "      <td>PM Modi used our military as a personal asset:...</td>\n",
       "      <td>In an apparent reference to Prime Minister Nar...</td>\n",
       "    </tr>\n",
       "    <tr>\n",
       "      <th>50334</th>\n",
       "      <td>Raina named in India's 16-man squad for T20I s...</td>\n",
       "      <td>Indian batsman Suresh Raina, who last played a...</td>\n",
       "    </tr>\n",
       "    <tr>\n",
       "      <th>93042</th>\n",
       "      <td>Akshay Kumar performs at Salman's concert in H...</td>\n",
       "      <td>Actor Akshay Kumar joined Salman Khan's live c...</td>\n",
       "    </tr>\n",
       "    <tr>\n",
       "      <th>2897</th>\n",
       "      <td>Cong appoints Apsara Reddy as 1st transgender ...</td>\n",
       "      <td>The Congress on Tuesday appointed transgender ...</td>\n",
       "    </tr>\n",
       "    <tr>\n",
       "      <th>49376</th>\n",
       "      <td>Only 2 Indians have hit century in a 50-over W...</td>\n",
       "      <td>Manjot Kalra, whose unbeaten 101 helped India ...</td>\n",
       "    </tr>\n",
       "    <tr>\n",
       "      <th>91843</th>\n",
       "      <td>Why should I remove my red beacon before May 1...</td>\n",
       "      <td>Karnataka Chief Minister Siddaramaiah on Tuesd...</td>\n",
       "    </tr>\n",
       "  </tbody>\n",
       "</table>\n",
       "</div>"
      ],
      "text/plain": [
       "                                               headlines  \\\n",
       "51671  'Only bookshop-library on lake' enters Limca B...   \n",
       "66905  Indian Air Force capable of a two-front war: C...   \n",
       "34327  Flipkart-Walmart deal good for e-commerce: Ama...   \n",
       "86161  Lisa Haydon shares picture with her son Zack L...   \n",
       "7043   PM Modi used our military as a personal asset:...   \n",
       "50334  Raina named in India's 16-man squad for T20I s...   \n",
       "93042  Akshay Kumar performs at Salman's concert in H...   \n",
       "2897   Cong appoints Apsara Reddy as 1st transgender ...   \n",
       "49376  Only 2 Indians have hit century in a 50-over W...   \n",
       "91843  Why should I remove my red beacon before May 1...   \n",
       "\n",
       "                                                    text  \n",
       "51671  The Limca Book of Records has named Jammu and ...  \n",
       "66905  Air Chief Marshal BS Dhanoa on Thursday said t...  \n",
       "34327  On being asked about the ongoing talks between...  \n",
       "86161  Model-actress Lisa Haydon shared a picture of ...  \n",
       "7043   In an apparent reference to Prime Minister Nar...  \n",
       "50334  Indian batsman Suresh Raina, who last played a...  \n",
       "93042  Actor Akshay Kumar joined Salman Khan's live c...  \n",
       "2897   The Congress on Tuesday appointed transgender ...  \n",
       "49376  Manjot Kalra, whose unbeaten 101 helped India ...  \n",
       "91843  Karnataka Chief Minister Siddaramaiah on Tuesd...  "
      ]
     },
     "execution_count": 3,
     "metadata": {},
     "output_type": "execute_result"
    }
   ],
   "source": [
    "data.sample(10)"
   ]
  },
  {
   "cell_type": "markdown",
   "id": "selective-debut",
   "metadata": {},
   "source": [
    "이 데이터는 기사의 본문에 해당되는 text와 headlines 두 가지 열로 구성되어져 있습니다.\n",
    "\n",
    "추상적 요약을 하는 경우에는 text를 본문, headlines를 이미 요약된 데이터로 삼아서 모델을 학습할 수 있어요. 추출적 요약을 하는 경우에는 오직 text열만을 사용하세요."
   ]
  },
  {
   "cell_type": "markdown",
   "id": "organic-worse",
   "metadata": {},
   "source": [
    "## Step 2. 데이터 전처리하기 (추상적 요약)\n",
    "실습에서 사용된 전처리를 참고하여 각자 필요하다고 생각하는 전처리를 추가 사용하여 텍스트를 정규화 또는 정제해 보세요. 만약, 불용어 제거를 선택한다면 상대적으로 길이가 짧은 요약 데이터에 대해서도 불용어를 제거하는 것이 좋을지 고민해 보세요."
   ]
  },
  {
   "cell_type": "markdown",
   "id": "selected-bacon",
   "metadata": {},
   "source": [
    "### 중복 샘플과 NULL 값이 존재하는 샘플 제거"
   ]
  },
  {
   "cell_type": "code",
   "execution_count": 4,
   "id": "surprising-norwegian",
   "metadata": {},
   "outputs": [
    {
     "name": "stdout",
     "output_type": "stream",
     "text": [
      "text 열에서 중복을 배제한 유일한 샘플의 수 : 98360\n",
      "headlines 열에서 중복을 배제한 유일한 샘플의 수 : 98280\n"
     ]
    }
   ],
   "source": [
    "print('text 열에서 중복을 배제한 유일한 샘플의 수 :', data['text'].nunique())\n",
    "print('headlines 열에서 중복을 배제한 유일한 샘플의 수 :', data['headlines'].nunique())"
   ]
  },
  {
   "cell_type": "code",
   "execution_count": 5,
   "id": "supreme-trader",
   "metadata": {},
   "outputs": [
    {
     "name": "stdout",
     "output_type": "stream",
     "text": [
      "전체 샘플수 : 98360\n"
     ]
    }
   ],
   "source": [
    "# inplace=True 를 설정하면 DataFrame 타입 값을 return 하지 않고 data 내부를 직접적으로 바꿉니다\n",
    "data.drop_duplicates(subset = ['text'], inplace=True)\n",
    "print('전체 샘플수 :', (len(data)))"
   ]
  },
  {
   "cell_type": "code",
   "execution_count": 6,
   "id": "careful-institute",
   "metadata": {},
   "outputs": [
    {
     "name": "stdout",
     "output_type": "stream",
     "text": [
      "headlines    0\n",
      "text         0\n",
      "dtype: int64\n"
     ]
    }
   ],
   "source": [
    "print(data.isnull().sum())"
   ]
  },
  {
   "cell_type": "markdown",
   "id": "attractive-humidity",
   "metadata": {},
   "source": [
    "### 텍스트 정규화와 불용어 제거"
   ]
  },
  {
   "cell_type": "code",
   "execution_count": 7,
   "id": "distinct-detector",
   "metadata": {},
   "outputs": [
    {
     "name": "stdout",
     "output_type": "stream",
     "text": [
      "정규화 사전의 수:  120\n"
     ]
    }
   ],
   "source": [
    "contractions = {\"ain't\": \"is not\", \"aren't\": \"are not\",\"can't\": \"cannot\", \"'cause\": \"because\", \"could've\": \"could have\", \"couldn't\": \"could not\",\n",
    "                           \"didn't\": \"did not\",  \"doesn't\": \"does not\", \"don't\": \"do not\", \"hadn't\": \"had not\", \"hasn't\": \"has not\", \"haven't\": \"have not\",\n",
    "                           \"he'd\": \"he would\",\"he'll\": \"he will\", \"he's\": \"he is\", \"how'd\": \"how did\", \"how'd'y\": \"how do you\", \"how'll\": \"how will\", \"how's\": \"how is\",\n",
    "                           \"I'd\": \"I would\", \"I'd've\": \"I would have\", \"I'll\": \"I will\", \"I'll've\": \"I will have\",\"I'm\": \"I am\", \"I've\": \"I have\", \"i'd\": \"i would\",\n",
    "                           \"i'd've\": \"i would have\", \"i'll\": \"i will\",  \"i'll've\": \"i will have\",\"i'm\": \"i am\", \"i've\": \"i have\", \"isn't\": \"is not\", \"it'd\": \"it would\",\n",
    "                           \"it'd've\": \"it would have\", \"it'll\": \"it will\", \"it'll've\": \"it will have\",\"it's\": \"it is\", \"let's\": \"let us\", \"ma'am\": \"madam\",\n",
    "                           \"mayn't\": \"may not\", \"might've\": \"might have\",\"mightn't\": \"might not\",\"mightn't've\": \"might not have\", \"must've\": \"must have\",\n",
    "                           \"mustn't\": \"must not\", \"mustn't've\": \"must not have\", \"needn't\": \"need not\", \"needn't've\": \"need not have\",\"o'clock\": \"of the clock\",\n",
    "                           \"oughtn't\": \"ought not\", \"oughtn't've\": \"ought not have\", \"shan't\": \"shall not\", \"sha'n't\": \"shall not\", \"shan't've\": \"shall not have\",\n",
    "                           \"she'd\": \"she would\", \"she'd've\": \"she would have\", \"she'll\": \"she will\", \"she'll've\": \"she will have\", \"she's\": \"she is\",\n",
    "                           \"should've\": \"should have\", \"shouldn't\": \"should not\", \"shouldn't've\": \"should not have\", \"so've\": \"so have\",\"so's\": \"so as\",\n",
    "                           \"this's\": \"this is\",\"that'd\": \"that would\", \"that'd've\": \"that would have\", \"that's\": \"that is\", \"there'd\": \"there would\",\n",
    "                           \"there'd've\": \"there would have\", \"there's\": \"there is\", \"here's\": \"here is\",\"they'd\": \"they would\", \"they'd've\": \"they would have\",\n",
    "                           \"they'll\": \"they will\", \"they'll've\": \"they will have\", \"they're\": \"they are\", \"they've\": \"they have\", \"to've\": \"to have\",\n",
    "                           \"wasn't\": \"was not\", \"we'd\": \"we would\", \"we'd've\": \"we would have\", \"we'll\": \"we will\", \"we'll've\": \"we will have\", \"we're\": \"we are\",\n",
    "                           \"we've\": \"we have\", \"weren't\": \"were not\", \"what'll\": \"what will\", \"what'll've\": \"what will have\", \"what're\": \"what are\",\n",
    "                           \"what's\": \"what is\", \"what've\": \"what have\", \"when's\": \"when is\", \"when've\": \"when have\", \"where'd\": \"where did\", \"where's\": \"where is\",\n",
    "                           \"where've\": \"where have\", \"who'll\": \"who will\", \"who'll've\": \"who will have\", \"who's\": \"who is\", \"who've\": \"who have\",\n",
    "                           \"why's\": \"why is\", \"why've\": \"why have\", \"will've\": \"will have\", \"won't\": \"will not\", \"won't've\": \"will not have\",\n",
    "                           \"would've\": \"would have\", \"wouldn't\": \"would not\", \"wouldn't've\": \"would not have\", \"y'all\": \"you all\",\n",
    "                           \"y'all'd\": \"you all would\",\"y'all'd've\": \"you all would have\",\"y'all're\": \"you all are\",\"y'all've\": \"you all have\",\n",
    "                           \"you'd\": \"you would\", \"you'd've\": \"you would have\", \"you'll\": \"you will\", \"you'll've\": \"you will have\",\n",
    "                           \"you're\": \"you are\", \"you've\": \"you have\"}\n",
    "\n",
    "print(\"정규화 사전의 수: \", len(contractions))"
   ]
  },
  {
   "cell_type": "code",
   "execution_count": 8,
   "id": "found-antenna",
   "metadata": {},
   "outputs": [
    {
     "name": "stdout",
     "output_type": "stream",
     "text": [
      "불용어 개수 : 179\n",
      "['i', 'me', 'my', 'myself', 'we', 'our', 'ours', 'ourselves', 'you', \"you're\", \"you've\", \"you'll\", \"you'd\", 'your', 'yours', 'yourself', 'yourselves', 'he', 'him', 'his', 'himself', 'she', \"she's\", 'her', 'hers', 'herself', 'it', \"it's\", 'its', 'itself', 'they', 'them', 'their', 'theirs', 'themselves', 'what', 'which', 'who', 'whom', 'this', 'that', \"that'll\", 'these', 'those', 'am', 'is', 'are', 'was', 'were', 'be', 'been', 'being', 'have', 'has', 'had', 'having', 'do', 'does', 'did', 'doing', 'a', 'an', 'the', 'and', 'but', 'if', 'or', 'because', 'as', 'until', 'while', 'of', 'at', 'by', 'for', 'with', 'about', 'against', 'between', 'into', 'through', 'during', 'before', 'after', 'above', 'below', 'to', 'from', 'up', 'down', 'in', 'out', 'on', 'off', 'over', 'under', 'again', 'further', 'then', 'once', 'here', 'there', 'when', 'where', 'why', 'how', 'all', 'any', 'both', 'each', 'few', 'more', 'most', 'other', 'some', 'such', 'no', 'nor', 'not', 'only', 'own', 'same', 'so', 'than', 'too', 'very', 's', 't', 'can', 'will', 'just', 'don', \"don't\", 'should', \"should've\", 'now', 'd', 'll', 'm', 'o', 're', 've', 'y', 'ain', 'aren', \"aren't\", 'couldn', \"couldn't\", 'didn', \"didn't\", 'doesn', \"doesn't\", 'hadn', \"hadn't\", 'hasn', \"hasn't\", 'haven', \"haven't\", 'isn', \"isn't\", 'ma', 'mightn', \"mightn't\", 'mustn', \"mustn't\", 'needn', \"needn't\", 'shan', \"shan't\", 'shouldn', \"shouldn't\", 'wasn', \"wasn't\", 'weren', \"weren't\", 'won', \"won't\", 'wouldn', \"wouldn't\"]\n"
     ]
    }
   ],
   "source": [
    "print('불용어 개수 :', len(stopwords.words('english') ))\n",
    "print(stopwords.words('english'))"
   ]
  },
  {
   "cell_type": "code",
   "execution_count": 9,
   "id": "verified-examination",
   "metadata": {},
   "outputs": [],
   "source": [
    "# 데이터 전처리 함수\n",
    "def preprocess_sentence(sentence, remove_stopwords=True):\n",
    "    sentence = sentence.lower() # 텍스트 소문자화\n",
    "    sentence = BeautifulSoup(sentence, \"lxml\").text # <br />, <a href = ...> 등의 html 태그 제거\n",
    "    sentence = re.sub(r'\\([^)]*\\)', '', sentence) # 괄호로 닫힌 문자열 (...) 제거 Ex) my husband (and myself!) for => my husband for\n",
    "    sentence = re.sub('\"','', sentence) # 쌍따옴표 \" 제거\n",
    "    sentence = ' '.join([contractions[t] if t in contractions else t for t in sentence.split(\" \")]) # 약어 정규화\n",
    "    sentence = re.sub(r\"'s\\b\",\"\", sentence) # 소유격 제거. Ex) roland's -> roland\n",
    "    sentence = re.sub(\"[^a-zA-Z]\", \" \", sentence) # 영어 외 문자(숫자, 특수문자 등) 공백으로 변환\n",
    "    sentence = re.sub('[m]{2,}', 'mm', sentence) # m이 3개 이상이면 2개로 변경. Ex) ummmmmmm yeah -> umm yeah\n",
    "    \n",
    "    # 불용어 제거 (text)\n",
    "    if remove_stopwords:\n",
    "        tokens = ' '.join(word for word in sentence.split() if not word in stopwords.words('english') if len(word) > 1)\n",
    "    # 불용어 미제거 (headlines)\n",
    "    else:\n",
    "        tokens = ' '.join(word for word in sentence.split() if len(word) > 1)\n",
    "    return tokens"
   ]
  },
  {
   "cell_type": "code",
   "execution_count": 10,
   "id": "statutory-poultry",
   "metadata": {},
   "outputs": [
    {
     "name": "stdout",
     "output_type": "stream",
     "text": [
      "180.0845742225647  seconds\n",
      "['saurav kant alumnus upgrad iiit pg program machine learning artificial intelligence sr systems engineer infosys almost years work experience program upgrad degree career support helped transition data scientist tech mahindra salary hike upgrad online power learning powered lakh careers'\n",
      " 'kunal shah credit card bill payment platform cred gave users chance win free food swiggy one year pranav kaushik delhi techie bagged reward spending cred coins users get one cred coin per rupee bill paid used avail rewards brands like ixigo bookmyshow ubereats cult fit'\n",
      " 'new zealand defeated india wickets fourth odi hamilton thursday win first match five match odi series india lost international match rohit sharma captaincy consecutive victories dating back march match witnessed india getting seventh lowest total odi cricket history'\n",
      " ...\n",
      " 'according reports new version science fiction film matrix development michael jordan reportedly play lead role film screenwriter zak penn talks write script film reports added actor keanu reeves starred original film followed two sequels'\n",
      " 'new music video shows rapper snoop dogg aiming toy gun clown character parodying us president donald trump video also shows tv airing news conference headline ronald klump wants deport doggs airing live clown house video remixed version song lavender'\n",
      " 'madhesi morcha alliance seven political parties withdrawn support pm pushpa kamal dahal led nepal government failed meet seven day ultimatum fulfil demands including endorsement revised constitution amendment bill morcha seats parliament despite withdrawal support immediate threat government']\n",
      "5.907907009124756  seconds\n",
      "['upgrad learner switches to career in ml al with salary hike'\n",
      " 'delhi techie wins free food from swiggy for one year on cred'\n",
      " 'new zealand end rohit sharma led india match winning streak' ...\n",
      " 'the matrix film to get reboot reports'\n",
      " 'snoop dogg aims gun at clown dressed as trump in new video'\n",
      " 'madhesi morcha withdraws support to nepalese government']\n"
     ]
    }
   ],
   "source": [
    "import multiprocessing as mp   # 멀티 프로세싱으로 전처리 속도를 획기적으로 줄여봅시다\n",
    "from multiprocessing import Pool\n",
    "import numpy as np\n",
    "import time\n",
    "from functools import partial  # map을 할 때 함수에 여러 인자를 넣어줄 수 있도록 합니다\n",
    "\n",
    "start = time.time()\n",
    "\n",
    "# num_cores 만큼 쪼개진 데이터를 전처리하여 반환합니다\n",
    "def appendTexts(sentences, remove_stopwords):\n",
    "  texts = []\n",
    "  for s in sentences:\n",
    "    texts += preprocess_sentence(s, remove_stopwords),\n",
    "  return texts\n",
    "\n",
    "def preprocess_data(data, remove_stopwords=True):\n",
    "  start_time = time.time()\n",
    "  num_cores = mp.cpu_count()  # 컴퓨터의 코어 수를 구합니다\n",
    "\n",
    "  text_data_split = np.array_split(data, num_cores)  # 코어 수만큼 데이터를 배분하여 병렬적으로 처리할 수 있게 합니다\n",
    "  pool = Pool(num_cores)\n",
    "\n",
    "  processed_data = np.concatenate(pool.map(partial(appendTexts, remove_stopwords=remove_stopwords), text_data_split))  # 각자 작업한 데이터를 하나로 합쳐줍니다\n",
    "  pool.close()\n",
    "  pool.join()\n",
    "  print(time.time() - start_time, \" seconds\")\n",
    "  return processed_data\n",
    "\n",
    "clean_text = preprocess_data(data['text'])  # 클라우드 기준으로 3~4분 정도 소요 됩니다\n",
    "print(clean_text)\n",
    "\n",
    "clean_headlines = preprocess_data(data['headlines'], remove_stopwords=False) # 클라우드 기준 1분정도 소요됩니다.\n",
    "print(clean_headlines)"
   ]
  },
  {
   "cell_type": "code",
   "execution_count": 11,
   "id": "spare-cookie",
   "metadata": {},
   "outputs": [],
   "source": [
    "data['text'] = clean_text\n",
    "data['headlines'] = clean_headlines\n",
    "\n",
    "# 빈 값을 Null 값으로 변환\n",
    "data.replace('', np.nan, inplace=True)"
   ]
  },
  {
   "cell_type": "code",
   "execution_count": 12,
   "id": "excellent-friend",
   "metadata": {},
   "outputs": [
    {
     "data": {
      "text/plain": [
       "headlines    0\n",
       "text         0\n",
       "dtype: int64"
      ]
     },
     "execution_count": 12,
     "metadata": {},
     "output_type": "execute_result"
    }
   ],
   "source": [
    "data.isnull().sum()"
   ]
  },
  {
   "cell_type": "markdown",
   "id": "sweet-scheduling",
   "metadata": {},
   "source": [
    "### 샘플의 최대 길이 정하기"
   ]
  },
  {
   "cell_type": "code",
   "execution_count": 13,
   "id": "advanced-murray",
   "metadata": {},
   "outputs": [
    {
     "name": "stdout",
     "output_type": "stream",
     "text": [
      "텍스트의 최소 길이 : 1\n",
      "텍스트의 최대 길이 : 60\n",
      "텍스트의 평균 길이 : 35.09968483123221\n",
      "요약의 최소 길이 : 1\n",
      "요약의 최대 길이 : 16\n",
      "요약의 평균 길이 : 9.299532330215534\n"
     ]
    },
    {
     "data": {
      "image/png": "[encoded data removed]",
      "text/plain": [
       "<Figure size 432x288 with 2 Axes>"
      ]
     },
     "metadata": {
      "needs_background": "light"
     },
     "output_type": "display_data"
    },
    {
     "data": {
      "image/png": "[encoded data removed]",
      "text/plain": [
       "<Figure size 432x288 with 1 Axes>"
      ]
     },
     "metadata": {
      "needs_background": "light"
     },
     "output_type": "display_data"
    },
    {
     "data": {
      "image/png": "[encoded data removed]",
      "text/plain": [
       "<Figure size 432x288 with 1 Axes>"
      ]
     },
     "metadata": {
      "needs_background": "light"
     },
     "output_type": "display_data"
    }
   ],
   "source": [
    "# 길이 분포 출력\n",
    "import matplotlib.pyplot as plt\n",
    "\n",
    "text_len = [len(s.split()) for s in data['text']]\n",
    "headlines_len = [len(s.split()) for s in data['headlines']]\n",
    "\n",
    "print('텍스트의 최소 길이 : {}'.format(np.min(text_len)))\n",
    "print('텍스트의 최대 길이 : {}'.format(np.max(text_len)))\n",
    "print('텍스트의 평균 길이 : {}'.format(np.mean(text_len)))\n",
    "print('요약의 최소 길이 : {}'.format(np.min(headlines_len)))\n",
    "print('요약의 최대 길이 : {}'.format(np.max(headlines_len)))\n",
    "print('요약의 평균 길이 : {}'.format(np.mean(headlines_len)))\n",
    "\n",
    "plt.subplot(1,2,1)\n",
    "plt.boxplot(headlines_len)\n",
    "plt.title('headlines')\n",
    "plt.subplot(1,2,2)\n",
    "plt.boxplot(text_len)\n",
    "plt.title('text')\n",
    "plt.tight_layout()\n",
    "plt.show()\n",
    "\n",
    "plt.title('headlines')\n",
    "plt.hist(headlines_len, bins = 40)\n",
    "plt.xlabel('length of samples')\n",
    "plt.ylabel('number of samples')\n",
    "plt.show()\n",
    "\n",
    "plt.title('text')\n",
    "plt.hist(text_len, bins = 40)\n",
    "plt.xlabel('length of samples')\n",
    "plt.ylabel('number of samples')\n",
    "plt.show()"
   ]
  },
  {
   "cell_type": "code",
   "execution_count": 14,
   "id": "rocky-biodiversity",
   "metadata": {},
   "outputs": [],
   "source": [
    "text_max_len = 40\n",
    "headlines_max_len = 11"
   ]
  },
  {
   "cell_type": "code",
   "execution_count": 15,
   "id": "indirect-therapist",
   "metadata": {},
   "outputs": [],
   "source": [
    "def below_threshold_len(max_len, nested_list):\n",
    "  cnt = 0\n",
    "  for s in nested_list:\n",
    "    if(len(s.split()) <= max_len):\n",
    "        cnt = cnt + 1\n",
    "  print('전체 샘플 중 길이가 %s 이하인 샘플의 비율: %s'%(max_len, (cnt / len(nested_list))))"
   ]
  },
  {
   "cell_type": "code",
   "execution_count": 16,
   "id": "incoming-battlefield",
   "metadata": {},
   "outputs": [
    {
     "name": "stdout",
     "output_type": "stream",
     "text": [
      "전체 샘플 중 길이가 40 이하인 샘플의 비율: 0.9238714924766165\n",
      "전체 샘플 중 길이가 11 이하인 샘플의 비율: 0.9449877999186661\n"
     ]
    }
   ],
   "source": [
    "below_threshold_len(text_max_len, data['text'])\n",
    "below_threshold_len(headlines_max_len,  data['headlines'])"
   ]
  },
  {
   "cell_type": "code",
   "execution_count": 17,
   "id": "severe-equality",
   "metadata": {},
   "outputs": [
    {
     "name": "stdout",
     "output_type": "stream",
     "text": [
      "전체 샘플수 : 85843\n"
     ]
    }
   ],
   "source": [
    "data = data[data['text'].apply(lambda x: len(x.split()) <= text_max_len)]\n",
    "data = data[data['headlines'].apply(lambda x: len(x.split()) <= headlines_max_len)]\n",
    "print('전체 샘플수 :', (len(data)))"
   ]
  },
  {
   "cell_type": "markdown",
   "id": "interpreted-allergy",
   "metadata": {},
   "source": [
    "### 시작 토큰과 종료 토큰 추가하기"
   ]
  },
  {
   "cell_type": "code",
   "execution_count": 18,
   "id": "responsible-debut",
   "metadata": {},
   "outputs": [
    {
     "data": {
      "text/html": [
       "<div>\n",
       "<style scoped>\n",
       "    .dataframe tbody tr th:only-of-type {\n",
       "        vertical-align: middle;\n",
       "    }\n",
       "\n",
       "    .dataframe tbody tr th {\n",
       "        vertical-align: top;\n",
       "    }\n",
       "\n",
       "    .dataframe thead th {\n",
       "        text-align: right;\n",
       "    }\n",
       "</style>\n",
       "<table border=\"1\" class=\"dataframe\">\n",
       "  <thead>\n",
       "    <tr style=\"text-align: right;\">\n",
       "      <th></th>\n",
       "      <th>headlines</th>\n",
       "      <th>text</th>\n",
       "      <th>decoder_input</th>\n",
       "      <th>decoder_target</th>\n",
       "    </tr>\n",
       "  </thead>\n",
       "  <tbody>\n",
       "    <tr>\n",
       "      <th>0</th>\n",
       "      <td>upgrad learner switches to career in ml al wit...</td>\n",
       "      <td>saurav kant alumnus upgrad iiit pg program mac...</td>\n",
       "      <td>sostoken upgrad learner switches to career in ...</td>\n",
       "      <td>upgrad learner switches to career in ml al wit...</td>\n",
       "    </tr>\n",
       "    <tr>\n",
       "      <th>2</th>\n",
       "      <td>new zealand end rohit sharma led india match w...</td>\n",
       "      <td>new zealand defeated india wickets fourth odi ...</td>\n",
       "      <td>sostoken new zealand end rohit sharma led indi...</td>\n",
       "      <td>new zealand end rohit sharma led india match w...</td>\n",
       "    </tr>\n",
       "    <tr>\n",
       "      <th>3</th>\n",
       "      <td>aegon life iterm insurance plan helps customer...</td>\n",
       "      <td>aegon life iterm insurance plan customers enjo...</td>\n",
       "      <td>sostoken aegon life iterm insurance plan helps...</td>\n",
       "      <td>aegon life iterm insurance plan helps customer...</td>\n",
       "    </tr>\n",
       "    <tr>\n",
       "      <th>5</th>\n",
       "      <td>rahat fateh ali khan denies getting notice for...</td>\n",
       "      <td>pakistani singer rahat fateh ali khan denied r...</td>\n",
       "      <td>sostoken rahat fateh ali khan denies getting n...</td>\n",
       "      <td>rahat fateh ali khan denies getting notice for...</td>\n",
       "    </tr>\n",
       "    <tr>\n",
       "      <th>7</th>\n",
       "      <td>govt directs alok verma to join work day befor...</td>\n",
       "      <td>weeks ex cbi director alok verma told departme...</td>\n",
       "      <td>sostoken govt directs alok verma to join work ...</td>\n",
       "      <td>govt directs alok verma to join work day befor...</td>\n",
       "    </tr>\n",
       "  </tbody>\n",
       "</table>\n",
       "</div>"
      ],
      "text/plain": [
       "                                           headlines  \\\n",
       "0  upgrad learner switches to career in ml al wit...   \n",
       "2  new zealand end rohit sharma led india match w...   \n",
       "3  aegon life iterm insurance plan helps customer...   \n",
       "5  rahat fateh ali khan denies getting notice for...   \n",
       "7  govt directs alok verma to join work day befor...   \n",
       "\n",
       "                                                text  \\\n",
       "0  saurav kant alumnus upgrad iiit pg program mac...   \n",
       "2  new zealand defeated india wickets fourth odi ...   \n",
       "3  aegon life iterm insurance plan customers enjo...   \n",
       "5  pakistani singer rahat fateh ali khan denied r...   \n",
       "7  weeks ex cbi director alok verma told departme...   \n",
       "\n",
       "                                       decoder_input  \\\n",
       "0  sostoken upgrad learner switches to career in ...   \n",
       "2  sostoken new zealand end rohit sharma led indi...   \n",
       "3  sostoken aegon life iterm insurance plan helps...   \n",
       "5  sostoken rahat fateh ali khan denies getting n...   \n",
       "7  sostoken govt directs alok verma to join work ...   \n",
       "\n",
       "                                      decoder_target  \n",
       "0  upgrad learner switches to career in ml al wit...  \n",
       "2  new zealand end rohit sharma led india match w...  \n",
       "3  aegon life iterm insurance plan helps customer...  \n",
       "5  rahat fateh ali khan denies getting notice for...  \n",
       "7  govt directs alok verma to join work day befor...  "
      ]
     },
     "execution_count": 18,
     "metadata": {},
     "output_type": "execute_result"
    }
   ],
   "source": [
    "# 요약 데이터에는 시작 토큰과 종료 토큰을 추가한다.\n",
    "data['decoder_input'] = data['headlines'].apply(lambda x : 'sostoken '+ x)\n",
    "data['decoder_target'] = data['headlines'].apply(lambda x : x + ' eostoken')\n",
    "data.head()"
   ]
  },
  {
   "cell_type": "code",
   "execution_count": 19,
   "id": "likely-information",
   "metadata": {},
   "outputs": [],
   "source": [
    "encoder_input = np.array(data['text']) # 인코더의 입력\n",
    "decoder_input = np.array(data['decoder_input']) # 디코더의 입력\n",
    "decoder_target = np.array(data['decoder_target']) # 디코더의 레이블"
   ]
  },
  {
   "cell_type": "code",
   "execution_count": 20,
   "id": "crude-symbol",
   "metadata": {},
   "outputs": [
    {
     "name": "stdout",
     "output_type": "stream",
     "text": [
      "[35940 46102 75970 ... 36398 42196 17803]\n"
     ]
    }
   ],
   "source": [
    "indices = np.arange(encoder_input.shape[0])\n",
    "np.random.shuffle(indices)\n",
    "print(indices)"
   ]
  },
  {
   "cell_type": "code",
   "execution_count": 21,
   "id": "animal-birmingham",
   "metadata": {},
   "outputs": [],
   "source": [
    "encoder_input = encoder_input[indices]\n",
    "decoder_input = decoder_input[indices]\n",
    "decoder_target = decoder_target[indices]"
   ]
  },
  {
   "cell_type": "code",
   "execution_count": 22,
   "id": "unlikely-dividend",
   "metadata": {},
   "outputs": [
    {
     "name": "stdout",
     "output_type": "stream",
     "text": [
      "테스트 데이터의 수 : 17168\n"
     ]
    }
   ],
   "source": [
    "n_of_val = int(len(encoder_input)*0.2)\n",
    "print('테스트 데이터의 수 :', n_of_val)"
   ]
  },
  {
   "cell_type": "code",
   "execution_count": 23,
   "id": "turkish-gender",
   "metadata": {},
   "outputs": [
    {
     "name": "stdout",
     "output_type": "stream",
     "text": [
      "훈련 데이터의 개수 : 68675\n",
      "훈련 레이블의 개수 : 68675\n",
      "테스트 데이터의 개수 : 17168\n",
      "테스트 레이블의 개수 : 17168\n"
     ]
    }
   ],
   "source": [
    "encoder_input_train = encoder_input[:-n_of_val]\n",
    "decoder_input_train = decoder_input[:-n_of_val]\n",
    "decoder_target_train = decoder_target[:-n_of_val]\n",
    "\n",
    "encoder_input_test = encoder_input[-n_of_val:]\n",
    "decoder_input_test = decoder_input[-n_of_val:]\n",
    "decoder_target_test = decoder_target[-n_of_val:]\n",
    "\n",
    "print('훈련 데이터의 개수 :', len(encoder_input_train))\n",
    "print('훈련 레이블의 개수 :', len(decoder_input_train))\n",
    "print('테스트 데이터의 개수 :', len(encoder_input_test))\n",
    "print('테스트 레이블의 개수 :', len(decoder_input_test))"
   ]
  },
  {
   "cell_type": "markdown",
   "id": "demanding-workstation",
   "metadata": {},
   "source": [
    "### 단어 집합(vocabulary) 만들기 및 정수 인코딩"
   ]
  },
  {
   "cell_type": "code",
   "execution_count": 24,
   "id": "external-railway",
   "metadata": {},
   "outputs": [],
   "source": [
    "src_tokenizer = Tokenizer() # 토크나이저 정의\n",
    "src_tokenizer.fit_on_texts(encoder_input_train) # 입력된 데이터로부터 단어 집합 생성"
   ]
  },
  {
   "cell_type": "code",
   "execution_count": 25,
   "id": "pressing-intensity",
   "metadata": {},
   "outputs": [
    {
     "name": "stdout",
     "output_type": "stream",
     "text": [
      "단어 집합(vocabulary)의 크기 : 64670\n",
      "등장 빈도가 7번 이하인 희귀 단어의 수: 45502\n",
      "단어 집합에서 희귀 단어를 제외시킬 경우의 단어 집합의 크기 19168\n",
      "단어 집합에서 희귀 단어의 비율: 70.36029070666461\n",
      "전체 등장 빈도에서 희귀 단어 등장 빈도 비율: 4.193744777265939\n"
     ]
    }
   ],
   "source": [
    "threshold = 8\n",
    "total_cnt = len(src_tokenizer.word_index) # 단어의 수\n",
    "rare_cnt = 0 # 등장 빈도수가 threshold보다 작은 단어의 개수를 카운트\n",
    "total_freq = 0 # 훈련 데이터의 전체 단어 빈도수 총 합\n",
    "rare_freq = 0 # 등장 빈도수가 threshold보다 작은 단어의 등장 빈도수의 총 합\n",
    "\n",
    "# 단어와 빈도수의 쌍(pair)을 key와 value로 받는다.\n",
    "for key, value in src_tokenizer.word_counts.items():\n",
    "    total_freq = total_freq + value\n",
    "\n",
    "    # 단어의 등장 빈도수가 threshold보다 작으면\n",
    "    if(value < threshold):\n",
    "        rare_cnt = rare_cnt + 1\n",
    "        rare_freq = rare_freq + value\n",
    "\n",
    "print('단어 집합(vocabulary)의 크기 :', total_cnt)\n",
    "print('등장 빈도가 %s번 이하인 희귀 단어의 수: %s'%(threshold - 1, rare_cnt))\n",
    "print('단어 집합에서 희귀 단어를 제외시킬 경우의 단어 집합의 크기 %s'%(total_cnt - rare_cnt))\n",
    "print(\"단어 집합에서 희귀 단어의 비율:\", (rare_cnt / total_cnt)*100)\n",
    "print(\"전체 등장 빈도에서 희귀 단어 등장 빈도 비율:\", (rare_freq / total_freq)*100)"
   ]
  },
  {
   "cell_type": "code",
   "execution_count": 26,
   "id": "circular-tuition",
   "metadata": {},
   "outputs": [],
   "source": [
    "src_vocab = 18000\n",
    "src_tokenizer = Tokenizer(num_words=src_vocab) # 단어 집합의 크기를 18,000으로 제한\n",
    "src_tokenizer.fit_on_texts(encoder_input_train) # 단어 집합 재생성."
   ]
  },
  {
   "cell_type": "code",
   "execution_count": 27,
   "id": "intimate-moderator",
   "metadata": {},
   "outputs": [
    {
     "name": "stdout",
     "output_type": "stream",
     "text": [
      "[[7, 76, 973, 9, 2104, 75, 54, 2411, 911, 1029, 11, 9, 77, 916, 587, 284, 502, 7, 76, 250, 587, 64, 4973, 1029, 15, 3388, 2401, 1, 25, 1082, 364], [24, 3, 1061, 276, 16, 1125, 3406, 81, 1, 35, 9389, 4111, 3057, 478, 1434, 6, 102, 47, 751, 3524, 1252, 3230, 102, 1078, 1416, 1065, 2328, 1180, 1600, 2, 2240, 17006, 6395, 47, 3442, 256], [6082, 241, 74, 3281, 17007, 10588, 3159, 141, 11895, 6560, 5866, 6014, 10886, 544, 4698, 723, 297, 3547, 17007, 79, 7774, 1021, 151, 7774, 91, 5459, 968, 877, 311, 2619, 783, 144]]\n"
     ]
    }
   ],
   "source": [
    "# 텍스트 시퀀스를 정수 시퀀스로 변환\n",
    "encoder_input_train = src_tokenizer.texts_to_sequences(encoder_input_train) \n",
    "encoder_input_test = src_tokenizer.texts_to_sequences(encoder_input_test)\n",
    "\n",
    "# 잘 진행되었는지 샘플 출력\n",
    "print(encoder_input_train[:3])"
   ]
  },
  {
   "cell_type": "code",
   "execution_count": 28,
   "id": "editorial-mapping",
   "metadata": {},
   "outputs": [],
   "source": [
    "tar_tokenizer = Tokenizer()\n",
    "tar_tokenizer.fit_on_texts(decoder_input_train)"
   ]
  },
  {
   "cell_type": "code",
   "execution_count": 29,
   "id": "pediatric-breach",
   "metadata": {},
   "outputs": [
    {
     "name": "stdout",
     "output_type": "stream",
     "text": [
      "단어 집합(vocabulary)의 크기 : 28485\n",
      "등장 빈도가 7번 이하인 희귀 단어의 수: 20315\n",
      "단어 집합에서 희귀 단어를 제외시킬 경우의 단어 집합의 크기 8170\n",
      "단어 집합에서 희귀 단어의 비율: 71.31823766894857\n",
      "전체 등장 빈도에서 희귀 단어 등장 빈도 비율: 6.595622657998416\n"
     ]
    }
   ],
   "source": [
    "threshold = 8\n",
    "total_cnt = len(tar_tokenizer.word_index) # 단어의 수\n",
    "rare_cnt = 0 # 등장 빈도수가 threshold보다 작은 단어의 개수를 카운트\n",
    "total_freq = 0 # 훈련 데이터의 전체 단어 빈도수 총 합\n",
    "rare_freq = 0 # 등장 빈도수가 threshold보다 작은 단어의 등장 빈도수의 총 합\n",
    "\n",
    "# 단어와 빈도수의 쌍(pair)을 key와 value로 받는다.\n",
    "for key, value in tar_tokenizer.word_counts.items():\n",
    "    total_freq = total_freq + value\n",
    "\n",
    "    # 단어의 등장 빈도수가 threshold보다 작으면\n",
    "    if(value < threshold):\n",
    "        rare_cnt = rare_cnt + 1\n",
    "        rare_freq = rare_freq + value\n",
    "\n",
    "print('단어 집합(vocabulary)의 크기 :', total_cnt)\n",
    "print('등장 빈도가 %s번 이하인 희귀 단어의 수: %s'%(threshold - 1, rare_cnt))\n",
    "print('단어 집합에서 희귀 단어를 제외시킬 경우의 단어 집합의 크기 %s'%(total_cnt - rare_cnt))\n",
    "print(\"단어 집합에서 희귀 단어의 비율:\", (rare_cnt / total_cnt)*100)\n",
    "print(\"전체 등장 빈도에서 희귀 단어 등장 빈도 비율:\", (rare_freq / total_freq)*100)"
   ]
  },
  {
   "cell_type": "code",
   "execution_count": 30,
   "id": "ecological-citizenship",
   "metadata": {},
   "outputs": [
    {
     "name": "stdout",
     "output_type": "stream",
     "text": [
      "input\n",
      "input  [[1, 14, 59, 437, 14, 50, 1518, 7589, 238], [1, 26, 4599, 2867, 47, 447, 4288, 4, 58], [1, 2868, 1457, 3, 6653, 134], [1, 144, 32, 279, 4951, 3, 85, 1404, 7, 2438, 3150], [1, 1289, 87, 301, 1008, 3, 38, 7094, 1137, 1735, 134]]\n",
      "target\n",
      "decoder  [[14, 59, 437, 14, 50, 1518, 7589, 238, 2], [26, 4599, 2867, 47, 447, 4288, 4, 58, 2], [2868, 1457, 3, 6653, 134, 2], [144, 32, 279, 4951, 3, 85, 1404, 7, 2438, 3150, 2], [1289, 87, 301, 1008, 3, 38, 7094, 1137, 1735, 134, 2]]\n"
     ]
    }
   ],
   "source": [
    "tar_vocab = 8000\n",
    "tar_tokenizer = Tokenizer(num_words=tar_vocab) \n",
    "tar_tokenizer.fit_on_texts(decoder_input_train)\n",
    "tar_tokenizer.fit_on_texts(decoder_target_train)\n",
    "\n",
    "# 텍스트 시퀀스를 정수 시퀀스로 변환\n",
    "decoder_input_train = tar_tokenizer.texts_to_sequences(decoder_input_train) \n",
    "decoder_target_train = tar_tokenizer.texts_to_sequences(decoder_target_train)\n",
    "decoder_input_test = tar_tokenizer.texts_to_sequences(decoder_input_test)\n",
    "decoder_target_test = tar_tokenizer.texts_to_sequences(decoder_target_test)\n",
    "\n",
    "# 잘 변환되었는지 확인\n",
    "print('input')\n",
    "print('input ',decoder_input_train[:5])\n",
    "print('target')\n",
    "print('decoder ',decoder_target_train[:5])"
   ]
  },
  {
   "cell_type": "code",
   "execution_count": 31,
   "id": "hollow-syracuse",
   "metadata": {},
   "outputs": [
    {
     "name": "stdout",
     "output_type": "stream",
     "text": [
      "삭제할 훈련 데이터의 개수 : 1\n",
      "삭제할 테스트 데이터의 개수 : 0\n",
      "훈련 데이터의 개수 : 68674\n",
      "훈련 레이블의 개수 : 68674\n",
      "테스트 데이터의 개수 : 17168\n",
      "테스트 레이블의 개수 : 17168\n"
     ]
    },
    {
     "name": "stderr",
     "output_type": "stream",
     "text": [
      "/opt/conda/lib/python3.7/site-packages/numpy/core/_asarray.py:83: VisibleDeprecationWarning: Creating an ndarray from ragged nested sequences (which is a list-or-tuple of lists-or-tuples-or ndarrays with different lengths or shapes) is deprecated. If you meant to do this, you must specify 'dtype=object' when creating the ndarray\n",
      "  return array(a, dtype, copy=False, order=order)\n"
     ]
    }
   ],
   "source": [
    "drop_train = [index for index, sentence in enumerate(decoder_input_train) if len(sentence) == 1]\n",
    "drop_test = [index for index, sentence in enumerate(decoder_input_test) if len(sentence) == 1]\n",
    "\n",
    "print('삭제할 훈련 데이터의 개수 :', len(drop_train))\n",
    "print('삭제할 테스트 데이터의 개수 :', len(drop_test))\n",
    "\n",
    "encoder_input_train = np.delete(encoder_input_train, drop_train, axis=0)\n",
    "decoder_input_train = np.delete(decoder_input_train, drop_train, axis=0)\n",
    "decoder_target_train = np.delete(decoder_target_train, drop_train, axis=0)\n",
    "\n",
    "encoder_input_test = np.delete(encoder_input_test, drop_test, axis=0)\n",
    "decoder_input_test = np.delete(decoder_input_test, drop_test, axis=0)\n",
    "decoder_target_test = np.delete(decoder_target_test, drop_test, axis=0)\n",
    "\n",
    "print('훈련 데이터의 개수 :', len(encoder_input_train))\n",
    "print('훈련 레이블의 개수 :', len(decoder_input_train))\n",
    "print('테스트 데이터의 개수 :', len(encoder_input_test))\n",
    "print('테스트 레이블의 개수 :', len(decoder_input_test))"
   ]
  },
  {
   "cell_type": "markdown",
   "id": "mighty-soccer",
   "metadata": {},
   "source": [
    "### 패딩하기"
   ]
  },
  {
   "cell_type": "code",
   "execution_count": 32,
   "id": "nuclear-drink",
   "metadata": {},
   "outputs": [],
   "source": [
    "encoder_input_train = pad_sequences(encoder_input_train, maxlen=text_max_len, padding='post')\n",
    "encoder_input_test = pad_sequences(encoder_input_test, maxlen=text_max_len, padding='post')\n",
    "decoder_input_train = pad_sequences(decoder_input_train, maxlen=headlines_max_len, padding='post')\n",
    "decoder_target_train = pad_sequences(decoder_target_train, maxlen=headlines_max_len, padding='post')\n",
    "decoder_input_test = pad_sequences(decoder_input_test, maxlen=headlines_max_len, padding='post')\n",
    "decoder_target_test = pad_sequences(decoder_target_test, maxlen=headlines_max_len, padding='post')"
   ]
  },
  {
   "cell_type": "markdown",
   "id": "sublime-helping",
   "metadata": {},
   "source": [
    "## Step 3. 어텐션 메커니즘 사용하기 (추상적 요약)\n",
    "일반적인 seq2seq보다는 어텐션 메커니즘을 사용한 seq2seq를 사용하는 것이 더 나은 성능을 얻을 수 있어요. 실습 내용을 참고하여 어텐션 메커니즘을 사용한 seq2seq를 설계해 보세요."
   ]
  },
  {
   "cell_type": "markdown",
   "id": "tight-impression",
   "metadata": {},
   "source": [
    "### 모델 설계하기\n",
    "#### 인코더 설계"
   ]
  },
  {
   "cell_type": "code",
   "execution_count": 33,
   "id": "medium-kenya",
   "metadata": {},
   "outputs": [
    {
     "name": "stdout",
     "output_type": "stream",
     "text": [
      "WARNING:tensorflow:Layer lstm will not use cuDNN kernel since it doesn't meet the cuDNN kernel criteria. It will use generic GPU kernel as fallback when running on GPU\n",
      "WARNING:tensorflow:Layer lstm_1 will not use cuDNN kernel since it doesn't meet the cuDNN kernel criteria. It will use generic GPU kernel as fallback when running on GPU\n",
      "WARNING:tensorflow:Layer lstm_2 will not use cuDNN kernel since it doesn't meet the cuDNN kernel criteria. It will use generic GPU kernel as fallback when running on GPU\n"
     ]
    }
   ],
   "source": [
    "from tensorflow.keras.layers import Input, LSTM, Embedding, Dense, Concatenate\n",
    "from tensorflow.keras.models import Model\n",
    "from tensorflow.keras.callbacks import EarlyStopping, ModelCheckpoint\n",
    "\n",
    "\n",
    "# 인코더 설계 시작\n",
    "embedding_dim = 128\n",
    "hidden_size = 256\n",
    "\n",
    "# 인코더\n",
    "encoder_inputs = Input(shape=(text_max_len,))\n",
    "\n",
    "# 인코더의 임베딩 층\n",
    "enc_emb = Embedding(src_vocab, embedding_dim)(encoder_inputs)\n",
    "\n",
    "# 인코더의 LSTM 1\n",
    "encoder_lstm1 = LSTM(hidden_size, return_sequences=True, return_state=True ,dropout = 0.4, recurrent_dropout = 0.4)\n",
    "encoder_output1, state_h1, state_c1 = encoder_lstm1(enc_emb)\n",
    "\n",
    "# 인코더의 LSTM 2\n",
    "encoder_lstm2 = LSTM(hidden_size, return_sequences=True, return_state=True, dropout=0.4, recurrent_dropout=0.4)\n",
    "encoder_output2, state_h2, state_c2 = encoder_lstm2(encoder_output1)\n",
    "\n",
    "# 인코더의 LSTM 3\n",
    "encoder_lstm3 = LSTM(hidden_size, return_state=True, return_sequences=True, dropout=0.4, recurrent_dropout=0.4)\n",
    "encoder_outputs, state_h, state_c= encoder_lstm3(encoder_output2)"
   ]
  },
  {
   "cell_type": "markdown",
   "id": "macro-guarantee",
   "metadata": {},
   "source": [
    "#### 디코더 설계"
   ]
  },
  {
   "cell_type": "code",
   "execution_count": 34,
   "id": "signed-breeding",
   "metadata": {},
   "outputs": [
    {
     "name": "stdout",
     "output_type": "stream",
     "text": [
      "WARNING:tensorflow:Layer lstm_3 will not use cuDNN kernel since it doesn't meet the cuDNN kernel criteria. It will use generic GPU kernel as fallback when running on GPU\n"
     ]
    }
   ],
   "source": [
    "# 디코더 설계\n",
    "decoder_inputs = Input(shape=(None,))\n",
    "\n",
    "# 디코더의 임베딩 층\n",
    "dec_emb_layer = Embedding(tar_vocab, embedding_dim)\n",
    "dec_emb = dec_emb_layer(decoder_inputs)\n",
    "\n",
    "# 디코더의 LSTM\n",
    "decoder_lstm = LSTM(hidden_size, return_sequences=True, return_state=True, dropout=0.4, recurrent_dropout=0.2)\n",
    "decoder_outputs, _, _ = decoder_lstm(dec_emb, initial_state=[state_h, state_c])"
   ]
  },
  {
   "cell_type": "markdown",
   "id": "welsh-synthetic",
   "metadata": {},
   "source": [
    "#### 디코더 출력층 설계"
   ]
  },
  {
   "cell_type": "code",
   "execution_count": 35,
   "id": "activated-scottish",
   "metadata": {},
   "outputs": [
    {
     "name": "stdout",
     "output_type": "stream",
     "text": [
      "Model: \"model\"\n",
      "__________________________________________________________________________________________________\n",
      "Layer (type)                    Output Shape         Param #     Connected to                     \n",
      "==================================================================================================\n",
      "input_1 (InputLayer)            [(None, 40)]         0                                            \n",
      "__________________________________________________________________________________________________\n",
      "embedding (Embedding)           (None, 40, 128)      2304000     input_1[0][0]                    \n",
      "__________________________________________________________________________________________________\n",
      "lstm (LSTM)                     [(None, 40, 256), (N 394240      embedding[0][0]                  \n",
      "__________________________________________________________________________________________________\n",
      "input_2 (InputLayer)            [(None, None)]       0                                            \n",
      "__________________________________________________________________________________________________\n",
      "lstm_1 (LSTM)                   [(None, 40, 256), (N 525312      lstm[0][0]                       \n",
      "__________________________________________________________________________________________________\n",
      "embedding_1 (Embedding)         (None, None, 128)    1024000     input_2[0][0]                    \n",
      "__________________________________________________________________________________________________\n",
      "lstm_2 (LSTM)                   [(None, 40, 256), (N 525312      lstm_1[0][0]                     \n",
      "__________________________________________________________________________________________________\n",
      "lstm_3 (LSTM)                   [(None, None, 256),  394240      embedding_1[0][0]                \n",
      "                                                                 lstm_2[0][1]                     \n",
      "                                                                 lstm_2[0][2]                     \n",
      "__________________________________________________________________________________________________\n",
      "dense (Dense)                   (None, None, 8000)   2056000     lstm_3[0][0]                     \n",
      "==================================================================================================\n",
      "Total params: 7,223,104\n",
      "Trainable params: 7,223,104\n",
      "Non-trainable params: 0\n",
      "__________________________________________________________________________________________________\n"
     ]
    }
   ],
   "source": [
    "# 디코더의 출력층\n",
    "decoder_softmax_layer = Dense(tar_vocab, activation='softmax')\n",
    "decoder_softmax_outputs = decoder_softmax_layer(decoder_outputs) \n",
    "\n",
    "# 모델 정의\n",
    "model = Model([encoder_inputs, decoder_inputs], decoder_softmax_outputs)\n",
    "model.summary()"
   ]
  },
  {
   "cell_type": "markdown",
   "id": "pressed-tomato",
   "metadata": {},
   "source": [
    "### 어텐션 메커니즘"
   ]
  },
  {
   "cell_type": "code",
   "execution_count": 36,
   "id": "tutorial-pressing",
   "metadata": {},
   "outputs": [],
   "source": [
    "urllib.request.urlretrieve(\"https://raw.githubusercontent.com/thushv89/attention_keras/master/src/layers/attention.py\", filename=\"attention.py\")\n",
    "from attention import AttentionLayer"
   ]
  },
  {
   "cell_type": "code",
   "execution_count": 37,
   "id": "unable-profession",
   "metadata": {},
   "outputs": [
    {
     "name": "stdout",
     "output_type": "stream",
     "text": [
      "Model: \"model_1\"\n",
      "__________________________________________________________________________________________________\n",
      "Layer (type)                    Output Shape         Param #     Connected to                     \n",
      "==================================================================================================\n",
      "input_1 (InputLayer)            [(None, 40)]         0                                            \n",
      "__________________________________________________________________________________________________\n",
      "embedding (Embedding)           (None, 40, 128)      2304000     input_1[0][0]                    \n",
      "__________________________________________________________________________________________________\n",
      "lstm (LSTM)                     [(None, 40, 256), (N 394240      embedding[0][0]                  \n",
      "__________________________________________________________________________________________________\n",
      "input_2 (InputLayer)            [(None, None)]       0                                            \n",
      "__________________________________________________________________________________________________\n",
      "lstm_1 (LSTM)                   [(None, 40, 256), (N 525312      lstm[0][0]                       \n",
      "__________________________________________________________________________________________________\n",
      "embedding_1 (Embedding)         (None, None, 128)    1024000     input_2[0][0]                    \n",
      "__________________________________________________________________________________________________\n",
      "lstm_2 (LSTM)                   [(None, 40, 256), (N 525312      lstm_1[0][0]                     \n",
      "__________________________________________________________________________________________________\n",
      "lstm_3 (LSTM)                   [(None, None, 256),  394240      embedding_1[0][0]                \n",
      "                                                                 lstm_2[0][1]                     \n",
      "                                                                 lstm_2[0][2]                     \n",
      "__________________________________________________________________________________________________\n",
      "attention_layer (AttentionLayer ((None, None, 256),  131328      lstm_2[0][0]                     \n",
      "                                                                 lstm_3[0][0]                     \n",
      "__________________________________________________________________________________________________\n",
      "concat_layer (Concatenate)      (None, None, 512)    0           lstm_3[0][0]                     \n",
      "                                                                 attention_layer[0][0]            \n",
      "__________________________________________________________________________________________________\n",
      "dense_1 (Dense)                 (None, None, 8000)   4104000     concat_layer[0][0]               \n",
      "==================================================================================================\n",
      "Total params: 9,402,432\n",
      "Trainable params: 9,402,432\n",
      "Non-trainable params: 0\n",
      "__________________________________________________________________________________________________\n"
     ]
    }
   ],
   "source": [
    "# 어텐션 층(어텐션 함수)\n",
    "attn_layer = AttentionLayer(name='attention_layer')\n",
    "# 인코더와 디코더의 모든 time step의 hidden state를 어텐션 층에 전달하고 결과를 리턴\n",
    "attn_out, attn_states = attn_layer([encoder_outputs, decoder_outputs])\n",
    "\n",
    "# 어텐션의 결과와 디코더의 hidden state들을 연결\n",
    "decoder_concat_input = Concatenate(axis=-1, name='concat_layer')([decoder_outputs, attn_out])\n",
    "\n",
    "# 디코더의 출력층\n",
    "decoder_softmax_layer = Dense(tar_vocab, activation='softmax')\n",
    "decoder_softmax_outputs = decoder_softmax_layer(decoder_concat_input)\n",
    "\n",
    "# 모델 정의\n",
    "model = Model([encoder_inputs, decoder_inputs], decoder_softmax_outputs)\n",
    "model.summary()"
   ]
  },
  {
   "cell_type": "markdown",
   "id": "light-processor",
   "metadata": {},
   "source": [
    "### 모델 훈련하기"
   ]
  },
  {
   "cell_type": "code",
   "execution_count": 38,
   "id": "standard-lesbian",
   "metadata": {},
   "outputs": [
    {
     "name": "stdout",
     "output_type": "stream",
     "text": [
      "Epoch 1/50\n",
      "269/269 [==============================] - 185s 646ms/step - loss: 6.2070 - val_loss: 5.4128\n",
      "Epoch 2/50\n",
      "269/269 [==============================] - 176s 656ms/step - loss: 5.3577 - val_loss: 5.0678\n",
      "Epoch 3/50\n",
      "269/269 [==============================] - 175s 649ms/step - loss: 4.9766 - val_loss: 4.8049\n",
      "Epoch 4/50\n",
      "269/269 [==============================] - 179s 665ms/step - loss: 4.6819 - val_loss: 4.5839\n",
      "Epoch 5/50\n",
      "269/269 [==============================] - 178s 660ms/step - loss: 4.4585 - val_loss: 4.4250\n",
      "Epoch 6/50\n",
      "269/269 [==============================] - 177s 657ms/step - loss: 4.2525 - val_loss: 4.3093\n",
      "Epoch 7/50\n",
      "269/269 [==============================] - 173s 644ms/step - loss: 4.0831 - val_loss: 4.2123\n",
      "Epoch 8/50\n",
      "269/269 [==============================] - 172s 638ms/step - loss: 3.9403 - val_loss: 4.1104\n",
      "Epoch 9/50\n",
      "269/269 [==============================] - 172s 639ms/step - loss: 3.8082 - val_loss: 4.0385\n",
      "Epoch 10/50\n",
      "269/269 [==============================] - 169s 627ms/step - loss: 3.6980 - val_loss: 3.9880\n",
      "Epoch 11/50\n",
      "269/269 [==============================] - 166s 619ms/step - loss: 3.5911 - val_loss: 3.9613\n",
      "Epoch 12/50\n",
      "269/269 [==============================] - 166s 618ms/step - loss: 3.4984 - val_loss: 3.9107\n",
      "Epoch 13/50\n",
      "269/269 [==============================] - 166s 618ms/step - loss: 3.4166 - val_loss: 3.8718\n",
      "Epoch 14/50\n",
      "269/269 [==============================] - 167s 621ms/step - loss: 3.3386 - val_loss: 3.8430\n",
      "Epoch 15/50\n",
      "269/269 [==============================] - 166s 619ms/step - loss: 3.2650 - val_loss: 3.8278\n",
      "Epoch 16/50\n",
      "269/269 [==============================] - 166s 617ms/step - loss: 3.2031 - val_loss: 3.8005\n",
      "Epoch 17/50\n",
      "269/269 [==============================] - 166s 617ms/step - loss: 3.1385 - val_loss: 3.7831\n",
      "Epoch 18/50\n",
      "269/269 [==============================] - 167s 621ms/step - loss: 3.0860 - val_loss: 3.7820\n",
      "Epoch 19/50\n",
      "269/269 [==============================] - 166s 619ms/step - loss: 3.0334 - val_loss: 3.7674\n",
      "Epoch 20/50\n",
      "269/269 [==============================] - 165s 614ms/step - loss: 2.9805 - val_loss: 3.7452\n",
      "Epoch 21/50\n",
      "269/269 [==============================] - 167s 620ms/step - loss: 2.9372 - val_loss: 3.7425\n",
      "Epoch 22/50\n",
      "269/269 [==============================] - 166s 617ms/step - loss: 2.8859 - val_loss: 3.7321\n",
      "Epoch 23/50\n",
      "269/269 [==============================] - 168s 623ms/step - loss: 2.8515 - val_loss: 3.7328\n",
      "Epoch 24/50\n",
      "269/269 [==============================] - 165s 614ms/step - loss: 2.8104 - val_loss: 3.7258\n",
      "Epoch 25/50\n",
      "269/269 [==============================] - 168s 625ms/step - loss: 2.7723 - val_loss: 3.7225\n",
      "Epoch 26/50\n",
      "269/269 [==============================] - 167s 620ms/step - loss: 2.7353 - val_loss: 3.7264\n",
      "Epoch 27/50\n",
      "269/269 [==============================] - 167s 620ms/step - loss: 2.7055 - val_loss: 3.7192\n",
      "Epoch 28/50\n",
      "269/269 [==============================] - 168s 625ms/step - loss: 2.6757 - val_loss: 3.7158\n",
      "Epoch 29/50\n",
      "269/269 [==============================] - 169s 627ms/step - loss: 2.6460 - val_loss: 3.7156\n",
      "Epoch 30/50\n",
      "269/269 [==============================] - 168s 626ms/step - loss: 2.6131 - val_loss: 3.7091\n",
      "Epoch 31/50\n",
      "269/269 [==============================] - 168s 624ms/step - loss: 2.5862 - val_loss: 3.7327\n",
      "Epoch 32/50\n",
      "269/269 [==============================] - 167s 620ms/step - loss: 2.5579 - val_loss: 3.7173\n",
      "Epoch 00032: early stopping\n"
     ]
    }
   ],
   "source": [
    "model.compile(optimizer='rmsprop', loss='sparse_categorical_crossentropy')\n",
    "es = EarlyStopping(monitor='val_loss', patience=2, verbose=1)\n",
    "history = model.fit(x=[encoder_input_train, decoder_input_train], y=decoder_target_train, \\\n",
    "          validation_data=([encoder_input_test, decoder_input_test], decoder_target_test), \\\n",
    "          batch_size=256, callbacks=[es], epochs=50)"
   ]
  },
  {
   "cell_type": "code",
   "execution_count": 39,
   "id": "consolidated-avenue",
   "metadata": {},
   "outputs": [
    {
     "data": {
      "image/png": "[encoded data removed]",
      "text/plain": [
       "<Figure size 432x288 with 1 Axes>"
      ]
     },
     "metadata": {
      "needs_background": "light"
     },
     "output_type": "display_data"
    }
   ],
   "source": [
    "plt.plot(history.history['loss'], label='train')\n",
    "plt.plot(history.history['val_loss'], label='test')\n",
    "plt.legend()\n",
    "plt.show()"
   ]
  },
  {
   "cell_type": "markdown",
   "id": "flush-grace",
   "metadata": {},
   "source": [
    "### 인퍼런스 모델 구현하기"
   ]
  },
  {
   "cell_type": "code",
   "execution_count": 40,
   "id": "verified-purchase",
   "metadata": {},
   "outputs": [],
   "source": [
    "src_index_to_word = src_tokenizer.index_word # 원문 단어 집합에서 정수 -> 단어를 얻음\n",
    "tar_word_to_index = tar_tokenizer.word_index # 요약 단어 집합에서 단어 -> 정수를 얻음\n",
    "tar_index_to_word = tar_tokenizer.index_word # 요약 단어 집합에서 정수 -> 단어를 얻음"
   ]
  },
  {
   "cell_type": "code",
   "execution_count": 41,
   "id": "micro-motel",
   "metadata": {},
   "outputs": [],
   "source": [
    "# 인코더 설계\n",
    "encoder_model = Model(inputs=encoder_inputs, outputs=[encoder_outputs, state_h, state_c])\n",
    "\n",
    "# 이전 시점의 상태들을 저장하는 텐서\n",
    "decoder_state_input_h = Input(shape=(hidden_size,))\n",
    "decoder_state_input_c = Input(shape=(hidden_size,))\n",
    "\n",
    "dec_emb2 = dec_emb_layer(decoder_inputs)\n",
    "\n",
    "# 문장의 다음 단어를 예측하기 위해서 초기 상태(initial_state)를 이전 시점의 상태로 사용. 이는 뒤의 함수 decode_sequence()에 구현\n",
    "# 훈련 과정에서와 달리 LSTM의 리턴하는 은닉 상태와 셀 상태인 state_h와 state_c를 버리지 않음.\n",
    "decoder_outputs2, state_h2, state_c2 = decoder_lstm(dec_emb2, initial_state=[decoder_state_input_h, decoder_state_input_c])"
   ]
  },
  {
   "cell_type": "code",
   "execution_count": 42,
   "id": "after-uncertainty",
   "metadata": {},
   "outputs": [],
   "source": [
    "# 어텐션 함수\n",
    "decoder_hidden_state_input = Input(shape=(text_max_len, hidden_size))\n",
    "attn_out_inf, attn_states_inf = attn_layer([decoder_hidden_state_input, decoder_outputs2])\n",
    "decoder_inf_concat = Concatenate(axis=-1, name='concat')([decoder_outputs2, attn_out_inf])\n",
    "\n",
    "# 디코더의 출력층\n",
    "decoder_outputs2 = decoder_softmax_layer(decoder_inf_concat) \n",
    "\n",
    "# 최종 디코더 모델\n",
    "decoder_model = Model(\n",
    "    [decoder_inputs] + [decoder_hidden_state_input,decoder_state_input_h, decoder_state_input_c],\n",
    "    [decoder_outputs2] + [state_h2, state_c2])"
   ]
  },
  {
   "cell_type": "code",
   "execution_count": 43,
   "id": "greenhouse-russell",
   "metadata": {},
   "outputs": [],
   "source": [
    "def decode_sequence(input_seq):\n",
    "    # 입력으로부터 인코더의 상태를 얻음\n",
    "    e_out, e_h, e_c = encoder_model.predict(input_seq)\n",
    "\n",
    "     # <SOS>에 해당하는 토큰 생성\n",
    "    target_seq = np.zeros((1,1))\n",
    "    target_seq[0, 0] = tar_word_to_index['sostoken']\n",
    "\n",
    "    stop_condition = False\n",
    "    decoded_sentence = ''\n",
    "    while not stop_condition: # stop_condition이 True가 될 때까지 루프 반복\n",
    "\n",
    "        output_tokens, h, c = decoder_model.predict([target_seq] + [e_out, e_h, e_c])\n",
    "        sampled_token_index = np.argmax(output_tokens[0, -1, :])\n",
    "        sampled_token = tar_index_to_word[sampled_token_index]\n",
    "\n",
    "        if (sampled_token!='eostoken'):\n",
    "            decoded_sentence += ' '+sampled_token\n",
    "\n",
    "        #  <eos>에 도달하거나 최대 길이를 넘으면 중단.\n",
    "        if (sampled_token == 'eostoken'  or len(decoded_sentence.split()) >= (headlines_max_len-1)):\n",
    "            stop_condition = True\n",
    "\n",
    "        # 길이가 1인 타겟 시퀀스를 업데이트\n",
    "        target_seq = np.zeros((1,1))\n",
    "        target_seq[0, 0] = sampled_token_index\n",
    "\n",
    "        # 상태를 업데이트 합니다.\n",
    "        e_h, e_c = h, c\n",
    "\n",
    "    return decoded_sentence"
   ]
  },
  {
   "cell_type": "markdown",
   "id": "fatty-healing",
   "metadata": {},
   "source": [
    "## Step 4. 실제 결과와 요약문 비교하기 (추상적 요약)\n",
    "원래의 요약문(headlines 열)과 학습을 통해 얻은 추상적 요약의 결과를 비교해 보세요.\n",
    "### 모델 테스트하기"
   ]
  },
  {
   "cell_type": "code",
   "execution_count": 46,
   "id": "timely-drain",
   "metadata": {},
   "outputs": [],
   "source": [
    "# 원문의 정수 시퀀스를 텍스트 시퀀스로 변환\n",
    "def seq2text(input_seq):\n",
    "    temp=''\n",
    "    for i in input_seq:\n",
    "        if (i!=0):\n",
    "            temp = temp + src_index_to_word[i]+' '\n",
    "    return temp\n",
    "\n",
    "# 요약문의 정수 시퀀스를 텍스트 시퀀스로 변환\n",
    "def seq2headlines(input_seq):\n",
    "    temp=''\n",
    "    for i in input_seq:\n",
    "        if ((i!=0 and i!=tar_word_to_index['sostoken']) and i!=tar_word_to_index['eostoken']):\n",
    "            temp = temp + tar_index_to_word[i] + ' '\n",
    "    return temp"
   ]
  },
  {
   "cell_type": "code",
   "execution_count": 47,
   "id": "practical-workstation",
   "metadata": {},
   "outputs": [
    {
     "name": "stdout",
     "output_type": "stream",
     "text": [
      "원문 : police department alabama us said crimes risen young people turned away god satan statement written department facebook page followed two murders county two days added five murders occurred post removed page following backlash \n",
      "실제 요약 : us police blames rising crime on people rejecting god \n",
      "예측 요약 :  us police admits to drug trafficking in\n",
      "\n",
      "\n",
      "원문 : talking cancellation event delhi commemorate year exile dalai lama said matter important heart cancellation came allegedly india cautioned officials stay away events tibetan leaders sensitive time relations china \n",
      "실제 요약 : cancellation of tibetan event does not matter dalai lama \n",
      "예측 요약 :  india is the best in india\n",
      "\n",
      "\n",
      "원문 : nasa parker solar probe made first close approach sun two half months liftoff spacecraft flew within million km sun surface speed topping kmph relative sun spacecraft make even closer approaches seven years next one scheduled april \n",
      "실제 요약 : nasa spacecraft makes st close approach to sun at mn km \n",
      "예측 요약 :  nasa to launch first ever ever rings in years\n",
      "\n",
      "\n",
      "원문 : consumer goods giant emami said race buy glaxosmithkline kraft heinz want enter food business right interesting high growth categories expansion emami director harsha agarwal said itc earlier said interested acquiring kraft heinz brands \n",
      "실제 요약 : rules out buying health drinks and \n",
      "예측 요약 :  we are ready to sell business business to customers\n",
      "\n",
      "\n",
      "원문 : former south african captain graeme smith said sure virat kohli long term captaincy option team india smith added kohli reaction situations sometimes negative impact team think needs someone environment challenge different ideas help grow smith said \n",
      "실제 요약 : if kohli long term captaincy option ex sa captain \n",
      "예측 요약 :  kohli should be in india than kohli ex sa captain\n",
      "\n",
      "\n",
      "원문 : bjp mp udit raj demanded adequate representation scheduled castes scheduled tribes judiciary called law minister ravi shankar prasad proposal advocating reservation judicial service highly relevant said provision service constitution implemented far \n",
      "실제 요약 : ensure enough of sc st in judiciary bjp mp \n",
      "예측 요약 :  bjp mp seeks reservation for non status\n",
      "\n",
      "\n",
      "원문 : indian women cricket team opener smriti mandhana scored runs hit sixes english league playing western storm adjudged player tournament year old hit one hundred two fifties nine innings strike rate western storm crashed semi final \n",
      "실제 요약 : with runs smriti wins eng league top award \n",
      "예측 요약 :  mandhana hit sixes in indian cricket in\n",
      "\n",
      "\n",
      "원문 : australia ended second day fourth test trailing india runs india declared first innings overs centuries cheteshwar pujara rishabh pant half centuries mayank agarwal ravindra jadeja india second highest total sydney january \n",
      "실제 요약 : india declare at on day after pujara pant tons aus \n",
      "예측 요약 :  australia test series to lead to runs in australia\n",
      "\n",
      "\n",
      "원문 : year old boy indonesia claimed laid eggs last two years reports said boy father said son repeatedly hospitalised condition laid two eggs front doctors doctors claimed eggs rectum admitted hospital \n",
      "실제 요약 : indonesian boy claims eggs in years \n",
      "예측 요약 :  yr old boy saves father from snake\n",
      "\n",
      "\n",
      "원문 : bengaluru based fashion retailer ceo ali dismissed reports startup asked employees salaries three months asked team members ready uncertainty worst case event salary payments delayed said full intent paying salaries time added \n",
      "실제 요약 : ceo dismisses reports of employee salary cuts \n",
      "예측 요약 :  paytm ceo aamir khan pay pay for salary\n",
      "\n",
      "\n",
      "원문 : year old inmate state run shelter home andhra pradesh tirupati allegedly raped thrashed superintendent four years claimed molested several girls offered precautionary measure revealed ordeal child welfare committee upon transferred another shelter home \n",
      "실제 요약 : year old raped by in andhra shelter home \n",
      "예측 요약 :  yr old rajasthan girl raped by seniors in andhra\n",
      "\n",
      "\n",
      "원문 : vaani kapoor featured recreated version main yaar film recreated version dance mix sung sharma speaking song vaani said one favourite songs yash chopra movie song never giving one love \n",
      "실제 요약 : vaani stars in recreated version of main \n",
      "예측 요약 :  ranbir kriti starrer to feature in\n",
      "\n",
      "\n",
      "원문 : two weeks resigned biju janata dal lok sabha mp jay panda tuesday tendered resignation member lok sabha panda suspended bjd anti party activities january quit party may saying unhappy bjd members attend father funeral \n",
      "실제 요약 : odisha mp jay panda who quit resigns from lok sabha \n",
      "예측 요약 :  mp quits party after lok sabha speaker\n",
      "\n",
      "\n",
      "원문 : southeast asian ride hailing startup grab raised million funding thailand commercial banking group part strategic partnership funding part ongoing series round includes investors like microsoft hyundai part deal startup launch electronic wallet sixth southeast asian market \n",
      "실제 요약 : ride hailing startup grab raises mn from thailand bank \n",
      "예측 요약 :  ola raises million in scooter rental startup\n",
      "\n",
      "\n",
      "원문 : governor south indian state accused demanding sexual favours women employees official residence central government initiated probe matter identity governor revealed state politically january meghalaya governor resigned similar allegations \n",
      "실제 요약 : governor of south indian state accused of sexual misconduct \n",
      "예측 요약 :  no sexual assault cases against women in india\n",
      "\n",
      "\n",
      "원문 : cbi registered fresh fir gitanjali group based complaint punjab national bank alleging cheated bank crore following cbi raided gitanjali group locations mumbai pune surat among others gitanjali group promoted mehul choksi uncle fraud accused jeweller nirav modi \n",
      "실제 요약 : gitanjali group cheated pnb of crore cbi \n",
      "예측 요약 :  fir against ex sbi chief for cheating of crore\n",
      "\n",
      "\n",
      "원문 : lalu prasad yadav son tej pratap took bath dalit family house constituency bihar shared pictures twitter calling sweet experience rjd leader also held tea tej campaign constituency residents invited tea share problem \n",
      "실제 요약 : lalu son takes bath at dalit home posts pics on twitter \n",
      "예측 요약 :  lalu son tej pratap yadav to attend party\n",
      "\n",
      "\n",
      "원문 : centre asked states union territories monitor content aired private community radio stations existing committees set keep watch television broadcast private community required follow india radio broadcast code bars criticism friendly countries attack religions communities anything obscene defamatory \n",
      "실제 요약 : monitor content of pvt community radio stations centre \n",
      "예측 요약 :  govt asks states to use internet to use internet\n",
      "\n",
      "\n",
      "원문 : people including coast guard personnel saturday took part annual cleaning drive three mumbai beaches mark international coastal cleanup day campaign organised dadar juhu beach coast guard educated citizens marine pollution ways could keep beaches seas clean \n",
      "실제 요약 : coast guard celebrates int day in mumbai \n",
      "예측 요약 :  people drown in landslide in mumbai\n",
      "\n",
      "\n",
      "원문 : talking former employee sexual harassment allegations director vikas bahl filmmaker bahl partner phantom films anurag kashyap said believe completely bahl done anurag added whatever happened wrong handle well failed cannot blame anyone said support \n",
      "실제 요약 : what vikas has done is anurag on harassment row \n",
      "예측 요약 :  vikas should not take legal kashyap on anurag kashyap\n",
      "\n",
      "\n",
      "원문 : kit harington portrays jon snow game thrones named worst dressed man annual list british gq january issue personalities featured worst dressed list include comedian pewdiepie tesla ceo elon musk meanwhile crown actor matt smith topped list best dressed man \n",
      "실제 요약 : game of thrones actor kit named worst dressed man \n",
      "예측 요약 :  thrones star wars star wars named most ever game\n",
      "\n",
      "\n",
      "원문 : former india captain mahendra singh dhoni ex australian opener matthew hayden participate six hitting contest chidambaram stadium chennai saturday competition take place ahead inaugural match tamil nadu premier league second edition dhoni players face bowling machine one hour contest \n",
      "실제 요약 : dhoni to compete in six hitting contest \n",
      "예측 요약 :  ms dhoni visits chennai ahead of ipl match\n",
      "\n",
      "\n",
      "원문 : delhi lt governor anil baijal wednesday approved government higher education skill development loan guarantee scheme scheme students provided loans lakh banks government also asked delhi government ensure linkage loan aadhaar number scheme time bound manner \n",
      "실제 요약 : delhi approves state govt higher education loan scheme \n",
      "예측 요약 :  govt announces scholarship for bank scheme\n",
      "\n",
      "\n",
      "원문 : official twitter handle aiyaary taking dig sharing release date pad man wrote good back earlier aiyaary moved release date january february avoid clash pad man however pad man shifted release date day aiyaary \n",
      "실제 요약 : good to have you back aiyaary on clash with pad man \n",
      "예측 요약 :  release date of film on film announced\n",
      "\n",
      "\n",
      "원문 : telecom department made mandatory phones including feature phones install global positioning system january order aims ensure consumers safety gps help locate emergency situations industry however warned decision might raise prices feature phones \n",
      "실제 요약 : govt gps in all phones from jan \n",
      "예측 요약 :  aadhaar devices to be mandatory for mobile phones\n",
      "\n",
      "\n",
      "원문 : actress aishwarya rai bachchan confirmed star film gulab husband abhishek bachchan said got many scripts times got discuss loud marriage define choices aishwarya abhishek last seen together mani film \n",
      "실제 요약 : aishwarya confirms starring in with abhishek \n",
      "예측 요약 :  aishwarya aishwarya to star in debut reports\n",
      "\n",
      "\n",
      "원문 : american actor smith son smith launched latest album electric album instagram posts one minute long instagram profile combined make entire selection track electric reboot previously released work including icon also got smith remake \n",
      "실제 요약 : will smith son launches his latest album only on instagram \n",
      "예측 요약 :  amazon to launch smartphone on the year old\n",
      "\n",
      "\n",
      "원문 : year old boy delhi created fake supreme court website uploaded forged court orders favour blind father boy allegedly father assistant professor lost case college worked even posed chief justice sought action high court judges police said \n",
      "실제 요약 : teen sc website to protect blind father reputation \n",
      "예측 요약 :  year old booked for fake son in haryana\n",
      "\n",
      "\n",
      "원문 : twitter shares fell around thursday reports claimed micro blogging platform facing boycott agencies fox news reportedly comes silent protest twitter handled harassment one fox news hosts news agency owned st century fox tweeted platform since november \n",
      "실제 요약 : twitter shares fall post reports of boycott by fox news \n",
      "예측 요약 :  investor shares tweet on twitter over sexual harassment row\n",
      "\n",
      "\n",
      "원문 : devi pregnant indian origin woman killed arrow pierced abdomen attack london however unborn baby survived emergency caesarean section arrow went heart touch baby doctors operated arrow still would dangerous take said devi husband \n",
      "실제 요약 : indian origin pregnant woman killed in attack baby survives \n",
      "예측 요약 :  pregnant woman dies after being hit by baby\n",
      "\n",
      "\n",
      "원문 : punjab cm captain amarinder singh thursday turned state minister navjot singh sidhu proposal legalise cultivation opium state saying favour growing anything concept drugs fighting like anything created special force deal cm added \n",
      "실제 요약 : not in favour of growing punjab cm on sidhu proposal \n",
      "예측 요약 :  punjab cm amarinder singh\n",
      "\n",
      "\n",
      "원문 : ceo tesco dave lewis saw pay package last year despite leading company first year sales growth seven years boss uk biggest supermarket chain received million last year less million package year earlier \n",
      "실제 요약 : ceo of uk biggest supermarket sees crore cut in year \n",
      "예측 요약 :  ceo kashyap pay hiked to billion in\n",
      "\n",
      "\n",
      "원문 : us based researchers discovered human immune system remembers prevent infections even decades later team found four weeks yellow fever vaccination contain weak microbes resembling virus body makes memory pool virus fighting cells triggered live times longer average immune cell \n",
      "실제 요약 : study finds how body to fight disease \n",
      "예측 요약 :  us researchers develop new cells\n",
      "\n",
      "\n",
      "원문 : johnson johnson ordered pay million woman blamed ovarian cancer products woman used baby powder shower shower talc products years diagnosis lawsuits accused ignoring studies linking products ovarian cancer \n",
      "실제 요약 : asked to pay cr to woman who blamed cancer on powder \n",
      "예측 요약 :  johnson johnson of man who lost cancer\n",
      "\n",
      "\n",
      "원문 : philippine president rodrigo duterte confessed teenager tried touch inside maid sleeping woke left room said adding went bathroom usual duterte said returned maid room tried \n",
      "실제 요약 : tried to touch inside my maid as teen philippine prez \n",
      "예측 요약 :  duterte calls man who was an actor\n",
      "\n",
      "\n",
      "원문 : miss world manushi chhillar featured cover february issue magazine seen wearing hand embroidered bikini top yellow skirt black details designer manish arora manushi also sported rings jewellery brand cover \n",
      "실제 요약 : miss world manushi chhillar features on cover \n",
      "예측 요약 :  miss world manushi chhillar features on cover of vogue\n",
      "\n",
      "\n",
      "원문 : newly appointed uttar pradesh chief minister yogi adityanath saturday clarified slaughterhouses operating valid licence state would touched violating orders ngt playing health public would spared adityanath asserted \n",
      "실제 요약 : slaughterhouses with valid licence will not be touched up cm \n",
      "예측 요약 :  cannot stop shops in up cm yogi adityanath\n",
      "\n",
      "\n",
      "원문 : according reports hollywood actor sylvester stallone make appearance indian remake rambo stars tiger shroff per source reacting tiger said would great super excited stepping mr stallone shoes place notably stallone played character john rambo film series \n",
      "실제 요약 : sylvester stallone to star in tiger remake report \n",
      "예측 요약 :  mallika disha to star in sequel report\n",
      "\n",
      "\n",
      "원문 : kkr captain dinesh karthik took instagram share collage comparing rajasthan royals captain ajinkya rahane stumping ipl michael vaughan dismissal odi rahane ran poll along picture asking think vaughan remembers commentating karthik effected rahane stumping vaughan said brilliant \n",
      "실제 요약 : karthik compares rahane to wicket \n",
      "예측 요약 :  kkr karthik to kuldeep yadav after kuldeep yadav\n",
      "\n",
      "\n",
      "원문 : hollywood actor george clooney surprised pat adams fan stays care home uk flowers th birthday adams previously taken part home wish upon star programme encourages residents make wish staff attempt fulfil adams wished meeting george clooney \n",
      "실제 요약 : george clooney surprises year old fan with day flowers \n",
      "예측 요약 :  john cena shares childhood picture with fan\n",
      "\n",
      "\n",
      "원문 : release date farhan akhtar starrer venice announced january decade made talking delay film director anand said purely attributed production issues last two years working internal issues let ar rahman sir create good music \n",
      "실제 요약 : release date of the of venice announced after yrs \n",
      "예측 요약 :  release date of sanju in film industry\n",
      "\n",
      "\n",
      "원문 : censor board chief pahlaj nihalani said content reality shows crime shows daily soaps television crossing limits added women raped attacks minor girls shown violated nihalani said free flow content must stop affects natural psychological development kids \n",
      "실제 요약 : content of shows on tv is crossing all limits cbfc chief \n",
      "예측 요약 :  cbfc chief pahlaj calls for rape victim\n",
      "\n",
      "\n",
      "원문 : actress swara bhasker speaking facing sexual harassment revealed director stalked harassed texts dinner invites first week started talking love sex added swara said finally confided executive producer made sure escorted everywhere \n",
      "실제 요약 : director me talked about love and sex swara \n",
      "예측 요약 :  women actress swara on sexual harassment\n",
      "\n",
      "\n",
      "원문 : us based physicists created fluid negative mass opposite direction pushed matter negative mass sense electric charge either negative positive scientists said negative mass created laser cooling atoms almost absolute zero temperatures making bose einstein \n",
      "실제 요약 : scientists create negative mass that \n",
      "예측 요약 :  scientists claim to study of matter of matter\n",
      "\n",
      "\n",
      "원문 : asserting sage mentioned ramayana mahabharata information everything world gujarat chief minister vijay rupani sunday said google like sage relevant today time man information collecting information dharma added \n",
      "실제 요약 : google is like who knew everything in world guj cm \n",
      "예측 요약 :  gujarat is not fake job says minister\n",
      "\n",
      "\n",
      "원문 : union hrd minister prakash javadekar thursday tweeted india map way looked without telangana faced flak hours non stop coding across cities develop innovative solutions problems posed ministries javadekar tweeted kids learn shows india map without telangana user tweeted \n",
      "실제 요약 : hrd minister tweets india map without gana faces \n",
      "예측 요약 :  twitter reacts to make up taj mahal\n",
      "\n",
      "\n",
      "원문 : argentine football legend diego maradona visit kolkata postponed fourth time due security issues maradona supposed play exhibition match sourav ganguly team visiting kolkata november maradona earlier scheduled visit september trip postponed three occasions october \n",
      "실제 요약 : maradona postpones his kolkata visit for the th time \n",
      "예측 요약 :  maradona maradona maradona to be held in delhi\n",
      "\n",
      "\n",
      "원문 : scientists discovered chemical tan skin types without need substance release dark skin would tan even fair individuals turn pink rather bronze sun due lack would lower skin cancer risk absorbed uv rays \n",
      "실제 요약 : chemical all skin types without sun lowers cancer risk \n",
      "예측 요약 :  scientists use of using of cells\n",
      "\n",
      "\n",
      "원문 : tdp mp cm ramesh arrived parliament thursday wearing shirt six demands andhra pradesh printed implement ap reorganisation act commitments demand railway zone demand special status andhra pradesh state demand steel plant points shirt also cm chandrababu naidu picture \n",
      "실제 요약 : tdp mp wears shirt with andhra demands to parliament \n",
      "예측 요약 :  tdp mp wears stage as black cm to andhra cm\n",
      "\n",
      "\n",
      "원문 : nasa said voyager spacecraft could nearing interstellar space billion kilometres earth nasa said spacecraft launched detected increase cosmic rays outside solar system exits become second human made object voyager enter interstellar space nasa added \n",
      "실제 요약 : spacecraft could be interstellar space nasa \n",
      "예측 요약 :  nasa probe into space after years of space\n",
      "\n",
      "\n"
     ]
    }
   ],
   "source": [
    "for i in range(50, 100):\n",
    "    print(\"원문 :\", seq2text(encoder_input_test[i]))\n",
    "    print(\"실제 요약 :\", seq2headlines(decoder_input_test[i]))\n",
    "    print(\"예측 요약 :\", decode_sequence(encoder_input_test[i].reshape(1, text_max_len)))\n",
    "    print(\"\\n\")"
   ]
  },
  {
   "cell_type": "markdown",
   "id": "arbitrary-participation",
   "metadata": {},
   "source": [
    "## Step 5. Summa을 이용해서 추출적 요약해보기\n",
    "추상적 요약은 추출적 요약과는 달리 문장의 표현력을 다양하게 가져갈 수 있지만, 추출적 요약에 비해서 난이도가 높아요. 반대로 말하면 추출적 요약은 추상적 요약에 비해 난이도가 낮고 기존 문장에서 문장을 꺼내오는 것이므로 잘못된 요약이 나올 가능성이 낮아요.\n",
    "\n",
    "Summa의 summarize를 사용하여 추출적 요약을 해보세요."
   ]
  },
  {
   "cell_type": "code",
   "execution_count": 48,
   "id": "through-harris",
   "metadata": {},
   "outputs": [
    {
     "name": "stdout",
     "output_type": "stream",
     "text": [
      "summa                         1.2.0\n",
      "\u001b[33mWARNING: You are using pip version 20.3.3; however, version 21.2.4 is available.\n",
      "You should consider upgrading via the '/opt/conda/bin/python -m pip install --upgrade pip' command.\u001b[0m\n",
      "Note: you may need to restart the kernel to use updated packages.\n"
     ]
    }
   ],
   "source": [
    "pip list | grep summa"
   ]
  },
  {
   "cell_type": "markdown",
   "id": "handy-tutorial",
   "metadata": {},
   "source": [
    "### 데이터 다운로드하기"
   ]
  },
  {
   "cell_type": "code",
   "execution_count": 66,
   "id": "elder-mouth",
   "metadata": {},
   "outputs": [],
   "source": [
    "import requests\n",
    "from summa.summarizer import summarize"
   ]
  },
  {
   "cell_type": "code",
   "execution_count": 67,
   "id": "every-summit",
   "metadata": {},
   "outputs": [],
   "source": [
    "data_summa = pd.read_csv('news_summary_more.csv', encoding='iso-8859-1')"
   ]
  },
  {
   "cell_type": "code",
   "execution_count": 68,
   "id": "exceptional-theme",
   "metadata": {},
   "outputs": [
    {
     "name": "stdout",
     "output_type": "stream",
     "text": [
      "                                              headlines  \\\n",
      "0     upGrad learner switches to career in ML & Al w...   \n",
      "1     Delhi techie wins free food from Swiggy for on...   \n",
      "2     New Zealand end Rohit Sharma-led India's 12-ma...   \n",
      "3     Aegon life iTerm insurance plan helps customer...   \n",
      "4     Have known Hirani for yrs, what if MeToo claim...   \n",
      "...                                                 ...   \n",
      "1495  Have seen Sachin Tendulkar get angry but not M...   \n",
      "1496  Player ensures wife stays dry in rain during A...   \n",
      "1497  Federer denied entry into locker room by secur...   \n",
      "1498  42/42 seats in West Bengal: CM Mamata's cutout...   \n",
      "1499  Court refuses chargesheet by Delhi Police agai...   \n",
      "\n",
      "                                                   text  \n",
      "0     Saurav Kant, an alumnus of upGrad and IIIT-B's...  \n",
      "1     Kunal Shah's credit card bill payment platform...  \n",
      "2     New Zealand defeated India by 8 wickets in the...  \n",
      "3     With Aegon Life iTerm Insurance plan, customer...  \n",
      "4     Speaking about the sexual harassment allegatio...  \n",
      "...                                                 ...  \n",
      "1495  India head coach Ravi Shastri has said that he...  \n",
      "1496  Italian tennis player Andreas Seppi ensured hi...  \n",
      "1497  World number three Roger Federer was stopped b...  \n",
      "1498  A cutout of TMC chief and West Bengal CM Mamat...  \n",
      "1499  A Delhi court on Saturday pulled up Delhi Poli...  \n",
      "\n",
      "[1500 rows x 2 columns]\n"
     ]
    }
   ],
   "source": [
    "print(data_summa[:1500])"
   ]
  },
  {
   "cell_type": "code",
   "execution_count": 69,
   "id": "extra-carrier",
   "metadata": {},
   "outputs": [
    {
     "name": "stdout",
     "output_type": "stream",
     "text": [
      "headlines :  Pakistani singer Rahat Fateh Ali Khan has denied receiving any notice from the Enforcement Directorate over allegedly smuggling foreign currency out of India.\n",
      "headlines :  India's previous lowest ODI total in New Zealand was 108.\n",
      "headlines :  Weeks after ex-CBI Director Alok Verma told the Department of Personnel and Training to consider him retired, the Home Ministry asked him to join work on the last day of his fixed tenure as Director on Thursday.\n",
      "headlines :  Andhra Pradesh CM N Chandrababu Naidu has said, \"When I met then US President Bill Clinton, I addressed him as Mr Clinton, not as 'sir'.\n",
      "headlines :  Congress candidate Shafia Zubair won the Ramgarh Assembly seat in Rajasthan, by defeating BJP's Sukhwant Singh with a margin of 12,228 votes in the bypoll.\n"
     ]
    }
   ],
   "source": [
    "for i in range(5, 10):\n",
    "    print(\"headlines : \", summarize(data_summa['text'][i], ratio=0.5))"
   ]
  },
  {
   "cell_type": "code",
   "execution_count": 71,
   "id": "lasting-moral",
   "metadata": {},
   "outputs": [
    {
     "name": "stdout",
     "output_type": "stream",
     "text": [
      "원문 : Saurav Kant, an alumnus of upGrad and IIIT-B's PG Program in Machine learning and Artificial Intelligence, was a Sr Systems Engineer at Infosys with almost 5 years of work experience. The program and upGrad's 360-degree career support helped him transition to a Data Scientist at Tech Mahindra with 90% salary hike. upGrad's Online Power Learning has powered 3 lakh+ careers.\n",
      "실제 요약 : upGrad learner switches to career in ML & Al with 90% salary hike\n",
      "Extractive 요약 : upGrad's Online Power Learning has powered 3 lakh+ careers.\n",
      "\n",
      "\n",
      "원문 : Kunal Shah's credit card bill payment platform, CRED, gave users a chance to win free food from Swiggy for one year. Pranav Kaushik, a Delhi techie, bagged this reward after spending 2000 CRED coins. Users get one CRED coin per rupee of bill paid, which can be used to avail rewards from brands like Ixigo, BookMyShow, UberEats, Cult.Fit and more.\n",
      "실제 요약 : Delhi techie wins free food from Swiggy for one year on CRED\n",
      "Extractive 요약 : Users get one CRED coin per rupee of bill paid, which can be used to avail rewards from brands like Ixigo, BookMyShow, UberEats, Cult.Fit and more.\n",
      "\n",
      "\n",
      "원문 : New Zealand defeated India by 8 wickets in the fourth ODI at Hamilton on Thursday to win their first match of the five-match ODI series. India lost an international match under Rohit Sharma's captaincy after 12 consecutive victories dating back to March 2018. The match witnessed India getting all out for 92, their seventh lowest total in ODI cricket history.\n",
      "실제 요약 : New Zealand end Rohit Sharma-led India's 12-match winning streak\n",
      "Extractive 요약 : The match witnessed India getting all out for 92, their seventh lowest total in ODI cricket history.\n",
      "\n",
      "\n"
     ]
    }
   ],
   "source": [
    "for i in range(3):\n",
    "    print(\"원문 :\", data_summa[\"text\"][i])\n",
    "    print(\"실제 요약 :\", data_summa[\"headlines\"][i])\n",
    "    print(\"Extractive 요약 :\", summarize(data_summa[\"text\"][i], ratio=0.5))\n",
    "    print(\"\\n\")"
   ]
  },
  {
   "cell_type": "markdown",
   "id": "acoustic-chain",
   "metadata": {},
   "source": [
    "## Rubric\n",
    "||  <center>**평가 문항**</center> |  <center>**상세 기준**</center> |\n",
    "|:--------|:--------|:--------|\n",
    "|**1**|Abstractive 모델 구성을 위한 텍스트 전처리 단계가 체계적으로 진행되었다.|분석단계, 정제단계, 정규화와 불용어 제거, 데이터셋 분리, 인코딩 과정이 빠짐없이 체계적으로 진행되었다.|\n",
    "|**2**|텍스트 요약모델이 성공적으로 학습되었음을 확인하였다.|모델학습이 안정적으로 수렴되었음을 그래프를 통해 확인하였으며, 실제 요약문과 유사한 요약문장을 얻을 수 있었다.|\n",
    "|**3**|Extractive 요약을 시도해 보고 Abstractive 요약 결과과 함께 비교해 보았다.|두 요약 결과를 문법완성도 측면과 핵심단어 포함 측면으로 나누어 비교분석 결과를 제시하였다.|\n",
    "\n",
    "#### 1 Abstractive 모델 구성을 위한 텍스트 전처리 단계가 체계적으로 진행되었다.\n",
    "#### 2 텍스트 요약모델이 성공적으로 학습되었음을 확인하였다.\n",
    "#### 3 Extractive 요약을 시도해 보고 Abstractive 요약 결과과 함께 비교해 보았다."
   ]
  },
  {
   "cell_type": "markdown",
   "id": "rational-regulation",
   "metadata": {},
   "source": [
    "## 회고\n",
    "### 알게 된 것\n",
    "\n",
    "1. 마지막에 추출적 요약에서 만들어지는 headlines에서 빈 문장이 들어가는 경우가 생겨서 왜 그런가 했는데, summarize의 과정에서 ratio를 너무 낮게 하면 빈 문장이 생기는 경우가 있었다.\n",
    "\n",
    "\n",
    "2. 각각의 요약에 대해서 같은 문장에 대해 비교해보고 싶었는데, 데이터의 처리를 따로 하다 보니 나오는 문장이 달라서 그렇게 진행하지 못했다. 하지만 그냥 성능을 비교해 봤는데, 둘 다 그저 그런 성능을 가지지만, 그나마 추출적 요약이 실제 요약과 좀 부합하는 경우가 있는 것 같았다.\n",
    "\n",
    "\n",
    "### 느낀 점  \n",
    "\n",
    "이전 노드까지는 어느 정도 코드를 보면서 얼추 이해를 해가면서 진행을 했던 것 같은데, 이번 노드는 '아 모델을 설계를 하는구나~' 정도만 이해하고 코드를 구현하는 원리는 완전히 이해를 하지 못해서 많이 아쉬웠다. 역시 NLP는 너무 어렵다."
   ]
  },
  {
   "cell_type": "code",
   "execution_count": null,
   "id": "worth-coordinator",
   "metadata": {},
   "outputs": [],
   "source": []
  }
 ],
 "metadata": {
  "kernelspec": {
   "display_name": "Python 3",
   "language": "python",
   "name": "python3"
  },
  "language_info": {
   "codemirror_mode": {
    "name": "ipython",
    "version": 3
   },
   "file_extension": ".py",
   "mimetype": "text/x-python",
   "name": "python",
   "nbconvert_exporter": "python",
   "pygments_lexer": "ipython3",
   "version": "3.7.9"
  }
 },
 "nbformat": 4,
 "nbformat_minor": 5
}
