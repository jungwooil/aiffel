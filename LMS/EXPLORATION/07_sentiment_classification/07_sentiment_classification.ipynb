{
 "cells": [
  {
   "cell_type": "markdown",
   "id": "greek-piano",
   "metadata": {},
   "source": [
    "# 프로젝트 : 네이버 영화리뷰 감성분석 도전하기"
   ]
  },
  {
   "cell_type": "markdown",
   "id": "liberal-equipment",
   "metadata": {},
   "source": [
    "## 목차\n",
    "[Step1. 사진 모으기](#Step1.-사진-모으기)\\\n",
    "[Step2. 사진 모으기](#Step2.-사진-모으기)\\\n",
    "[Step3. 얼굴 영역의 임베딩 추출하기](#Step3.-얼굴-영역의-임베딩-추출하기)\\\n",
    "[Step4. 모은 그림들과 비교하기](#Step4.-모은-그림들과-비교하기)\\\n",
    "[Step5. 다양한 재미있는 시각화 시도해 보기](#Step5.-다양한-재미있는-시각화-시도해-보기)\\\n",
    "[Rubric](#Rubric)\\\n",
    "[회고](#회고)"
   ]
  },
  {
   "cell_type": "markdown",
   "id": "incredible-vehicle",
   "metadata": {},
   "source": [
    "### 1) 데이터 준비와 확인"
   ]
  },
  {
   "cell_type": "code",
   "execution_count": 1,
   "id": "environmental-clause",
   "metadata": {},
   "outputs": [
    {
     "data": {
      "text/html": [
       "<div>\n",
       "<style scoped>\n",
       "    .dataframe tbody tr th:only-of-type {\n",
       "        vertical-align: middle;\n",
       "    }\n",
       "\n",
       "    .dataframe tbody tr th {\n",
       "        vertical-align: top;\n",
       "    }\n",
       "\n",
       "    .dataframe thead th {\n",
       "        text-align: right;\n",
       "    }\n",
       "</style>\n",
       "<table border=\"1\" class=\"dataframe\">\n",
       "  <thead>\n",
       "    <tr style=\"text-align: right;\">\n",
       "      <th></th>\n",
       "      <th>id</th>\n",
       "      <th>document</th>\n",
       "      <th>label</th>\n",
       "    </tr>\n",
       "  </thead>\n",
       "  <tbody>\n",
       "    <tr>\n",
       "      <th>0</th>\n",
       "      <td>9976970</td>\n",
       "      <td>아 더빙.. 진짜 짜증나네요 목소리</td>\n",
       "      <td>0</td>\n",
       "    </tr>\n",
       "    <tr>\n",
       "      <th>1</th>\n",
       "      <td>3819312</td>\n",
       "      <td>흠...포스터보고 초딩영화줄....오버연기조차 가볍지 않구나</td>\n",
       "      <td>1</td>\n",
       "    </tr>\n",
       "    <tr>\n",
       "      <th>2</th>\n",
       "      <td>10265843</td>\n",
       "      <td>너무재밓었다그래서보는것을추천한다</td>\n",
       "      <td>0</td>\n",
       "    </tr>\n",
       "    <tr>\n",
       "      <th>3</th>\n",
       "      <td>9045019</td>\n",
       "      <td>교도소 이야기구먼 ..솔직히 재미는 없다..평점 조정</td>\n",
       "      <td>0</td>\n",
       "    </tr>\n",
       "    <tr>\n",
       "      <th>4</th>\n",
       "      <td>6483659</td>\n",
       "      <td>사이몬페그의 익살스런 연기가 돋보였던 영화!스파이더맨에서 늙어보이기만 했던 커스틴 ...</td>\n",
       "      <td>1</td>\n",
       "    </tr>\n",
       "  </tbody>\n",
       "</table>\n",
       "</div>"
      ],
      "text/plain": [
       "         id                                           document  label\n",
       "0   9976970                                아 더빙.. 진짜 짜증나네요 목소리      0\n",
       "1   3819312                  흠...포스터보고 초딩영화줄....오버연기조차 가볍지 않구나      1\n",
       "2  10265843                                  너무재밓었다그래서보는것을추천한다      0\n",
       "3   9045019                      교도소 이야기구먼 ..솔직히 재미는 없다..평점 조정      0\n",
       "4   6483659  사이몬페그의 익살스런 연기가 돋보였던 영화!스파이더맨에서 늙어보이기만 했던 커스틴 ...      1"
      ]
     },
     "execution_count": 1,
     "metadata": {},
     "output_type": "execute_result"
    }
   ],
   "source": [
    "import pandas as pd\n",
    "import urllib.request\n",
    "%matplotlib inline\n",
    "import matplotlib.pyplot as plt\n",
    "import re\n",
    "from konlpy.tag import Okt\n",
    "from tensorflow import keras\n",
    "from tensorflow.keras.preprocessing.text import Tokenizer\n",
    "import numpy as np\n",
    "from tensorflow.keras.preprocessing.sequence import pad_sequences\n",
    "from collections import Counter\n",
    "\n",
    "# 데이터를 읽어봅시다. \n",
    "train_data = pd.read_table('~/aiffel/sentiment_classification/data/ratings_train.txt')\n",
    "test_data = pd.read_table('~/aiffel/sentiment_classification/data/ratings_test.txt')\n",
    "\n",
    "train_data.head()"
   ]
  },
  {
   "cell_type": "markdown",
   "id": "derived-multimedia",
   "metadata": {},
   "source": [
    "### 2) 데이터로더 구성"
   ]
  },
  {
   "cell_type": "markdown",
   "id": "charged-second",
   "metadata": {},
   "source": [
    "전혀 가공되지 않은 텍스트 데이터 가공하여 `data_loader` 만들기\n",
    "- 데이터의 중복 제거\n",
    "- NaN 결측치 제거\n",
    "- 한국어 토크나이저로 토큰화\n",
    "- 불용어(Stopwords) 제거\n",
    "- 사전`word_to_index` 구성\n",
    "- 텍스트 스트링을 사전 인덱스 스트링으로 변환\n",
    "- `X_train`, `y_train`, `X_test`, `y_test`, `word_to_index` 리턴"
   ]
  },
  {
   "cell_type": "code",
   "execution_count": 2,
   "id": "aggregate-arthur",
   "metadata": {},
   "outputs": [],
   "source": [
    "from konlpy.tag import Mecab\n",
    "tokenizer = Mecab()\n",
    "stopwords = ['의','가','이','은','들','는','좀','잘','걍','과','도','를','으로','자','에','와','한','하다']\n",
    "\n",
    "def load_data(train_data, test_data, num_words=10000):\n",
    "    train_data.drop_duplicates(subset=['document'], inplace=True)\n",
    "    train_data = train_data.dropna(how = 'any') \n",
    "    test_data.drop_duplicates(subset=['document'], inplace=True)\n",
    "    test_data = test_data.dropna(how = 'any') \n",
    "    \n",
    "    X_train = []\n",
    "    for sentence in train_data['document']:\n",
    "        temp_X = tokenizer.morphs(sentence) # 토큰화\n",
    "        temp_X = [word for word in temp_X if not word in stopwords] # 불용어 제거\n",
    "        X_train.append(temp_X)\n",
    "\n",
    "    X_test = []\n",
    "    for sentence in test_data['document']:\n",
    "        temp_X = tokenizer.morphs(sentence) # 토큰화\n",
    "        temp_X = [word for word in temp_X if not word in stopwords] # 불용어 제거\n",
    "        X_test.append(temp_X)\n",
    "    \n",
    "    words = np.concatenate(X_train).tolist()\n",
    "    counter = Counter(words)\n",
    "    counter = counter.most_common(10000-4)\n",
    "    vocab = ['<PAD>', '<BOS>', '<UNK>', '<UNUSED>'] + [key for key, _ in counter]\n",
    "    word_to_index = {word:index for index, word in enumerate(vocab)}\n",
    "        \n",
    "    def wordlist_to_indexlist(wordlist):\n",
    "        return [word_to_index[word] if word in word_to_index else word_to_index['<PAD>'] for word in wordlist]\n",
    "        \n",
    "    X_train = list(map(wordlist_to_indexlist, X_train))\n",
    "    X_test = list(map(wordlist_to_indexlist, X_test))\n",
    "        \n",
    "    return X_train, np.array(list(train_data['label'])), X_test, np.array(list(test_data['label'])), word_to_index\n",
    "    \n",
    "X_train, y_train, X_test, y_test, word_to_index = load_data(train_data, test_data) "
   ]
  },
  {
   "cell_type": "code",
   "execution_count": 3,
   "id": "miniature-fabric",
   "metadata": {},
   "outputs": [],
   "source": [
    "index_to_word = {index:word for word, index in word_to_index.items()}"
   ]
  },
  {
   "cell_type": "code",
   "execution_count": 4,
   "id": "hindu-international",
   "metadata": {},
   "outputs": [],
   "source": [
    "# 문장 1개를 활용할 딕셔너리와 함께 주면, 단어 인덱스 리스트 벡터로 변환해 주는 함수입니다. \n",
    "# 단, 모든 문장은 <BOS>로 시작하는 것으로 합니다. \n",
    "def get_encoded_sentence(sentence, word_to_index):\n",
    "    return [word_to_index['<BOS>']]+[word_to_index[word] if word in word_to_index else word_to_index['<UNK>'] for word in sentence.split()]\n",
    "\n",
    "# 여러 개의 문장 리스트를 한꺼번에 단어 인덱스 리스트 벡터로 encode해 주는 함수입니다. \n",
    "def get_encoded_sentences(sentences, word_to_index):\n",
    "    return [get_encoded_sentence(sentence, word_to_index) for sentence in sentences]\n",
    "\n",
    "# 숫자 벡터로 encode된 문장을 원래대로 decode하는 함수입니다. \n",
    "def get_decoded_sentence(encoded_sentence, index_to_word):\n",
    "    return ' '.join(index_to_word[index] if index in index_to_word else '<UNK>' for index in encoded_sentence[1:])  #[1:]를 통해 <BOS>를 제외\n",
    "\n",
    "# 여러 개의 숫자 벡터로 encode된 문장을 한꺼번에 원래대로 decode하는 함수입니다. \n",
    "def get_decoded_sentences(encoded_sentences, index_to_word):\n",
    "    return [get_decoded_sentence(encoded_sentence, index_to_word) for encoded_sentence in encoded_sentences]"
   ]
  },
  {
   "cell_type": "markdown",
   "id": "synthetic-irish",
   "metadata": {},
   "source": [
    "### 3) 모델구성을 위한 데이터 분석 및 가공\n",
    "- 데이터셋 내 문장 길이 분포\n",
    "- 적절한 최대 문장 길이 지정\n",
    "- keras.preprocessing.sequence.pad_sequences 을 활용한 패딩 추가"
   ]
  },
  {
   "cell_type": "code",
   "execution_count": 5,
   "id": "owned-tooth",
   "metadata": {},
   "outputs": [
    {
     "name": "stdout",
     "output_type": "stream",
     "text": [
      "문장길이 평균 :  15.96940191154864\n",
      "문장길이 최대 :  116\n",
      "문장길이 표준편차 :  12.843571191092\n",
      "pad_sequences maxlen :  41\n",
      "전체 문장의 0.9342988343341575%가 maxlen 설정값 이내에 포함됩니다. \n"
     ]
    }
   ],
   "source": [
    "total_data_text = list(X_train) + list(X_test)\n",
    "# 텍스트데이터 문장길이의 리스트를 생성한 후\n",
    "num_tokens = [len(tokens) for tokens in total_data_text]\n",
    "num_tokens = np.array(num_tokens)\n",
    "# 문장길이의 평균값, 최대값, 표준편차를 계산해 본다. \n",
    "print('문장길이 평균 : ', np.mean(num_tokens))\n",
    "print('문장길이 최대 : ', np.max(num_tokens))\n",
    "print('문장길이 표준편차 : ', np.std(num_tokens))\n",
    "\n",
    "# 예를들어, 최대 길이를 (평균 + 2*표준편차)로 한다면,  \n",
    "max_tokens = np.mean(num_tokens) + 2 * np.std(num_tokens)\n",
    "maxlen = int(max_tokens)\n",
    "print('pad_sequences maxlen : ', maxlen)\n",
    "print('전체 문장의 {}%가 maxlen 설정값 이내에 포함됩니다. '.format(np.sum(num_tokens < max_tokens) / len(num_tokens)))"
   ]
  },
  {
   "cell_type": "code",
   "execution_count": 6,
   "id": "imported-contemporary",
   "metadata": {},
   "outputs": [
    {
     "name": "stdout",
     "output_type": "stream",
     "text": [
      "(146182, 41)\n"
     ]
    }
   ],
   "source": [
    "X_train = keras.preprocessing.sequence.pad_sequences(X_train,\n",
    "                                                        value=word_to_index[\"<PAD>\"],\n",
    "                                                        padding='pre',\n",
    "                                                        maxlen=maxlen)\n",
    "\n",
    "X_test = keras.preprocessing.sequence.pad_sequences(X_test,\n",
    "                                                       value=word_to_index[\"<PAD>\"],\n",
    "                                                       padding='pre',\n",
    "                                                       maxlen=maxlen)\n",
    "\n",
    "print(X_train.shape)"
   ]
  },
  {
   "cell_type": "markdown",
   "id": "focused-water",
   "metadata": {},
   "source": [
    "### 4) 모델구성 및 validation set 구성"
   ]
  },
  {
   "cell_type": "markdown",
   "id": "discrete-castle",
   "metadata": {},
   "source": [
    " 3가지 이상 다양하게 구성하여 실험"
   ]
  },
  {
   "cell_type": "code",
   "execution_count": 7,
   "id": "engaging-examination",
   "metadata": {},
   "outputs": [],
   "source": [
    "vocab_size = 10000  # 어휘 사전의 크기\n",
    "word_vector_dim = 41  # 워드 임베딩 벡터의 차원 수"
   ]
  },
  {
   "cell_type": "markdown",
   "id": "virgin-median",
   "metadata": {},
   "source": [
    "#### 1. Recurrent Neural Network(RNN) (LSTM)"
   ]
  },
  {
   "cell_type": "code",
   "execution_count": 8,
   "id": "labeled-serum",
   "metadata": {},
   "outputs": [
    {
     "name": "stdout",
     "output_type": "stream",
     "text": [
      "Model: \"LSTM\"\n",
      "_________________________________________________________________\n",
      "Layer (type)                 Output Shape              Param #   \n",
      "=================================================================\n",
      "embedding (Embedding)        (None, None, 41)          410000    \n",
      "_________________________________________________________________\n",
      "lstm (LSTM)                  (None, 8)                 1600      \n",
      "_________________________________________________________________\n",
      "dense (Dense)                (None, 8)                 72        \n",
      "_________________________________________________________________\n",
      "dense_1 (Dense)              (None, 1)                 9         \n",
      "=================================================================\n",
      "Total params: 411,681\n",
      "Trainable params: 411,681\n",
      "Non-trainable params: 0\n",
      "_________________________________________________________________\n"
     ]
    }
   ],
   "source": [
    "rmodel = keras.Sequential(name='LSTM')\n",
    "rmodel.add(keras.layers.Embedding(vocab_size, word_vector_dim, input_shape=(None,)))\n",
    "rmodel.add(keras.layers.LSTM(8))   # 가장 널리 쓰이는 RNN인 LSTM 레이어를 사용하였습니다. 이때 LSTM state 벡터의 차원수는 8로 하였습니다. (변경 가능)\n",
    "rmodel.add(keras.layers.Dense(8, activation='relu'))\n",
    "rmodel.add(keras.layers.Dense(1, activation='sigmoid'))  # 최종 출력은 긍정/부정을 나타내는 1dim 입니다.\n",
    "\n",
    "rmodel.summary()"
   ]
  },
  {
   "cell_type": "markdown",
   "id": "administrative-grade",
   "metadata": {},
   "source": [
    "#### 2. 1-D Convolution Neural Network(1-D CNN)"
   ]
  },
  {
   "cell_type": "code",
   "execution_count": 9,
   "id": "democratic-edwards",
   "metadata": {},
   "outputs": [
    {
     "name": "stdout",
     "output_type": "stream",
     "text": [
      "Model: \"sequential\"\n",
      "_________________________________________________________________\n",
      "Layer (type)                 Output Shape              Param #   \n",
      "=================================================================\n",
      "embedding_1 (Embedding)      (None, None, 41)          410000    \n",
      "_________________________________________________________________\n",
      "conv1d (Conv1D)              (None, None, 16)          4608      \n",
      "_________________________________________________________________\n",
      "max_pooling1d (MaxPooling1D) (None, None, 16)          0         \n",
      "_________________________________________________________________\n",
      "conv1d_1 (Conv1D)            (None, None, 16)          1808      \n",
      "_________________________________________________________________\n",
      "global_max_pooling1d (Global (None, 16)                0         \n",
      "_________________________________________________________________\n",
      "dense_2 (Dense)              (None, 8)                 136       \n",
      "_________________________________________________________________\n",
      "dense_3 (Dense)              (None, 1)                 9         \n",
      "=================================================================\n",
      "Total params: 416,561\n",
      "Trainable params: 416,561\n",
      "Non-trainable params: 0\n",
      "_________________________________________________________________\n"
     ]
    }
   ],
   "source": [
    "cmodel = keras.Sequential()\n",
    "cmodel.add(keras.layers.Embedding(vocab_size, word_vector_dim, input_shape=(None,)))\n",
    "cmodel.add(keras.layers.Conv1D(16, 7, activation='relu'))\n",
    "cmodel.add(keras.layers.MaxPooling1D(5))\n",
    "cmodel.add(keras.layers.Conv1D(16, 7, activation='relu'))\n",
    "cmodel.add(keras.layers.GlobalMaxPooling1D())\n",
    "cmodel.add(keras.layers.Dense(8, activation='relu'))\n",
    "cmodel.add(keras.layers.Dense(1, activation='sigmoid'))  # 최종 출력은 긍정/부정을 나타내는 1dim 입니다.\n",
    "\n",
    "cmodel.summary()"
   ]
  },
  {
   "cell_type": "markdown",
   "id": "detailed-blank",
   "metadata": {},
   "source": [
    "#### 3. GlobalMaxPooling1D"
   ]
  },
  {
   "cell_type": "code",
   "execution_count": 10,
   "id": "worse-channel",
   "metadata": {},
   "outputs": [
    {
     "name": "stdout",
     "output_type": "stream",
     "text": [
      "Model: \"sequential_1\"\n",
      "_________________________________________________________________\n",
      "Layer (type)                 Output Shape              Param #   \n",
      "=================================================================\n",
      "embedding_2 (Embedding)      (None, None, 41)          410000    \n",
      "_________________________________________________________________\n",
      "global_max_pooling1d_1 (Glob (None, 41)                0         \n",
      "_________________________________________________________________\n",
      "dense_4 (Dense)              (None, 8)                 336       \n",
      "_________________________________________________________________\n",
      "dense_5 (Dense)              (None, 1)                 9         \n",
      "=================================================================\n",
      "Total params: 410,345\n",
      "Trainable params: 410,345\n",
      "Non-trainable params: 0\n",
      "_________________________________________________________________\n"
     ]
    }
   ],
   "source": [
    "gmodel = keras.Sequential()\n",
    "gmodel.add(keras.layers.Embedding(vocab_size, word_vector_dim, input_shape=(None,)))\n",
    "gmodel.add(keras.layers.GlobalMaxPooling1D())\n",
    "gmodel.add(keras.layers.Dense(8, activation='relu'))\n",
    "gmodel.add(keras.layers.Dense(1, activation='sigmoid'))  # 최종 출력은 긍정/부정을 나타내는 1dim 입니다.\n",
    "\n",
    "gmodel.summary()"
   ]
  },
  {
   "cell_type": "markdown",
   "id": "potential-escape",
   "metadata": {},
   "source": [
    "### 5) 모델 훈련 개시"
   ]
  },
  {
   "cell_type": "code",
   "execution_count": 12,
   "id": "sought-replication",
   "metadata": {},
   "outputs": [],
   "source": [
    "# validation set 10000건 분리\n",
    "X_val = X_train[:10000]   \n",
    "y_val = y_train[:10000]\n",
    "\n",
    "# validation set을 제외한 나머지\n",
    "partial_X_train = X_train[10000:]  \n",
    "partial_y_train = y_train[10000:]"
   ]
  },
  {
   "cell_type": "markdown",
   "id": "fatal-horse",
   "metadata": {},
   "source": [
    "#### 1. Recurrent Neural Network(RNN) (LSTM)"
   ]
  },
  {
   "cell_type": "code",
   "execution_count": 13,
   "id": "registered-singles",
   "metadata": {},
   "outputs": [
    {
     "name": "stdout",
     "output_type": "stream",
     "text": [
      "Epoch 1/20\n",
      "286/286 [==============================] - 7s 14ms/step - loss: 0.5660 - accuracy: 0.7073 - val_loss: 0.3176 - val_accuracy: 0.8686\n",
      "Epoch 2/20\n",
      "286/286 [==============================] - 3s 12ms/step - loss: 0.3295 - accuracy: 0.8611 - val_loss: 0.2915 - val_accuracy: 0.8775\n",
      "Epoch 3/20\n",
      "286/286 [==============================] - 3s 12ms/step - loss: 0.3047 - accuracy: 0.8727 - val_loss: 0.2795 - val_accuracy: 0.8836\n",
      "Epoch 4/20\n",
      "286/286 [==============================] - 3s 12ms/step - loss: 0.2925 - accuracy: 0.8778 - val_loss: 0.2692 - val_accuracy: 0.8901\n",
      "Epoch 5/20\n",
      "286/286 [==============================] - 3s 12ms/step - loss: 0.2828 - accuracy: 0.8812 - val_loss: 0.2672 - val_accuracy: 0.8908\n",
      "Epoch 6/20\n",
      "286/286 [==============================] - 3s 12ms/step - loss: 0.2720 - accuracy: 0.8863 - val_loss: 0.2495 - val_accuracy: 0.8997\n",
      "Epoch 7/20\n",
      "286/286 [==============================] - 3s 12ms/step - loss: 0.2610 - accuracy: 0.8909 - val_loss: 0.2399 - val_accuracy: 0.9031\n",
      "Epoch 8/20\n",
      "286/286 [==============================] - 3s 12ms/step - loss: 0.2540 - accuracy: 0.8938 - val_loss: 0.2331 - val_accuracy: 0.9066\n",
      "Epoch 9/20\n",
      "286/286 [==============================] - 3s 12ms/step - loss: 0.2407 - accuracy: 0.8999 - val_loss: 0.2183 - val_accuracy: 0.9116\n",
      "Epoch 10/20\n",
      "286/286 [==============================] - 3s 12ms/step - loss: 0.2296 - accuracy: 0.9056 - val_loss: 0.2062 - val_accuracy: 0.9186\n",
      "Epoch 11/20\n",
      "286/286 [==============================] - 3s 12ms/step - loss: 0.2177 - accuracy: 0.9125 - val_loss: 0.1959 - val_accuracy: 0.9241\n",
      "Epoch 12/20\n",
      "286/286 [==============================] - 3s 12ms/step - loss: 0.2095 - accuracy: 0.9162 - val_loss: 0.1893 - val_accuracy: 0.9273\n",
      "Epoch 13/20\n",
      "286/286 [==============================] - 3s 12ms/step - loss: 0.1960 - accuracy: 0.9227 - val_loss: 0.1780 - val_accuracy: 0.9321\n",
      "Epoch 14/20\n",
      "286/286 [==============================] - 3s 12ms/step - loss: 0.1902 - accuracy: 0.9259 - val_loss: 0.1703 - val_accuracy: 0.9353\n",
      "Epoch 15/20\n",
      "286/286 [==============================] - 3s 12ms/step - loss: 0.1807 - accuracy: 0.9303 - val_loss: 0.1640 - val_accuracy: 0.9386\n",
      "Epoch 16/20\n",
      "286/286 [==============================] - 3s 12ms/step - loss: 0.1756 - accuracy: 0.9324 - val_loss: 0.1565 - val_accuracy: 0.9433\n",
      "Epoch 17/20\n",
      "286/286 [==============================] - 3s 12ms/step - loss: 0.1652 - accuracy: 0.9368 - val_loss: 0.1508 - val_accuracy: 0.9426\n",
      "Epoch 18/20\n",
      "286/286 [==============================] - 3s 12ms/step - loss: 0.1601 - accuracy: 0.9393 - val_loss: 0.1429 - val_accuracy: 0.9493\n",
      "Epoch 19/20\n",
      "286/286 [==============================] - 3s 12ms/step - loss: 0.1528 - accuracy: 0.9427 - val_loss: 0.1373 - val_accuracy: 0.9507\n",
      "Epoch 20/20\n",
      "286/286 [==============================] - 3s 12ms/step - loss: 0.1478 - accuracy: 0.9451 - val_loss: 0.1344 - val_accuracy: 0.9503\n"
     ]
    }
   ],
   "source": [
    "rmodel.compile(optimizer='adam',\n",
    "              loss='binary_crossentropy',\n",
    "              metrics=['accuracy'])\n",
    "              \n",
    "epochs=20\n",
    "\n",
    "rhistory = rmodel.fit(X_train,\n",
    "                    y_train,\n",
    "                    epochs=epochs,\n",
    "                    batch_size=512,\n",
    "                    validation_data=(X_val, y_val),\n",
    "                    verbose=1)"
   ]
  },
  {
   "cell_type": "markdown",
   "id": "surgical-spectacular",
   "metadata": {},
   "source": [
    "#### 2. 1-D Convolution Neural Network(1-D CNN)"
   ]
  },
  {
   "cell_type": "code",
   "execution_count": 15,
   "id": "entire-panel",
   "metadata": {},
   "outputs": [
    {
     "name": "stdout",
     "output_type": "stream",
     "text": [
      "Epoch 1/20\n",
      "286/286 [==============================] - 8s 20ms/step - loss: 0.5855 - accuracy: 0.6615 - val_loss: 0.3066 - val_accuracy: 0.8750\n",
      "Epoch 2/20\n",
      "286/286 [==============================] - 3s 10ms/step - loss: 0.3115 - accuracy: 0.8697 - val_loss: 0.2588 - val_accuracy: 0.8974\n",
      "Epoch 3/20\n",
      "286/286 [==============================] - 3s 10ms/step - loss: 0.2695 - accuracy: 0.8911 - val_loss: 0.2143 - val_accuracy: 0.9207\n",
      "Epoch 4/20\n",
      "286/286 [==============================] - 3s 10ms/step - loss: 0.2215 - accuracy: 0.9147 - val_loss: 0.1662 - val_accuracy: 0.9468\n",
      "Epoch 5/20\n",
      "286/286 [==============================] - 3s 10ms/step - loss: 0.1700 - accuracy: 0.9399 - val_loss: 0.1212 - val_accuracy: 0.9640\n",
      "Epoch 6/20\n",
      "286/286 [==============================] - 3s 10ms/step - loss: 0.1277 - accuracy: 0.9576 - val_loss: 0.0883 - val_accuracy: 0.9745\n",
      "Epoch 7/20\n",
      "286/286 [==============================] - 3s 10ms/step - loss: 0.0923 - accuracy: 0.9710 - val_loss: 0.0670 - val_accuracy: 0.9808\n",
      "Epoch 8/20\n",
      "286/286 [==============================] - 3s 10ms/step - loss: 0.0693 - accuracy: 0.9793 - val_loss: 0.0516 - val_accuracy: 0.9853\n",
      "Epoch 9/20\n",
      "286/286 [==============================] - 3s 10ms/step - loss: 0.0559 - accuracy: 0.9835 - val_loss: 0.0410 - val_accuracy: 0.9889\n",
      "Epoch 10/20\n",
      "286/286 [==============================] - 3s 10ms/step - loss: 0.0442 - accuracy: 0.9873 - val_loss: 0.0358 - val_accuracy: 0.9890\n",
      "Epoch 11/20\n",
      "286/286 [==============================] - 3s 10ms/step - loss: 0.0367 - accuracy: 0.9891 - val_loss: 0.0310 - val_accuracy: 0.9903\n",
      "Epoch 12/20\n",
      "286/286 [==============================] - 3s 10ms/step - loss: 0.0315 - accuracy: 0.9907 - val_loss: 0.0275 - val_accuracy: 0.9920\n",
      "Epoch 13/20\n",
      "286/286 [==============================] - 3s 10ms/step - loss: 0.0281 - accuracy: 0.9916 - val_loss: 0.0244 - val_accuracy: 0.9925\n",
      "Epoch 14/20\n",
      "286/286 [==============================] - 3s 10ms/step - loss: 0.0250 - accuracy: 0.9919 - val_loss: 0.0269 - val_accuracy: 0.9915\n",
      "Epoch 15/20\n",
      "286/286 [==============================] - 3s 10ms/step - loss: 0.0258 - accuracy: 0.9914 - val_loss: 0.0272 - val_accuracy: 0.9917\n",
      "Epoch 16/20\n",
      "286/286 [==============================] - 3s 10ms/step - loss: 0.0253 - accuracy: 0.9915 - val_loss: 0.0253 - val_accuracy: 0.9924\n",
      "Epoch 17/20\n",
      "286/286 [==============================] - 3s 10ms/step - loss: 0.0230 - accuracy: 0.9920 - val_loss: 0.0241 - val_accuracy: 0.9924\n",
      "Epoch 18/20\n",
      "286/286 [==============================] - 3s 10ms/step - loss: 0.0213 - accuracy: 0.9923 - val_loss: 0.0257 - val_accuracy: 0.9907\n",
      "Epoch 19/20\n",
      "286/286 [==============================] - 3s 10ms/step - loss: 0.0191 - accuracy: 0.9937 - val_loss: 0.0213 - val_accuracy: 0.9937\n",
      "Epoch 20/20\n",
      "286/286 [==============================] - 3s 10ms/step - loss: 0.0164 - accuracy: 0.9944 - val_loss: 0.0183 - val_accuracy: 0.9936\n"
     ]
    }
   ],
   "source": [
    "cmodel.compile(optimizer='adam',\n",
    "              loss='binary_crossentropy',\n",
    "              metrics=['accuracy'])\n",
    "              \n",
    "epochs=20\n",
    "\n",
    "chistory = cmodel.fit(X_train,\n",
    "                    y_train,\n",
    "                    epochs=epochs,\n",
    "                    batch_size=512,\n",
    "                    validation_data=(X_val, y_val),\n",
    "                    verbose=1)"
   ]
  },
  {
   "cell_type": "markdown",
   "id": "auburn-duplicate",
   "metadata": {},
   "source": [
    "#### 3. GlobalMaxPooling1D"
   ]
  },
  {
   "cell_type": "code",
   "execution_count": 16,
   "id": "constant-handling",
   "metadata": {},
   "outputs": [
    {
     "name": "stdout",
     "output_type": "stream",
     "text": [
      "Epoch 1/20\n",
      "286/286 [==============================] - 3s 7ms/step - loss: 0.6076 - accuracy: 0.7177 - val_loss: 0.3391 - val_accuracy: 0.8549\n",
      "Epoch 2/20\n",
      "286/286 [==============================] - 2s 6ms/step - loss: 0.3383 - accuracy: 0.8563 - val_loss: 0.2830 - val_accuracy: 0.8827\n",
      "Epoch 3/20\n",
      "286/286 [==============================] - 2s 7ms/step - loss: 0.2952 - accuracy: 0.8765 - val_loss: 0.2510 - val_accuracy: 0.8987\n",
      "Epoch 4/20\n",
      "286/286 [==============================] - 2s 6ms/step - loss: 0.2652 - accuracy: 0.8928 - val_loss: 0.2260 - val_accuracy: 0.9128\n",
      "Epoch 5/20\n",
      "286/286 [==============================] - 2s 6ms/step - loss: 0.2385 - accuracy: 0.9052 - val_loss: 0.2043 - val_accuracy: 0.9230\n",
      "Epoch 6/20\n",
      "286/286 [==============================] - 2s 7ms/step - loss: 0.2196 - accuracy: 0.9146 - val_loss: 0.1841 - val_accuracy: 0.9327\n",
      "Epoch 7/20\n",
      "286/286 [==============================] - 2s 6ms/step - loss: 0.1979 - accuracy: 0.9251 - val_loss: 0.1651 - val_accuracy: 0.9430\n",
      "Epoch 8/20\n",
      "286/286 [==============================] - 2s 6ms/step - loss: 0.1802 - accuracy: 0.9335 - val_loss: 0.1487 - val_accuracy: 0.9482\n",
      "Epoch 9/20\n",
      "286/286 [==============================] - 2s 6ms/step - loss: 0.1626 - accuracy: 0.9425 - val_loss: 0.1329 - val_accuracy: 0.9562\n",
      "Epoch 10/20\n",
      "286/286 [==============================] - 2s 6ms/step - loss: 0.1482 - accuracy: 0.9491 - val_loss: 0.1189 - val_accuracy: 0.9622\n",
      "Epoch 11/20\n",
      "286/286 [==============================] - 2s 6ms/step - loss: 0.1314 - accuracy: 0.9557 - val_loss: 0.1059 - val_accuracy: 0.9660\n",
      "Epoch 12/20\n",
      "286/286 [==============================] - 2s 7ms/step - loss: 0.1208 - accuracy: 0.9606 - val_loss: 0.0960 - val_accuracy: 0.9718\n",
      "Epoch 13/20\n",
      "286/286 [==============================] - 2s 6ms/step - loss: 0.1074 - accuracy: 0.9658 - val_loss: 0.0846 - val_accuracy: 0.9750\n",
      "Epoch 14/20\n",
      "286/286 [==============================] - 2s 7ms/step - loss: 0.0938 - accuracy: 0.9713 - val_loss: 0.0762 - val_accuracy: 0.9794\n",
      "Epoch 15/20\n",
      "286/286 [==============================] - 2s 6ms/step - loss: 0.0854 - accuracy: 0.9744 - val_loss: 0.0671 - val_accuracy: 0.9817\n",
      "Epoch 16/20\n",
      "286/286 [==============================] - 2s 6ms/step - loss: 0.0752 - accuracy: 0.9780 - val_loss: 0.0621 - val_accuracy: 0.9833\n",
      "Epoch 17/20\n",
      "286/286 [==============================] - 2s 6ms/step - loss: 0.0684 - accuracy: 0.9800 - val_loss: 0.0544 - val_accuracy: 0.9852\n",
      "Epoch 18/20\n",
      "286/286 [==============================] - 2s 6ms/step - loss: 0.0599 - accuracy: 0.9825 - val_loss: 0.0503 - val_accuracy: 0.9864\n",
      "Epoch 19/20\n",
      "286/286 [==============================] - 2s 6ms/step - loss: 0.0548 - accuracy: 0.9844 - val_loss: 0.0448 - val_accuracy: 0.9869\n",
      "Epoch 20/20\n",
      "286/286 [==============================] - 2s 7ms/step - loss: 0.0488 - accuracy: 0.9866 - val_loss: 0.0393 - val_accuracy: 0.9901\n"
     ]
    }
   ],
   "source": [
    "gmodel.compile(optimizer='adam',\n",
    "              loss='binary_crossentropy',\n",
    "              metrics=['accuracy'])\n",
    "              \n",
    "epochs=20\n",
    "\n",
    "ghistory = gmodel.fit(X_train,\n",
    "                    y_train,\n",
    "                    epochs=epochs,\n",
    "                    batch_size=512,\n",
    "                    validation_data=(X_val, y_val),\n",
    "                    verbose=1)"
   ]
  },
  {
   "cell_type": "markdown",
   "id": "proper-nowhere",
   "metadata": {},
   "source": [
    "### 6) Loss, Accuracy 그래프 시각화"
   ]
  },
  {
   "cell_type": "code",
   "execution_count": 19,
   "id": "adopted-kruger",
   "metadata": {},
   "outputs": [
    {
     "name": "stdout",
     "output_type": "stream",
     "text": [
      "dict_keys(['loss', 'accuracy', 'val_loss', 'val_accuracy'])\n"
     ]
    }
   ],
   "source": [
    "import matplotlib.pyplot as plt\n",
    "\n",
    "rhistory_dict = rhistory.history\n",
    "ghistory_dict = ghistory.history\n",
    "chistory_dict = chistory.history\n",
    "\n",
    "print(rhistory_dict.keys()) # epoch에 따른 그래프를 그려볼 수 있는 항목들"
   ]
  },
  {
   "cell_type": "markdown",
   "id": "outstanding-amateur",
   "metadata": {},
   "source": [
    "#### 1. Recurrent Neural Network(RNN) (LSTM)"
   ]
  },
  {
   "cell_type": "code",
   "execution_count": 29,
   "id": "according-minimum",
   "metadata": {},
   "outputs": [
    {
     "data": {
      "text/plain": [
       "<Figure size 432x288 with 0 Axes>"
      ]
     },
     "metadata": {},
     "output_type": "display_data"
    },
    {
     "data": {
      "image/png": "[encoded data removed]",
      "text/plain": [
       "<Figure size 1440x360 with 2 Axes>"
      ]
     },
     "metadata": {
      "needs_background": "light"
     },
     "output_type": "display_data"
    }
   ],
   "source": [
    "acc = rhistory_dict['accuracy']\n",
    "val_acc = rhistory_dict['val_accuracy']\n",
    "loss = rhistory_dict['loss']\n",
    "val_loss = rhistory_dict['val_loss']\n",
    "\n",
    "epochs = range(1, len(acc) + 1)\n",
    "\n",
    "plt.clf() \n",
    "\n",
    "plt.figure(figsize=(20,5))\n",
    "\n",
    "plt.subplot(121)\n",
    "plt.plot(epochs, loss, 'bo', label='Training loss')\n",
    "plt.plot(epochs, val_loss, 'b', label='Validation loss')\n",
    "plt.title('Training and validation loss')\n",
    "plt.xlabel('Epochs')\n",
    "plt.ylabel('Loss')\n",
    "plt.legend()\n",
    "\n",
    "plt.subplot(122)\n",
    "plt.plot(epochs, acc, 'bo', label='Training acc')\n",
    "plt.plot(epochs, val_acc, 'b', label='Validation acc')\n",
    "plt.title('Training and validation accuracy')\n",
    "plt.xlabel('Epochs')\n",
    "plt.ylabel('Accuracy')\n",
    "plt.legend()\n",
    "\n",
    "plt.show()"
   ]
  },
  {
   "cell_type": "markdown",
   "id": "thirty-perspective",
   "metadata": {},
   "source": [
    "#### 2. 1-D Convolution Neural Network(1-D CNN)"
   ]
  },
  {
   "cell_type": "code",
   "execution_count": 30,
   "id": "bulgarian-scratch",
   "metadata": {},
   "outputs": [
    {
     "data": {
      "text/plain": [
       "<Figure size 432x288 with 0 Axes>"
      ]
     },
     "metadata": {},
     "output_type": "display_data"
    },
    {
     "data": {
      "image/png": "[encoded data removed]",
      "text/plain": [
       "<Figure size 1440x360 with 2 Axes>"
      ]
     },
     "metadata": {
      "needs_background": "light"
     },
     "output_type": "display_data"
    }
   ],
   "source": [
    "acc = chistory_dict['accuracy']\n",
    "val_acc = chistory_dict['val_accuracy']\n",
    "loss = chistory_dict['loss']\n",
    "val_loss = chistory_dict['val_loss']\n",
    "\n",
    "epochs = range(1, len(acc) + 1)\n",
    "\n",
    "plt.clf() \n",
    "\n",
    "plt.figure(figsize=(20,5))\n",
    "\n",
    "plt.subplot(121)\n",
    "plt.plot(epochs, loss, 'bo', label='Training loss')\n",
    "plt.plot(epochs, val_loss, 'b', label='Validation loss')\n",
    "plt.title('Training and validation loss')\n",
    "plt.xlabel('Epochs')\n",
    "plt.ylabel('Loss')\n",
    "plt.legend()\n",
    "\n",
    "plt.subplot(122)\n",
    "plt.plot(epochs, acc, 'bo', label='Training acc')\n",
    "plt.plot(epochs, val_acc, 'b', label='Validation acc')\n",
    "plt.title('Training and validation accuracy')\n",
    "plt.xlabel('Epochs')\n",
    "plt.ylabel('Accuracy')\n",
    "plt.legend()\n",
    "\n",
    "plt.show()"
   ]
  },
  {
   "cell_type": "markdown",
   "id": "medium-latest",
   "metadata": {},
   "source": [
    "#### 3. GlobalMaxPooling1D"
   ]
  },
  {
   "cell_type": "code",
   "execution_count": 31,
   "id": "exciting-abuse",
   "metadata": {},
   "outputs": [
    {
     "data": {
      "text/plain": [
       "<Figure size 432x288 with 0 Axes>"
      ]
     },
     "metadata": {},
     "output_type": "display_data"
    },
    {
     "data": {
      "image/png": "[encoded data removed]",
      "text/plain": [
       "<Figure size 1440x360 with 2 Axes>"
      ]
     },
     "metadata": {
      "needs_background": "light"
     },
     "output_type": "display_data"
    }
   ],
   "source": [
    "acc = ghistory_dict['accuracy']\n",
    "val_acc = ghistory_dict['val_accuracy']\n",
    "loss = ghistory_dict['loss']\n",
    "val_loss = ghistory_dict['val_loss']\n",
    "\n",
    "epochs = range(1, len(acc) + 1)\n",
    "\n",
    "plt.clf() \n",
    "\n",
    "plt.figure(figsize=(20,5))\n",
    "\n",
    "plt.subplot(121)\n",
    "plt.plot(epochs, loss, 'bo', label='Training loss')\n",
    "plt.plot(epochs, val_loss, 'b', label='Validation loss')\n",
    "plt.title('Training and validation loss')\n",
    "plt.xlabel('Epochs')\n",
    "plt.ylabel('Loss')\n",
    "plt.legend()\n",
    "\n",
    "plt.subplot(122)\n",
    "plt.plot(epochs, acc, 'bo', label='Training acc')\n",
    "plt.plot(epochs, val_acc, 'b', label='Validation acc')\n",
    "plt.title('Training and validation accuracy')\n",
    "plt.xlabel('Epochs')\n",
    "plt.ylabel('Accuracy')\n",
    "plt.legend()\n",
    "\n",
    "plt.show()"
   ]
  },
  {
   "cell_type": "markdown",
   "id": "divine-mystery",
   "metadata": {},
   "source": [
    "### 7) 학습된 Embedding 레이어 분석"
   ]
  },
  {
   "cell_type": "code",
   "execution_count": 32,
   "id": "compatible-anaheim",
   "metadata": {},
   "outputs": [
    {
     "name": "stdout",
     "output_type": "stream",
     "text": [
      "(10000, 41)\n"
     ]
    }
   ],
   "source": [
    "embedding_layer = cmodel.layers[0]\n",
    "weights = embedding_layer.get_weights()[0]\n",
    "print(weights.shape)    # shape: (vocab_size, embedding_dim)"
   ]
  },
  {
   "cell_type": "code",
   "execution_count": 35,
   "id": "determined-administration",
   "metadata": {},
   "outputs": [],
   "source": [
    "import os\n",
    "\n",
    "# 학습한 Embedding 파라미터를 파일에 써서 저장합니다. \n",
    "word2vec_file_path = os.getenv('HOME')+'/aiffel/sentiment_classification/data/word2vec.txt'\n",
    "f = open(word2vec_file_path, 'w')\n",
    "f.write('{} {}\\n'.format(vocab_size-4, word_vector_dim))  # 몇개의 벡터를 얼마 사이즈로 기재할지 타이틀을 씁니다.\n",
    "\n",
    "# 단어 개수(에서 특수문자 4개는 제외하고)만큼의 워드 벡터를 파일에 기록합니다. \n",
    "vectors = cmodel.get_weights()[0]\n",
    "for i in range(4,vocab_size):\n",
    "    f.write('{} {}\\n'.format(index_to_word[i], ' '.join(map(str, list(vectors[i, :])))))\n",
    "f.close()\n"
   ]
  },
  {
   "cell_type": "code",
   "execution_count": 36,
   "id": "fluid-holmes",
   "metadata": {},
   "outputs": [
    {
     "name": "stderr",
     "output_type": "stream",
     "text": [
      "/opt/conda/lib/python3.7/site-packages/gensim/similarities/__init__.py:15: UserWarning: The gensim.similarities.levenshtein submodule is disabled, because the optional Levenshtein package <https://pypi.org/project/python-Levenshtein/> is unavailable. Install Levenhstein (e.g. `pip install python-Levenshtein`) to suppress this warning.\n",
      "  warnings.warn(msg)\n"
     ]
    },
    {
     "data": {
      "text/plain": [
       "array([-0.10202723, -0.00128177, -0.07573052, -0.09324992, -0.03177639,\n",
       "       -0.01303972,  0.04508541,  0.0654171 ,  0.01466324,  0.01898069,\n",
       "       -0.01566392, -0.05077261, -0.01747354,  0.02747406, -0.05304415,\n",
       "       -0.01206357,  0.01526798,  0.00092638, -0.01618602,  0.015239  ,\n",
       "        0.10398815, -0.09596072, -0.01708332,  0.01267233, -0.03646652,\n",
       "        0.02185701, -0.02453002,  0.0524874 ,  0.02865273,  0.0402237 ,\n",
       "        0.05684689, -0.00112247,  0.02198933, -0.07116511,  0.03123534,\n",
       "       -0.01469897, -0.08544479, -0.08762612,  0.02466797,  0.02638601,\n",
       "       -0.01970724], dtype=float32)"
      ]
     },
     "execution_count": 36,
     "metadata": {},
     "output_type": "execute_result"
    }
   ],
   "source": [
    "from gensim.models.keyedvectors import Word2VecKeyedVectors\n",
    "\n",
    "word_vectors = Word2VecKeyedVectors.load_word2vec_format(word2vec_file_path, binary=False)\n",
    "vector = word_vectors['영화']\n",
    "vector"
   ]
  },
  {
   "cell_type": "code",
   "execution_count": 38,
   "id": "demanding-creek",
   "metadata": {},
   "outputs": [
    {
     "data": {
      "text/plain": [
       "[('?????', 0.6605104207992554),\n",
       " ('유료', 0.6334942579269409),\n",
       " ('머저리', 0.6315675377845764),\n",
       " ('오프닝', 0.6219555735588074),\n",
       " ('빨간', 0.6101475358009338),\n",
       " ('변한', 0.5989477634429932),\n",
       " ('섬세', 0.5934388637542725),\n",
       " ('어째서', 0.5917163491249084),\n",
       " ('나니아', 0.5895678997039795),\n",
       " ('선입견', 0.5878247022628784)]"
      ]
     },
     "execution_count": 38,
     "metadata": {},
     "output_type": "execute_result"
    }
   ],
   "source": [
    "word_vectors.similar_by_word(\"반전\")"
   ]
  },
  {
   "cell_type": "markdown",
   "id": "intensive-filename",
   "metadata": {},
   "source": [
    "||  <center>**평가 문항**</center> |  <center>**상세 기준**</center> |\n",
    "|:--------|:--------|:--------|\n",
    "|**1**|다양한 방법으로 Text Classification 태스크를 성공적으로 구현하였다.|3가지 이상의 모델이 성공적으로 시도됨|\n",
    "|**2**|gensim을 활용하여 자체학습된 혹은 사전학습된 임베딩 레이어를 분석하였다.|gensim의 유사단어 찾기를 활용하여 자체학습한 임베딩과 사전학습 임베딩을 적절히 분석함|\n",
    "|**3**|한국어 Word2Vec을 활용하여 가시적인 성능향상을 달성했다.|네이버 영화리뷰 데이터 감성분석 정확도를 85% 이상 달성함|"
   ]
  }
 ],
 "metadata": {
  "kernelspec": {
   "display_name": "Python 3",
   "language": "python",
   "name": "python3"
  },
  "language_info": {
   "codemirror_mode": {
    "name": "ipython",
    "version": 3
   },
   "file_extension": ".py",
   "mimetype": "text/x-python",
   "name": "python",
   "nbconvert_exporter": "python",
   "pygments_lexer": "ipython3",
   "version": "3.7.9"
  }
 },
 "nbformat": 4,
 "nbformat_minor": 5
}
