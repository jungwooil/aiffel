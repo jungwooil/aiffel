{
 "cells": [
  {
   "cell_type": "markdown",
   "id": "endless-corruption",
   "metadata": {},
   "source": [
    "# 프로젝트 : 네이버 영화리뷰 감성분석 도전하기"
   ]
  },
  {
   "cell_type": "markdown",
   "id": "editorial-reply",
   "metadata": {},
   "source": [
    "## 목차\n",
    "[1) 데이터 준비와 확인](#1\\)-데이터-준비와-확인)\\\n",
    "[2) 데이터로더 구성](#2\\)-데이터로더-구성)\\\n",
    "[3) 모델구성을 위한 데이터 분석 및 가공](#3\\)-모델구성을-위한-데이터-분석-및-가공)\\\n",
    "[4) 모델구성 및 validation set 구성](#4\\)-모델구성-및-validation-set-구성)\\\n",
    "[5) 모델 훈련 개시](#5\\)-모델-훈련-개시)\\\n",
    "[6) Loss, Accuracy 그래프 시각화](#6\\)-Loss,-Accuracy-그래프-시각화)\\\n",
    "[7) 학습된 Embedding 레이어 분석](#7\\)-학습된-Embedding-레이어-분석)\\\n",
    "[8) 한국어 Word2Vec 임베딩 활용하여 성능개선](8\\)-한국어-Word2Vec-임베딩-활용하여-성능개선)\\\n",
    "[Rubric](#Rubric)\\\n",
    "[회고](#회고)"
   ]
  },
  {
   "cell_type": "markdown",
   "id": "plain-capitol",
   "metadata": {},
   "source": [
    "### 1) 데이터 준비와 확인"
   ]
  },
  {
   "cell_type": "code",
   "execution_count": 1,
   "id": "brief-force",
   "metadata": {},
   "outputs": [
    {
     "data": {
      "text/html": [
       "<div>\n",
       "<style scoped>\n",
       "    .dataframe tbody tr th:only-of-type {\n",
       "        vertical-align: middle;\n",
       "    }\n",
       "\n",
       "    .dataframe tbody tr th {\n",
       "        vertical-align: top;\n",
       "    }\n",
       "\n",
       "    .dataframe thead th {\n",
       "        text-align: right;\n",
       "    }\n",
       "</style>\n",
       "<table border=\"1\" class=\"dataframe\">\n",
       "  <thead>\n",
       "    <tr style=\"text-align: right;\">\n",
       "      <th></th>\n",
       "      <th>id</th>\n",
       "      <th>document</th>\n",
       "      <th>label</th>\n",
       "    </tr>\n",
       "  </thead>\n",
       "  <tbody>\n",
       "    <tr>\n",
       "      <th>0</th>\n",
       "      <td>9976970</td>\n",
       "      <td>아 더빙.. 진짜 짜증나네요 목소리</td>\n",
       "      <td>0</td>\n",
       "    </tr>\n",
       "    <tr>\n",
       "      <th>1</th>\n",
       "      <td>3819312</td>\n",
       "      <td>흠...포스터보고 초딩영화줄....오버연기조차 가볍지 않구나</td>\n",
       "      <td>1</td>\n",
       "    </tr>\n",
       "    <tr>\n",
       "      <th>2</th>\n",
       "      <td>10265843</td>\n",
       "      <td>너무재밓었다그래서보는것을추천한다</td>\n",
       "      <td>0</td>\n",
       "    </tr>\n",
       "    <tr>\n",
       "      <th>3</th>\n",
       "      <td>9045019</td>\n",
       "      <td>교도소 이야기구먼 ..솔직히 재미는 없다..평점 조정</td>\n",
       "      <td>0</td>\n",
       "    </tr>\n",
       "    <tr>\n",
       "      <th>4</th>\n",
       "      <td>6483659</td>\n",
       "      <td>사이몬페그의 익살스런 연기가 돋보였던 영화!스파이더맨에서 늙어보이기만 했던 커스틴 ...</td>\n",
       "      <td>1</td>\n",
       "    </tr>\n",
       "  </tbody>\n",
       "</table>\n",
       "</div>"
      ],
      "text/plain": [
       "         id                                           document  label\n",
       "0   9976970                                아 더빙.. 진짜 짜증나네요 목소리      0\n",
       "1   3819312                  흠...포스터보고 초딩영화줄....오버연기조차 가볍지 않구나      1\n",
       "2  10265843                                  너무재밓었다그래서보는것을추천한다      0\n",
       "3   9045019                      교도소 이야기구먼 ..솔직히 재미는 없다..평점 조정      0\n",
       "4   6483659  사이몬페그의 익살스런 연기가 돋보였던 영화!스파이더맨에서 늙어보이기만 했던 커스틴 ...      1"
      ]
     },
     "execution_count": 1,
     "metadata": {},
     "output_type": "execute_result"
    }
   ],
   "source": [
    "import pandas as pd\n",
    "import urllib.request\n",
    "%matplotlib inline\n",
    "import matplotlib.pyplot as plt\n",
    "import re\n",
    "from konlpy.tag import Okt\n",
    "from tensorflow import keras\n",
    "from tensorflow.keras.preprocessing.text import Tokenizer\n",
    "import numpy as np\n",
    "from tensorflow.keras.preprocessing.sequence import pad_sequences\n",
    "from collections import Counter\n",
    "\n",
    "# 데이터를 읽어봅시다. \n",
    "train_data = pd.read_table('~/aiffel/sentiment_classification/data/ratings_train.txt')\n",
    "test_data = pd.read_table('~/aiffel/sentiment_classification/data/ratings_test.txt')\n",
    "\n",
    "train_data.head()"
   ]
  },
  {
   "cell_type": "markdown",
   "id": "lyric-influence",
   "metadata": {},
   "source": [
    "### 2) 데이터로더 구성"
   ]
  },
  {
   "cell_type": "markdown",
   "id": "awful-midwest",
   "metadata": {},
   "source": [
    "전혀 가공되지 않은 텍스트 데이터 가공하여 `data_loader` 만들기\n",
    "- 데이터의 중복 제거\n",
    "- NaN 결측치 제거\n",
    "- 한국어 토크나이저로 토큰화\n",
    "- 불용어(Stopwords) 제거\n",
    "- 사전`word_to_index` 구성\n",
    "- 텍스트 스트링을 사전 인덱스 스트링으로 변환\n",
    "- `X_train`, `y_train`, `X_test`, `y_test`, `word_to_index` 리턴"
   ]
  },
  {
   "cell_type": "code",
   "execution_count": 2,
   "id": "damaged-african",
   "metadata": {},
   "outputs": [],
   "source": [
    "from konlpy.tag import Mecab\n",
    "tokenizer = Mecab()\n",
    "stopwords = ['의','가','이','은','들','는','좀','잘','걍','과','도','를','으로','자','에','와','한','하다']\n",
    "\n",
    "def load_data(train_data, test_data, num_words=10000):\n",
    "    train_data.drop_duplicates(subset=['document'], inplace=True)\n",
    "    train_data = train_data.dropna(how = 'any') \n",
    "    test_data.drop_duplicates(subset=['document'], inplace=True)\n",
    "    test_data = test_data.dropna(how = 'any') \n",
    "    \n",
    "    X_train = []\n",
    "    for sentence in train_data['document']:\n",
    "        temp_X = tokenizer.morphs(sentence) # 토큰화\n",
    "        temp_X = [word for word in temp_X if not word in stopwords] # 불용어 제거\n",
    "        X_train.append(temp_X)\n",
    "\n",
    "    X_test = []\n",
    "    for sentence in test_data['document']:\n",
    "        temp_X = tokenizer.morphs(sentence) # 토큰화\n",
    "        temp_X = [word for word in temp_X if not word in stopwords] # 불용어 제거\n",
    "        X_test.append(temp_X)\n",
    "    \n",
    "    words = np.concatenate(X_train).tolist()\n",
    "    counter = Counter(words)\n",
    "    counter = counter.most_common(10000-4)\n",
    "    vocab = ['<PAD>', '<BOS>', '<UNK>', '<UNUSED>'] + [key for key, _ in counter]\n",
    "    word_to_index = {word:index for index, word in enumerate(vocab)}\n",
    "        \n",
    "    def wordlist_to_indexlist(wordlist):\n",
    "        return [word_to_index[word] if word in word_to_index else word_to_index['<PAD>'] for word in wordlist]\n",
    "        \n",
    "    X_train = list(map(wordlist_to_indexlist, X_train))\n",
    "    X_test = list(map(wordlist_to_indexlist, X_test))\n",
    "        \n",
    "    return X_train, np.array(list(train_data['label'])), X_test, np.array(list(test_data['label'])), word_to_index\n",
    "    \n",
    "X_train, y_train, X_test, y_test, word_to_index = load_data(train_data, test_data) "
   ]
  },
  {
   "cell_type": "code",
   "execution_count": 3,
   "id": "cleared-diabetes",
   "metadata": {},
   "outputs": [],
   "source": [
    "index_to_word = {index:word for word, index in word_to_index.items()}"
   ]
  },
  {
   "cell_type": "code",
   "execution_count": 4,
   "id": "continued-anderson",
   "metadata": {},
   "outputs": [],
   "source": [
    "# 문장 1개를 활용할 딕셔너리와 함께 주면, 단어 인덱스 리스트 벡터로 변환해 주는 함수입니다. \n",
    "# 단, 모든 문장은 <BOS>로 시작하는 것으로 합니다. \n",
    "def get_encoded_sentence(sentence, word_to_index):\n",
    "    return [word_to_index['<BOS>']]+[word_to_index[word] if word in word_to_index else word_to_index['<UNK>'] for word in sentence.split()]\n",
    "\n",
    "# 여러 개의 문장 리스트를 한꺼번에 단어 인덱스 리스트 벡터로 encode해 주는 함수입니다. \n",
    "def get_encoded_sentences(sentences, word_to_index):\n",
    "    return [get_encoded_sentence(sentence, word_to_index) for sentence in sentences]\n",
    "\n",
    "# 숫자 벡터로 encode된 문장을 원래대로 decode하는 함수입니다. \n",
    "def get_decoded_sentence(encoded_sentence, index_to_word):\n",
    "    return ' '.join(index_to_word[index] if index in index_to_word else '<UNK>' for index in encoded_sentence[1:])  #[1:]를 통해 <BOS>를 제외\n",
    "\n",
    "# 여러 개의 숫자 벡터로 encode된 문장을 한꺼번에 원래대로 decode하는 함수입니다. \n",
    "def get_decoded_sentences(encoded_sentences, index_to_word):\n",
    "    return [get_decoded_sentence(encoded_sentence, index_to_word) for encoded_sentence in encoded_sentences]"
   ]
  },
  {
   "cell_type": "markdown",
   "id": "increased-quick",
   "metadata": {},
   "source": [
    "### 3) 모델구성을 위한 데이터 분석 및 가공\n",
    "- 데이터셋 내 문장 길이 분포\n",
    "- 적절한 최대 문장 길이 지정\n",
    "- keras.preprocessing.sequence.pad_sequences 을 활용한 패딩 추가"
   ]
  },
  {
   "cell_type": "code",
   "execution_count": 5,
   "id": "million-scanner",
   "metadata": {},
   "outputs": [
    {
     "name": "stdout",
     "output_type": "stream",
     "text": [
      "문장길이 평균 :  15.96940191154864\n",
      "문장길이 최대 :  116\n",
      "문장길이 표준편차 :  12.843571191092\n",
      "pad_sequences maxlen :  41\n",
      "전체 문장의 0.9342988343341575%가 maxlen 설정값 이내에 포함됩니다. \n"
     ]
    }
   ],
   "source": [
    "total_data_text = list(X_train) + list(X_test)\n",
    "# 텍스트데이터 문장길이의 리스트를 생성한 후\n",
    "num_tokens = [len(tokens) for tokens in total_data_text]\n",
    "num_tokens = np.array(num_tokens)\n",
    "# 문장길이의 평균값, 최대값, 표준편차를 계산해 본다. \n",
    "print('문장길이 평균 : ', np.mean(num_tokens))\n",
    "print('문장길이 최대 : ', np.max(num_tokens))\n",
    "print('문장길이 표준편차 : ', np.std(num_tokens))\n",
    "\n",
    "# 예를들어, 최대 길이를 (평균 + 2*표준편차)로 한다면,  \n",
    "max_tokens = np.mean(num_tokens) + 2 * np.std(num_tokens)\n",
    "maxlen = int(max_tokens)\n",
    "print('pad_sequences maxlen : ', maxlen)\n",
    "print('전체 문장의 {}%가 maxlen 설정값 이내에 포함됩니다. '.format(np.sum(num_tokens < max_tokens) / len(num_tokens)))"
   ]
  },
  {
   "cell_type": "code",
   "execution_count": 6,
   "id": "czech-operation",
   "metadata": {},
   "outputs": [
    {
     "name": "stdout",
     "output_type": "stream",
     "text": [
      "(146182, 41)\n"
     ]
    }
   ],
   "source": [
    "X_train = keras.preprocessing.sequence.pad_sequences(X_train,\n",
    "                                                        value=word_to_index[\"<PAD>\"],\n",
    "                                                        padding='pre',\n",
    "                                                        maxlen=maxlen)\n",
    "\n",
    "X_test = keras.preprocessing.sequence.pad_sequences(X_test,\n",
    "                                                       value=word_to_index[\"<PAD>\"],\n",
    "                                                       padding='pre',\n",
    "                                                       maxlen=maxlen)\n",
    "\n",
    "print(X_train.shape)"
   ]
  },
  {
   "cell_type": "markdown",
   "id": "accurate-weekly",
   "metadata": {},
   "source": [
    "### 4) 모델구성 및 validation set 구성"
   ]
  },
  {
   "cell_type": "markdown",
   "id": "ahead-index",
   "metadata": {},
   "source": [
    " 3가지 이상 다양하게 구성하여 실험"
   ]
  },
  {
   "cell_type": "code",
   "execution_count": 7,
   "id": "public-spotlight",
   "metadata": {},
   "outputs": [],
   "source": [
    "vocab_size = 10000  # 어휘 사전의 크기\n",
    "word_vector_dim = 41  # 워드 임베딩 벡터의 차원 수"
   ]
  },
  {
   "cell_type": "markdown",
   "id": "accepted-munich",
   "metadata": {},
   "source": [
    "#### 1. Recurrent Neural Network(RNN) (LSTM)"
   ]
  },
  {
   "cell_type": "code",
   "execution_count": 8,
   "id": "streaming-vulnerability",
   "metadata": {},
   "outputs": [
    {
     "name": "stdout",
     "output_type": "stream",
     "text": [
      "Model: \"LSTM\"\n",
      "_________________________________________________________________\n",
      "Layer (type)                 Output Shape              Param #   \n",
      "=================================================================\n",
      "embedding (Embedding)        (None, None, 41)          410000    \n",
      "_________________________________________________________________\n",
      "lstm (LSTM)                  (None, 8)                 1600      \n",
      "_________________________________________________________________\n",
      "dense (Dense)                (None, 8)                 72        \n",
      "_________________________________________________________________\n",
      "dense_1 (Dense)              (None, 1)                 9         \n",
      "=================================================================\n",
      "Total params: 411,681\n",
      "Trainable params: 411,681\n",
      "Non-trainable params: 0\n",
      "_________________________________________________________________\n"
     ]
    }
   ],
   "source": [
    "rmodel = keras.Sequential(name='LSTM')\n",
    "rmodel.add(keras.layers.Embedding(vocab_size, word_vector_dim, input_shape=(None,)))\n",
    "rmodel.add(keras.layers.LSTM(8))   # 가장 널리 쓰이는 RNN인 LSTM 레이어를 사용하였습니다. 이때 LSTM state 벡터의 차원수는 8로 하였습니다. (변경 가능)\n",
    "rmodel.add(keras.layers.Dense(8, activation='relu'))\n",
    "rmodel.add(keras.layers.Dense(1, activation='sigmoid'))  # 최종 출력은 긍정/부정을 나타내는 1dim 입니다.\n",
    "\n",
    "rmodel.summary()"
   ]
  },
  {
   "cell_type": "markdown",
   "id": "isolated-brass",
   "metadata": {},
   "source": [
    "#### 2. 1-D Convolution Neural Network(1-D CNN)"
   ]
  },
  {
   "cell_type": "code",
   "execution_count": 9,
   "id": "commercial-violence",
   "metadata": {},
   "outputs": [
    {
     "name": "stdout",
     "output_type": "stream",
     "text": [
      "Model: \"sequential\"\n",
      "_________________________________________________________________\n",
      "Layer (type)                 Output Shape              Param #   \n",
      "=================================================================\n",
      "embedding_1 (Embedding)      (None, None, 41)          410000    \n",
      "_________________________________________________________________\n",
      "conv1d (Conv1D)              (None, None, 16)          4608      \n",
      "_________________________________________________________________\n",
      "max_pooling1d (MaxPooling1D) (None, None, 16)          0         \n",
      "_________________________________________________________________\n",
      "conv1d_1 (Conv1D)            (None, None, 16)          1808      \n",
      "_________________________________________________________________\n",
      "global_max_pooling1d (Global (None, 16)                0         \n",
      "_________________________________________________________________\n",
      "dense_2 (Dense)              (None, 8)                 136       \n",
      "_________________________________________________________________\n",
      "dense_3 (Dense)              (None, 1)                 9         \n",
      "=================================================================\n",
      "Total params: 416,561\n",
      "Trainable params: 416,561\n",
      "Non-trainable params: 0\n",
      "_________________________________________________________________\n"
     ]
    }
   ],
   "source": [
    "cmodel = keras.Sequential()\n",
    "cmodel.add(keras.layers.Embedding(vocab_size, word_vector_dim, input_shape=(None,)))\n",
    "cmodel.add(keras.layers.Conv1D(16, 7, activation='relu'))\n",
    "cmodel.add(keras.layers.MaxPooling1D(5))\n",
    "cmodel.add(keras.layers.Conv1D(16, 7, activation='relu'))\n",
    "cmodel.add(keras.layers.GlobalMaxPooling1D())\n",
    "cmodel.add(keras.layers.Dense(8, activation='relu'))\n",
    "cmodel.add(keras.layers.Dense(1, activation='sigmoid'))  # 최종 출력은 긍정/부정을 나타내는 1dim 입니다.\n",
    "\n",
    "cmodel.summary()"
   ]
  },
  {
   "cell_type": "markdown",
   "id": "hispanic-headline",
   "metadata": {},
   "source": [
    "#### 3. GlobalMaxPooling1D"
   ]
  },
  {
   "cell_type": "code",
   "execution_count": 10,
   "id": "decimal-contract",
   "metadata": {},
   "outputs": [
    {
     "name": "stdout",
     "output_type": "stream",
     "text": [
      "Model: \"sequential_1\"\n",
      "_________________________________________________________________\n",
      "Layer (type)                 Output Shape              Param #   \n",
      "=================================================================\n",
      "embedding_2 (Embedding)      (None, None, 41)          410000    \n",
      "_________________________________________________________________\n",
      "global_max_pooling1d_1 (Glob (None, 41)                0         \n",
      "_________________________________________________________________\n",
      "dense_4 (Dense)              (None, 8)                 336       \n",
      "_________________________________________________________________\n",
      "dense_5 (Dense)              (None, 1)                 9         \n",
      "=================================================================\n",
      "Total params: 410,345\n",
      "Trainable params: 410,345\n",
      "Non-trainable params: 0\n",
      "_________________________________________________________________\n"
     ]
    }
   ],
   "source": [
    "gmodel = keras.Sequential()\n",
    "gmodel.add(keras.layers.Embedding(vocab_size, word_vector_dim, input_shape=(None,)))\n",
    "gmodel.add(keras.layers.GlobalMaxPooling1D())\n",
    "gmodel.add(keras.layers.Dense(8, activation='relu'))\n",
    "gmodel.add(keras.layers.Dense(1, activation='sigmoid'))  # 최종 출력은 긍정/부정을 나타내는 1dim 입니다.\n",
    "\n",
    "gmodel.summary()"
   ]
  },
  {
   "cell_type": "markdown",
   "id": "insured-colony",
   "metadata": {},
   "source": [
    "### 5) 모델 훈련 개시"
   ]
  },
  {
   "cell_type": "code",
   "execution_count": 11,
   "id": "resident-protection",
   "metadata": {},
   "outputs": [],
   "source": [
    "# validation set 10000건 분리\n",
    "X_val = X_train[:10000]   \n",
    "y_val = y_train[:10000]\n",
    "\n",
    "# validation set을 제외한 나머지\n",
    "partial_X_train = X_train[10000:]  \n",
    "partial_y_train = y_train[10000:]"
   ]
  },
  {
   "cell_type": "markdown",
   "id": "worthy-hypothetical",
   "metadata": {},
   "source": [
    "#### 1. Recurrent Neural Network(RNN) (LSTM)"
   ]
  },
  {
   "cell_type": "code",
   "execution_count": 12,
   "id": "accepted-graham",
   "metadata": {},
   "outputs": [
    {
     "name": "stdout",
     "output_type": "stream",
     "text": [
      "Epoch 1/20\n",
      "286/286 [==============================] - 7s 15ms/step - loss: 0.5450 - accuracy: 0.7413 - val_loss: 0.3121 - val_accuracy: 0.8721\n",
      "Epoch 2/20\n",
      "286/286 [==============================] - 3s 12ms/step - loss: 0.3231 - accuracy: 0.8647 - val_loss: 0.2842 - val_accuracy: 0.8824\n",
      "Epoch 3/20\n",
      "286/286 [==============================] - 3s 12ms/step - loss: 0.3005 - accuracy: 0.8751 - val_loss: 0.2699 - val_accuracy: 0.8905\n",
      "Epoch 4/20\n",
      "286/286 [==============================] - 3s 12ms/step - loss: 0.2802 - accuracy: 0.8833 - val_loss: 0.2515 - val_accuracy: 0.8974\n",
      "Epoch 5/20\n",
      "286/286 [==============================] - 3s 12ms/step - loss: 0.2658 - accuracy: 0.8904 - val_loss: 0.2391 - val_accuracy: 0.9045\n",
      "Epoch 6/20\n",
      "286/286 [==============================] - 3s 12ms/step - loss: 0.2498 - accuracy: 0.8963 - val_loss: 0.2244 - val_accuracy: 0.9090\n",
      "Epoch 7/20\n",
      "286/286 [==============================] - 3s 12ms/step - loss: 0.2353 - accuracy: 0.9036 - val_loss: 0.2100 - val_accuracy: 0.9139\n",
      "Epoch 8/20\n",
      "286/286 [==============================] - 3s 12ms/step - loss: 0.2194 - accuracy: 0.9109 - val_loss: 0.2010 - val_accuracy: 0.9211\n",
      "Epoch 9/20\n",
      "286/286 [==============================] - 3s 12ms/step - loss: 0.2068 - accuracy: 0.9166 - val_loss: 0.1843 - val_accuracy: 0.9289\n",
      "Epoch 10/20\n",
      "286/286 [==============================] - 3s 12ms/step - loss: 0.1942 - accuracy: 0.9223 - val_loss: 0.1727 - val_accuracy: 0.9322\n",
      "Epoch 11/20\n",
      "286/286 [==============================] - 3s 12ms/step - loss: 0.1814 - accuracy: 0.9283 - val_loss: 0.1692 - val_accuracy: 0.9344\n",
      "Epoch 12/20\n",
      "286/286 [==============================] - 3s 12ms/step - loss: 0.1719 - accuracy: 0.9324 - val_loss: 0.1578 - val_accuracy: 0.9405\n",
      "Epoch 13/20\n",
      "286/286 [==============================] - 3s 12ms/step - loss: 0.1637 - accuracy: 0.9362 - val_loss: 0.1470 - val_accuracy: 0.9422\n",
      "Epoch 14/20\n",
      "286/286 [==============================] - 3s 12ms/step - loss: 0.1541 - accuracy: 0.9410 - val_loss: 0.1426 - val_accuracy: 0.9458\n",
      "Epoch 15/20\n",
      "286/286 [==============================] - 3s 12ms/step - loss: 0.1482 - accuracy: 0.9435 - val_loss: 0.1312 - val_accuracy: 0.9498\n",
      "Epoch 16/20\n",
      "286/286 [==============================] - 3s 12ms/step - loss: 0.1424 - accuracy: 0.9453 - val_loss: 0.1276 - val_accuracy: 0.9524\n",
      "Epoch 17/20\n",
      "286/286 [==============================] - 3s 12ms/step - loss: 0.1357 - accuracy: 0.9496 - val_loss: 0.1229 - val_accuracy: 0.9553\n",
      "Epoch 18/20\n",
      "286/286 [==============================] - 3s 12ms/step - loss: 0.1303 - accuracy: 0.9518 - val_loss: 0.1158 - val_accuracy: 0.9579\n",
      "Epoch 19/20\n",
      "286/286 [==============================] - 3s 12ms/step - loss: 0.1269 - accuracy: 0.9539 - val_loss: 0.1102 - val_accuracy: 0.9604\n",
      "Epoch 20/20\n",
      "286/286 [==============================] - 3s 12ms/step - loss: 0.1180 - accuracy: 0.9573 - val_loss: 0.1066 - val_accuracy: 0.9630\n"
     ]
    }
   ],
   "source": [
    "rmodel.compile(optimizer='adam',\n",
    "              loss='binary_crossentropy',\n",
    "              metrics=['accuracy'])\n",
    "              \n",
    "epochs=20\n",
    "\n",
    "rhistory = rmodel.fit(X_train,\n",
    "                    y_train,\n",
    "                    epochs=epochs,\n",
    "                    batch_size=512,\n",
    "                    validation_data=(X_val, y_val),\n",
    "                    verbose=1)"
   ]
  },
  {
   "cell_type": "markdown",
   "id": "traditional-finish",
   "metadata": {},
   "source": [
    "#### 2. 1-D Convolution Neural Network(1-D CNN)"
   ]
  },
  {
   "cell_type": "code",
   "execution_count": 13,
   "id": "aware-timber",
   "metadata": {},
   "outputs": [
    {
     "name": "stdout",
     "output_type": "stream",
     "text": [
      "Epoch 1/20\n",
      "286/286 [==============================] - 7s 18ms/step - loss: 0.5881 - accuracy: 0.6728 - val_loss: 0.3112 - val_accuracy: 0.8724\n",
      "Epoch 2/20\n",
      "286/286 [==============================] - 3s 10ms/step - loss: 0.3184 - accuracy: 0.8662 - val_loss: 0.2594 - val_accuracy: 0.9010\n",
      "Epoch 3/20\n",
      "286/286 [==============================] - 3s 10ms/step - loss: 0.2661 - accuracy: 0.8939 - val_loss: 0.2120 - val_accuracy: 0.9218\n",
      "Epoch 4/20\n",
      "286/286 [==============================] - 3s 10ms/step - loss: 0.2171 - accuracy: 0.9179 - val_loss: 0.1615 - val_accuracy: 0.9477\n",
      "Epoch 5/20\n",
      "286/286 [==============================] - 3s 10ms/step - loss: 0.1667 - accuracy: 0.9417 - val_loss: 0.1192 - val_accuracy: 0.9642\n",
      "Epoch 6/20\n",
      "286/286 [==============================] - 3s 10ms/step - loss: 0.1222 - accuracy: 0.9606 - val_loss: 0.0841 - val_accuracy: 0.9758\n",
      "Epoch 7/20\n",
      "286/286 [==============================] - 3s 10ms/step - loss: 0.0896 - accuracy: 0.9723 - val_loss: 0.0627 - val_accuracy: 0.9819\n",
      "Epoch 8/20\n",
      "286/286 [==============================] - 3s 10ms/step - loss: 0.0688 - accuracy: 0.9797 - val_loss: 0.0514 - val_accuracy: 0.9861\n",
      "Epoch 9/20\n",
      "286/286 [==============================] - 3s 10ms/step - loss: 0.0542 - accuracy: 0.9841 - val_loss: 0.0401 - val_accuracy: 0.9896\n",
      "Epoch 10/20\n",
      "286/286 [==============================] - 3s 10ms/step - loss: 0.0446 - accuracy: 0.9872 - val_loss: 0.0327 - val_accuracy: 0.9910\n",
      "Epoch 11/20\n",
      "286/286 [==============================] - 3s 10ms/step - loss: 0.0364 - accuracy: 0.9903 - val_loss: 0.0293 - val_accuracy: 0.9929\n",
      "Epoch 12/20\n",
      "286/286 [==============================] - 3s 10ms/step - loss: 0.0340 - accuracy: 0.9903 - val_loss: 0.0293 - val_accuracy: 0.9912\n",
      "Epoch 13/20\n",
      "286/286 [==============================] - 3s 10ms/step - loss: 0.0309 - accuracy: 0.9910 - val_loss: 0.0256 - val_accuracy: 0.9923\n",
      "Epoch 14/20\n",
      "286/286 [==============================] - 3s 10ms/step - loss: 0.0277 - accuracy: 0.9919 - val_loss: 0.0261 - val_accuracy: 0.9915\n",
      "Epoch 15/20\n",
      "286/286 [==============================] - 3s 10ms/step - loss: 0.0260 - accuracy: 0.9922 - val_loss: 0.0222 - val_accuracy: 0.9940\n",
      "Epoch 16/20\n",
      "286/286 [==============================] - 3s 10ms/step - loss: 0.0274 - accuracy: 0.9915 - val_loss: 0.0259 - val_accuracy: 0.9906\n",
      "Epoch 17/20\n",
      "286/286 [==============================] - 3s 10ms/step - loss: 0.0267 - accuracy: 0.9914 - val_loss: 0.0255 - val_accuracy: 0.9920\n",
      "Epoch 18/20\n",
      "286/286 [==============================] - 3s 10ms/step - loss: 0.0258 - accuracy: 0.9915 - val_loss: 0.0206 - val_accuracy: 0.9939\n",
      "Epoch 19/20\n",
      "286/286 [==============================] - 3s 10ms/step - loss: 0.0229 - accuracy: 0.9927 - val_loss: 0.0202 - val_accuracy: 0.9936\n",
      "Epoch 20/20\n",
      "286/286 [==============================] - 3s 10ms/step - loss: 0.0204 - accuracy: 0.9936 - val_loss: 0.0200 - val_accuracy: 0.9938\n"
     ]
    }
   ],
   "source": [
    "cmodel.compile(optimizer='adam',\n",
    "              loss='binary_crossentropy',\n",
    "              metrics=['accuracy'])\n",
    "              \n",
    "epochs=20\n",
    "\n",
    "chistory = cmodel.fit(X_train,\n",
    "                    y_train,\n",
    "                    epochs=epochs,\n",
    "                    batch_size=512,\n",
    "                    validation_data=(X_val, y_val),\n",
    "                    verbose=1)"
   ]
  },
  {
   "cell_type": "markdown",
   "id": "brilliant-enemy",
   "metadata": {},
   "source": [
    "#### 3. GlobalMaxPooling1D"
   ]
  },
  {
   "cell_type": "code",
   "execution_count": 14,
   "id": "inner-elizabeth",
   "metadata": {},
   "outputs": [
    {
     "name": "stdout",
     "output_type": "stream",
     "text": [
      "Epoch 1/20\n",
      "286/286 [==============================] - 2s 7ms/step - loss: 0.6364 - accuracy: 0.6420 - val_loss: 0.3776 - val_accuracy: 0.8520\n",
      "Epoch 2/20\n",
      "286/286 [==============================] - 2s 6ms/step - loss: 0.3614 - accuracy: 0.8523 - val_loss: 0.2920 - val_accuracy: 0.8811\n",
      "Epoch 3/20\n",
      "286/286 [==============================] - 2s 6ms/step - loss: 0.3013 - accuracy: 0.8771 - val_loss: 0.2591 - val_accuracy: 0.8982\n",
      "Epoch 4/20\n",
      "286/286 [==============================] - 2s 6ms/step - loss: 0.2705 - accuracy: 0.8913 - val_loss: 0.2328 - val_accuracy: 0.9080\n",
      "Epoch 5/20\n",
      "286/286 [==============================] - 2s 6ms/step - loss: 0.2457 - accuracy: 0.9026 - val_loss: 0.2095 - val_accuracy: 0.9201\n",
      "Epoch 6/20\n",
      "286/286 [==============================] - 2s 6ms/step - loss: 0.2223 - accuracy: 0.9138 - val_loss: 0.1876 - val_accuracy: 0.9342\n",
      "Epoch 7/20\n",
      "286/286 [==============================] - 2s 6ms/step - loss: 0.1997 - accuracy: 0.9260 - val_loss: 0.1692 - val_accuracy: 0.9400\n",
      "Epoch 8/20\n",
      "286/286 [==============================] - 2s 6ms/step - loss: 0.1834 - accuracy: 0.9328 - val_loss: 0.1512 - val_accuracy: 0.9508\n",
      "Epoch 9/20\n",
      "286/286 [==============================] - 2s 6ms/step - loss: 0.1646 - accuracy: 0.9427 - val_loss: 0.1351 - val_accuracy: 0.9563\n",
      "Epoch 10/20\n",
      "286/286 [==============================] - 2s 6ms/step - loss: 0.1458 - accuracy: 0.9513 - val_loss: 0.1202 - val_accuracy: 0.9639\n",
      "Epoch 11/20\n",
      "286/286 [==============================] - 2s 6ms/step - loss: 0.1343 - accuracy: 0.9559 - val_loss: 0.1083 - val_accuracy: 0.9671\n",
      "Epoch 12/20\n",
      "286/286 [==============================] - 2s 6ms/step - loss: 0.1192 - accuracy: 0.9619 - val_loss: 0.0957 - val_accuracy: 0.9719\n",
      "Epoch 13/20\n",
      "286/286 [==============================] - 2s 6ms/step - loss: 0.1060 - accuracy: 0.9675 - val_loss: 0.0866 - val_accuracy: 0.9755\n",
      "Epoch 14/20\n",
      "286/286 [==============================] - 2s 6ms/step - loss: 0.0961 - accuracy: 0.9712 - val_loss: 0.0787 - val_accuracy: 0.9786\n",
      "Epoch 15/20\n",
      "286/286 [==============================] - 2s 6ms/step - loss: 0.0870 - accuracy: 0.9753 - val_loss: 0.0720 - val_accuracy: 0.9805\n",
      "Epoch 16/20\n",
      "286/286 [==============================] - 2s 6ms/step - loss: 0.0766 - accuracy: 0.9781 - val_loss: 0.0629 - val_accuracy: 0.9833\n",
      "Epoch 17/20\n",
      "286/286 [==============================] - 2s 6ms/step - loss: 0.0723 - accuracy: 0.9799 - val_loss: 0.0581 - val_accuracy: 0.9857\n",
      "Epoch 18/20\n",
      "286/286 [==============================] - 2s 6ms/step - loss: 0.0642 - accuracy: 0.9827 - val_loss: 0.0517 - val_accuracy: 0.9863\n",
      "Epoch 19/20\n",
      "286/286 [==============================] - 2s 6ms/step - loss: 0.0596 - accuracy: 0.9842 - val_loss: 0.0496 - val_accuracy: 0.9868\n",
      "Epoch 20/20\n",
      "286/286 [==============================] - 2s 6ms/step - loss: 0.0539 - accuracy: 0.9860 - val_loss: 0.0439 - val_accuracy: 0.9893\n"
     ]
    }
   ],
   "source": [
    "gmodel.compile(optimizer='adam',\n",
    "              loss='binary_crossentropy',\n",
    "              metrics=['accuracy'])\n",
    "              \n",
    "epochs=20\n",
    "\n",
    "ghistory = gmodel.fit(X_train,\n",
    "                    y_train,\n",
    "                    epochs=epochs,\n",
    "                    batch_size=512,\n",
    "                    validation_data=(X_val, y_val),\n",
    "                    verbose=1)"
   ]
  },
  {
   "cell_type": "markdown",
   "id": "synthetic-information",
   "metadata": {},
   "source": [
    "### 6) Loss, Accuracy 그래프 시각화"
   ]
  },
  {
   "cell_type": "code",
   "execution_count": 15,
   "id": "irish-programmer",
   "metadata": {},
   "outputs": [
    {
     "name": "stdout",
     "output_type": "stream",
     "text": [
      "dict_keys(['loss', 'accuracy', 'val_loss', 'val_accuracy'])\n"
     ]
    }
   ],
   "source": [
    "import matplotlib.pyplot as plt\n",
    "\n",
    "rhistory_dict = rhistory.history\n",
    "ghistory_dict = ghistory.history\n",
    "chistory_dict = chistory.history\n",
    "\n",
    "print(rhistory_dict.keys()) # epoch에 따른 그래프를 그려볼 수 있는 항목들"
   ]
  },
  {
   "cell_type": "markdown",
   "id": "listed-daisy",
   "metadata": {},
   "source": [
    "#### 1. Recurrent Neural Network(RNN) (LSTM)"
   ]
  },
  {
   "cell_type": "code",
   "execution_count": 16,
   "id": "crude-concern",
   "metadata": {},
   "outputs": [
    {
     "data": {
      "text/plain": [
       "<Figure size 432x288 with 0 Axes>"
      ]
     },
     "metadata": {},
     "output_type": "display_data"
    },
    {
     "data": {
      "image/png": "[encoded data removed]",
      "text/plain": [
       "<Figure size 1440x360 with 2 Axes>"
      ]
     },
     "metadata": {
      "needs_background": "light"
     },
     "output_type": "display_data"
    }
   ],
   "source": [
    "acc = rhistory_dict['accuracy']\n",
    "val_acc = rhistory_dict['val_accuracy']\n",
    "loss = rhistory_dict['loss']\n",
    "val_loss = rhistory_dict['val_loss']\n",
    "\n",
    "epochs = range(1, len(acc) + 1)\n",
    "\n",
    "plt.clf() \n",
    "\n",
    "plt.figure(figsize=(20,5))\n",
    "\n",
    "plt.subplot(121)\n",
    "plt.plot(epochs, loss, 'bo', label='Training loss')\n",
    "plt.plot(epochs, val_loss, 'b', label='Validation loss')\n",
    "plt.title('Training and validation loss')\n",
    "plt.xlabel('Epochs')\n",
    "plt.ylabel('Loss')\n",
    "plt.legend()\n",
    "\n",
    "plt.subplot(122)\n",
    "plt.plot(epochs, acc, 'bo', label='Training acc')\n",
    "plt.plot(epochs, val_acc, 'b', label='Validation acc')\n",
    "plt.title('Training and validation accuracy')\n",
    "plt.xlabel('Epochs')\n",
    "plt.ylabel('Accuracy')\n",
    "plt.legend()\n",
    "\n",
    "plt.show()"
   ]
  },
  {
   "cell_type": "markdown",
   "id": "chubby-hungary",
   "metadata": {},
   "source": [
    "#### 2. 1-D Convolution Neural Network(1-D CNN)"
   ]
  },
  {
   "cell_type": "code",
   "execution_count": 17,
   "id": "auburn-sewing",
   "metadata": {},
   "outputs": [
    {
     "data": {
      "text/plain": [
       "<Figure size 432x288 with 0 Axes>"
      ]
     },
     "metadata": {},
     "output_type": "display_data"
    },
    {
     "data": {
      "image/png": "[encoded data removed]",
      "text/plain": [
       "<Figure size 1440x360 with 2 Axes>"
      ]
     },
     "metadata": {
      "needs_background": "light"
     },
     "output_type": "display_data"
    }
   ],
   "source": [
    "acc = chistory_dict['accuracy']\n",
    "val_acc = chistory_dict['val_accuracy']\n",
    "loss = chistory_dict['loss']\n",
    "val_loss = chistory_dict['val_loss']\n",
    "\n",
    "epochs = range(1, len(acc) + 1)\n",
    "\n",
    "plt.clf() \n",
    "\n",
    "plt.figure(figsize=(20,5))\n",
    "\n",
    "plt.subplot(121)\n",
    "plt.plot(epochs, loss, 'bo', label='Training loss')\n",
    "plt.plot(epochs, val_loss, 'b', label='Validation loss')\n",
    "plt.title('Training and validation loss')\n",
    "plt.xlabel('Epochs')\n",
    "plt.ylabel('Loss')\n",
    "plt.legend()\n",
    "\n",
    "plt.subplot(122)\n",
    "plt.plot(epochs, acc, 'bo', label='Training acc')\n",
    "plt.plot(epochs, val_acc, 'b', label='Validation acc')\n",
    "plt.title('Training and validation accuracy')\n",
    "plt.xlabel('Epochs')\n",
    "plt.ylabel('Accuracy')\n",
    "plt.legend()\n",
    "\n",
    "plt.show()"
   ]
  },
  {
   "cell_type": "markdown",
   "id": "hawaiian-rendering",
   "metadata": {},
   "source": [
    "#### 3. GlobalMaxPooling1D"
   ]
  },
  {
   "cell_type": "code",
   "execution_count": 18,
   "id": "organic-membrane",
   "metadata": {},
   "outputs": [
    {
     "data": {
      "text/plain": [
       "<Figure size 432x288 with 0 Axes>"
      ]
     },
     "metadata": {},
     "output_type": "display_data"
    },
    {
     "data": {
      "image/png": "[encoded data removed]",
      "text/plain": [
       "<Figure size 1440x360 with 2 Axes>"
      ]
     },
     "metadata": {
      "needs_background": "light"
     },
     "output_type": "display_data"
    }
   ],
   "source": [
    "acc = ghistory_dict['accuracy']\n",
    "val_acc = ghistory_dict['val_accuracy']\n",
    "loss = ghistory_dict['loss']\n",
    "val_loss = ghistory_dict['val_loss']\n",
    "\n",
    "epochs = range(1, len(acc) + 1)\n",
    "\n",
    "plt.clf() \n",
    "\n",
    "plt.figure(figsize=(20,5))\n",
    "\n",
    "plt.subplot(121)\n",
    "plt.plot(epochs, loss, 'bo', label='Training loss')\n",
    "plt.plot(epochs, val_loss, 'b', label='Validation loss')\n",
    "plt.title('Training and validation loss')\n",
    "plt.xlabel('Epochs')\n",
    "plt.ylabel('Loss')\n",
    "plt.legend()\n",
    "\n",
    "plt.subplot(122)\n",
    "plt.plot(epochs, acc, 'bo', label='Training acc')\n",
    "plt.plot(epochs, val_acc, 'b', label='Validation acc')\n",
    "plt.title('Training and validation accuracy')\n",
    "plt.xlabel('Epochs')\n",
    "plt.ylabel('Accuracy')\n",
    "plt.legend()\n",
    "\n",
    "plt.show()"
   ]
  },
  {
   "cell_type": "markdown",
   "id": "handmade-annotation",
   "metadata": {},
   "source": [
    "### 7) 학습된 Embedding 레이어 분석"
   ]
  },
  {
   "cell_type": "code",
   "execution_count": 19,
   "id": "cathedral-external",
   "metadata": {},
   "outputs": [
    {
     "name": "stdout",
     "output_type": "stream",
     "text": [
      "(10000, 41)\n"
     ]
    }
   ],
   "source": [
    "embedding_layer = cmodel.layers[0]\n",
    "weights = embedding_layer.get_weights()[0]\n",
    "print(weights.shape)    # shape: (vocab_size, embedding_dim)"
   ]
  },
  {
   "cell_type": "code",
   "execution_count": 20,
   "id": "induced-bangkok",
   "metadata": {},
   "outputs": [],
   "source": [
    "import os\n",
    "\n",
    "# 학습한 Embedding 파라미터를 파일에 써서 저장합니다. \n",
    "word2vec_file_path = os.getenv('HOME')+'/aiffel/sentiment_classification/data/word2vec.txt'\n",
    "f = open(word2vec_file_path, 'w')\n",
    "f.write('{} {}\\n'.format(vocab_size-4, word_vector_dim))  # 몇개의 벡터를 얼마 사이즈로 기재할지 타이틀을 씁니다.\n",
    "\n",
    "# 단어 개수(에서 특수문자 4개는 제외하고)만큼의 워드 벡터를 파일에 기록합니다. \n",
    "vectors = cmodel.get_weights()[0]\n",
    "for i in range(4,vocab_size):\n",
    "    f.write('{} {}\\n'.format(index_to_word[i], ' '.join(map(str, list(vectors[i, :])))))\n",
    "f.close()\n"
   ]
  },
  {
   "cell_type": "code",
   "execution_count": 21,
   "id": "brazilian-interference",
   "metadata": {},
   "outputs": [
    {
     "data": {
      "text/plain": [
       "array([ 0.10454408,  0.08900443, -0.02490957,  0.0247958 , -0.05614651,\n",
       "       -0.1330005 ,  0.01419514,  0.04433605,  0.07485081,  0.00968656,\n",
       "       -0.07565939,  0.05212197,  0.07972021, -0.01107886,  0.03100616,\n",
       "        0.07300781, -0.02850579, -0.0578484 ,  0.01720199, -0.0087457 ,\n",
       "        0.02933017, -0.02186   ,  0.02939609, -0.00558533, -0.06238331,\n",
       "       -0.05203617,  0.03326527,  0.01143097,  0.02114287,  0.07695037,\n",
       "        0.03036703,  0.04965276, -0.03405577,  0.02469862,  0.04730105,\n",
       "       -0.00167598,  0.0660518 , -0.00555774,  0.05002826,  0.00402551,\n",
       "        0.03617588], dtype=float32)"
      ]
     },
     "execution_count": 21,
     "metadata": {},
     "output_type": "execute_result"
    }
   ],
   "source": [
    "from gensim.models.keyedvectors import Word2VecKeyedVectors\n",
    "\n",
    "word_vectors = Word2VecKeyedVectors.load_word2vec_format(word2vec_file_path, binary=False)\n",
    "vector = word_vectors['영화']\n",
    "vector"
   ]
  },
  {
   "cell_type": "code",
   "execution_count": 22,
   "id": "approximate-anthony",
   "metadata": {},
   "outputs": [
    {
     "data": {
      "text/plain": [
       "[('김남길', 0.6592729687690735),\n",
       " ('얹', 0.6367195248603821),\n",
       " ('허슬', 0.5886507630348206),\n",
       " ('숨바꼭질', 0.5822926759719849),\n",
       " ('우마', 0.5818321704864502),\n",
       " ('돌아가', 0.5741317272186279),\n",
       " ('해리포터', 0.5658833384513855),\n",
       " ('아싸', 0.5611398816108704),\n",
       " ('데려가', 0.5551283359527588),\n",
       " ('이보영', 0.5520737171173096)]"
      ]
     },
     "execution_count": 22,
     "metadata": {},
     "output_type": "execute_result"
    }
   ],
   "source": [
    "word_vectors.similar_by_word(\"반전\")"
   ]
  },
  {
   "cell_type": "markdown",
   "id": "rough-district",
   "metadata": {},
   "source": [
    "### 8) 한국어 Word2Vec 임베딩 활용하여 성능개선"
   ]
  },
  {
   "cell_type": "code",
   "execution_count": 28,
   "id": "grateful-cloud",
   "metadata": {},
   "outputs": [],
   "source": [
    "from gensim.models import Word2Vec \n",
    "\n",
    "word2vec_path = os.getenv('HOME')+'/aiffel/sentiment_classification/data/ko.bin'\n",
    "word2vec = Word2Vec.load(word2vec_path)"
   ]
  },
  {
   "cell_type": "code",
   "execution_count": 30,
   "id": "honest-crest",
   "metadata": {},
   "outputs": [
    {
     "name": "stderr",
     "output_type": "stream",
     "text": [
      "/opt/conda/lib/python3.7/site-packages/ipykernel_launcher.py:1: DeprecationWarning: Call to deprecated `similar_by_word` (Method will be removed in 4.0.0, use self.wv.similar_by_word() instead).\n",
      "  \"\"\"Entry point for launching an IPython kernel.\n"
     ]
    },
    {
     "data": {
      "text/plain": [
       "[('취미', 0.5857348442077637),\n",
       " ('유머', 0.5140613913536072),\n",
       " ('매력', 0.5105490684509277),\n",
       " ('흥미', 0.4988338351249695),\n",
       " ('공짜', 0.4960595667362213),\n",
       " ('일자리', 0.49294644594192505),\n",
       " ('즐거움', 0.48700767755508423),\n",
       " ('비애', 0.4836210310459137),\n",
       " ('관객', 0.48286449909210205),\n",
       " ('향수', 0.4823310971260071)]"
      ]
     },
     "execution_count": 30,
     "metadata": {},
     "output_type": "execute_result"
    }
   ],
   "source": [
    "word2vec.similar_by_word(\"재미\")"
   ]
  },
  {
   "cell_type": "code",
   "execution_count": 31,
   "id": "subtle-ordering",
   "metadata": {},
   "outputs": [
    {
     "name": "stderr",
     "output_type": "stream",
     "text": [
      "/opt/conda/lib/python3.7/site-packages/ipykernel_launcher.py:1: DeprecationWarning: Call to deprecated `__getitem__` (Method will be removed in 4.0.0, use self.wv.__getitem__() instead).\n",
      "  \"\"\"Entry point for launching an IPython kernel.\n"
     ]
    },
    {
     "data": {
      "text/plain": [
       "array([ 1.7789793e+00,  1.0694910e+00,  2.5738353e-01, -2.4842148e+00,\n",
       "        1.2409397e+00, -7.5063747e-01, -1.5466234e-02, -2.0155650e-01,\n",
       "       -6.9528180e-01, -2.2403464e+00, -1.0396702e+00, -3.5385650e-01,\n",
       "        3.7017587e-01,  4.4474870e-02,  8.1487918e-01,  5.2301759e-01,\n",
       "       -2.0255926e+00,  9.7345167e-01, -2.9468563e-01, -1.3272958e+00,\n",
       "       -8.1712615e-01,  3.4313971e-01, -1.9768583e+00,  1.1112362e+00,\n",
       "        4.9538252e-01,  1.3528292e+00,  1.3654323e+00, -1.6793546e-01,\n",
       "        1.1515982e+00, -3.7572677e+00,  1.5199596e+00, -7.2741991e-01,\n",
       "        2.8785056e-01, -1.2009997e+00, -9.9264675e-01, -2.7447047e+00,\n",
       "       -6.7510104e-01, -1.5350077e+00, -1.2204176e+00,  1.9311377e-01,\n",
       "        1.6735035e+00,  6.2855357e-01, -1.7994398e+00,  3.4049723e+00,\n",
       "        5.2960140e-01,  1.6328852e+00,  1.3871417e+00,  8.5879284e-01,\n",
       "        2.9565653e-01,  9.7945583e-01,  7.4690026e-01,  5.4552078e-01,\n",
       "       -3.2564315e-01,  5.6397259e-01, -7.1760952e-02,  8.9701094e-02,\n",
       "        4.0539545e-01,  4.5346811e-01,  2.8814938e+00,  1.0674236e-01,\n",
       "        2.0603869e+00,  1.6497160e-01,  5.2944970e-01,  4.0135937e+00,\n",
       "       -3.3447921e-01, -2.1358573e+00,  5.9523940e-01, -1.1073053e+00,\n",
       "       -7.1182770e-01,  5.2835268e-01,  1.2343975e+00, -4.0654248e-01,\n",
       "       -2.2759853e-02,  2.5596411e+00,  7.9966289e-01, -5.0452083e-01,\n",
       "       -4.8314643e-01, -7.9314905e-01,  2.1777787e+00,  9.6273112e-01,\n",
       "       -1.3709993e+00, -1.6896886e+00,  1.4256451e+00,  1.3738014e+00,\n",
       "       -2.2886274e+00, -1.9837558e+00, -9.1250294e-01,  2.0849059e+00,\n",
       "       -4.0650690e-01, -1.4855919e+00,  2.7218978e+00, -1.6021384e-01,\n",
       "        2.2324927e+00, -1.7758993e+00, -6.3250750e-01, -1.9355451e-01,\n",
       "        2.0626117e-03, -5.4380405e-01, -6.0629654e-01,  1.6048644e+00,\n",
       "       -1.6158563e-01, -4.2210576e-01, -2.1846856e-01, -1.5721730e+00,\n",
       "       -7.9790378e-01,  4.0469468e-01,  1.1792172e+00,  2.5046866e+00,\n",
       "        3.9024210e+00, -1.0286664e+00,  2.0395849e+00, -2.9828372e+00,\n",
       "       -1.7546366e+00, -3.9307991e-01,  2.3160166e-01, -2.7749193e+00,\n",
       "       -3.0545112e-01, -9.9133664e-01,  6.5379632e-01, -1.0481920e+00,\n",
       "        1.3072847e+00,  9.1925037e-01, -7.5761443e-01,  1.1561108e+00,\n",
       "       -7.2889060e-02,  1.0037993e+00,  3.6445334e+00,  1.9818273e+00,\n",
       "        1.8263680e+00, -2.4111631e+00, -2.0566148e-01, -1.3405405e+00,\n",
       "       -2.6397436e+00,  1.0783186e+00, -1.8906636e+00,  2.0012009e+00,\n",
       "        2.3105055e-01, -2.4732602e+00,  3.7640819e-01, -3.5892429e+00,\n",
       "        3.6142921e-01,  1.1578366e+00, -1.8958704e+00,  1.7968223e+00,\n",
       "        2.5412557e+00,  2.5967426e+00, -3.5622576e-01, -2.0667765e+00,\n",
       "       -3.7583115e+00,  1.8139461e+00, -2.2816642e-01, -3.5023313e+00,\n",
       "       -1.2268908e+00, -9.6987654e-04,  6.5978599e-01, -2.4132090e+00,\n",
       "       -1.0982660e+00, -3.8477379e-01,  9.9181938e-01, -3.3871715e+00,\n",
       "       -5.0568783e-01,  1.8730667e-01,  3.5097066e-01,  4.8065540e-01,\n",
       "       -7.7820230e-01,  3.5704109e-01,  4.0581322e+00,  1.6212438e+00,\n",
       "       -2.5473263e+00,  1.9766161e+00,  1.7493746e+00, -1.9417783e+00,\n",
       "        8.1658953e-01,  8.2026160e-01, -8.3209103e-01, -2.4106631e+00,\n",
       "        2.7202666e+00,  1.3248111e+00,  1.8060523e+00,  8.7114221e-01,\n",
       "       -6.8485424e-02,  2.0453050e+00,  2.6347733e+00, -2.1035523e+00,\n",
       "       -3.6307988e+00, -3.4630568e+00, -5.5458527e-02, -8.1606513e-01,\n",
       "       -5.0580692e-01,  9.6028298e-01, -1.7619531e+00,  6.7891821e-02,\n",
       "        1.6744620e-01, -2.3918014e+00, -2.0632213e-01, -3.5795729e+00,\n",
       "       -2.0783553e+00,  4.2629790e+00, -5.7685477e-01, -1.9298729e+00],\n",
       "      dtype=float32)"
      ]
     },
     "execution_count": 31,
     "metadata": {},
     "output_type": "execute_result"
    }
   ],
   "source": [
    "vector = word2vec['아니']\n",
    "vector"
   ]
  },
  {
   "cell_type": "code",
   "execution_count": 32,
   "id": "electric-video",
   "metadata": {},
   "outputs": [
    {
     "name": "stderr",
     "output_type": "stream",
     "text": [
      "/opt/conda/lib/python3.7/site-packages/ipykernel_launcher.py:8: DeprecationWarning: Call to deprecated `__contains__` (Method will be removed in 4.0.0, use self.wv.__contains__() instead).\n",
      "  \n",
      "/opt/conda/lib/python3.7/site-packages/ipykernel_launcher.py:9: DeprecationWarning: Call to deprecated `__getitem__` (Method will be removed in 4.0.0, use self.wv.__getitem__() instead).\n",
      "  if __name__ == '__main__':\n"
     ]
    }
   ],
   "source": [
    "vocab_size = 10000    # 어휘 사전의 크기입니다(10,000개의 단어)\n",
    "word_vector_dim = 200  # 워드 벡터의 차원수 (변경가능한 하이퍼파라미터)\n",
    "\n",
    "embedding_matrix = np.random.rand(vocab_size, word_vector_dim)\n",
    "\n",
    "# embedding_matrix에 Word2Vec 워드 벡터를 단어 하나씩마다 차례차례 카피한다.\n",
    "for i in range(4,vocab_size):\n",
    "    if index_to_word[i] in word2vec:\n",
    "        embedding_matrix[i] = word2vec[index_to_word[i]]"
   ]
  },
  {
   "cell_type": "code",
   "execution_count": 33,
   "id": "super-civilian",
   "metadata": {},
   "outputs": [
    {
     "name": "stdout",
     "output_type": "stream",
     "text": [
      "Model: \"sequential_2\"\n",
      "_________________________________________________________________\n",
      "Layer (type)                 Output Shape              Param #   \n",
      "=================================================================\n",
      "embedding_3 (Embedding)      (None, 41, 200)           2000000   \n",
      "_________________________________________________________________\n",
      "lstm_1 (LSTM)                (None, 512)               1460224   \n",
      "_________________________________________________________________\n",
      "dense_6 (Dense)              (None, 8)                 4104      \n",
      "_________________________________________________________________\n",
      "dense_7 (Dense)              (None, 1)                 9         \n",
      "=================================================================\n",
      "Total params: 3,464,337\n",
      "Trainable params: 3,464,337\n",
      "Non-trainable params: 0\n",
      "_________________________________________________________________\n"
     ]
    }
   ],
   "source": [
    "from tensorflow.keras.initializers import Constant\n",
    "\n",
    "model = keras.Sequential()\n",
    "model.add(keras.layers.Embedding(vocab_size, \n",
    "                                 word_vector_dim, \n",
    "                                 embeddings_initializer=Constant(embedding_matrix),  # 카피한 임베딩을 여기서 활용\n",
    "                                 input_length=maxlen,\n",
    "                                 trainable=True))   # trainable을 True로 주면 Fine-tuning\n",
    "model.add(keras.layers.LSTM(512))\n",
    "model.add(keras.layers.Dense(8, activation='relu'))\n",
    "model.add(keras.layers.Dense(1, activation='sigmoid'))  # 최종 출력은 긍정/부정을 나타내는 1dim 입니다.\n",
    "\n",
    "model.summary()"
   ]
  },
  {
   "cell_type": "code",
   "execution_count": 35,
   "id": "supposed-victory",
   "metadata": {},
   "outputs": [
    {
     "name": "stdout",
     "output_type": "stream",
     "text": [
      "Epoch 1/3\n",
      "286/286 - 44s - loss: 0.2254 - accuracy: 0.9085 - val_loss: 0.1766 - val_accuracy: 0.9362\n",
      "Epoch 2/3\n",
      "286/286 - 42s - loss: 0.1870 - accuracy: 0.9250 - val_loss: 0.1421 - val_accuracy: 0.9496\n",
      "Epoch 3/3\n",
      "286/286 - 42s - loss: 0.1465 - accuracy: 0.9437 - val_loss: 0.1053 - val_accuracy: 0.9656\n"
     ]
    }
   ],
   "source": [
    "model.compile(optimizer='adam',\n",
    "              loss='binary_crossentropy',\n",
    "              metrics=['accuracy'])\n",
    "              \n",
    "epochs=3\n",
    "batch_size=512\n",
    "\n",
    "history = model.fit(X_train,\n",
    "                    y_train,\n",
    "                    epochs=epochs,\n",
    "                    batch_size=batch_size,\n",
    "                    validation_data=(X_val, y_val),\n",
    "                    verbose=2)\n"
   ]
  },
  {
   "cell_type": "code",
   "execution_count": 36,
   "id": "pretty-horse",
   "metadata": {},
   "outputs": [
    {
     "name": "stdout",
     "output_type": "stream",
     "text": [
      "dict_keys(['loss', 'accuracy', 'val_loss', 'val_accuracy'])\n"
     ]
    }
   ],
   "source": [
    "history_dict = history.history\n",
    "print(history_dict.keys())"
   ]
  },
  {
   "cell_type": "code",
   "execution_count": 37,
   "id": "chronic-female",
   "metadata": {},
   "outputs": [
    {
     "data": {
      "text/plain": [
       "<Figure size 432x288 with 0 Axes>"
      ]
     },
     "metadata": {},
     "output_type": "display_data"
    },
    {
     "data": {
      "image/png": "[encoded data removed]",
      "text/plain": [
       "<Figure size 1440x360 with 2 Axes>"
      ]
     },
     "metadata": {
      "needs_background": "light"
     },
     "output_type": "display_data"
    }
   ],
   "source": [
    "acc = history_dict['accuracy']\n",
    "val_acc = history_dict['val_accuracy']\n",
    "loss = history_dict['loss']\n",
    "val_loss = history_dict['val_loss']\n",
    "\n",
    "epochs = range(1, len(acc) + 1)\n",
    "\n",
    "plt.clf() \n",
    "\n",
    "plt.figure(figsize=(20,5))\n",
    "\n",
    "plt.subplot(121)\n",
    "plt.plot(epochs, loss, 'bo', label='Training loss')\n",
    "plt.plot(epochs, val_loss, 'b', label='Validation loss')\n",
    "plt.title('Training and validation loss')\n",
    "plt.xlabel('Epochs')\n",
    "plt.ylabel('Loss')\n",
    "plt.legend()\n",
    "\n",
    "plt.subplot(122)\n",
    "plt.plot(epochs, acc, 'bo', label='Training acc')\n",
    "plt.plot(epochs, val_acc, 'b', label='Validation acc')\n",
    "plt.title('Training and validation accuracy')\n",
    "plt.xlabel('Epochs')\n",
    "plt.ylabel('Accuracy')\n",
    "plt.legend()\n",
    "\n",
    "plt.show()"
   ]
  },
  {
   "cell_type": "markdown",
   "id": "changed-clone",
   "metadata": {},
   "source": [
    "||  <center>**평가 문항**</center> |  <center>**상세 기준**</center> |\n",
    "|:--------|:--------|:--------|\n",
    "|**1**|다양한 방법으로 Text Classification 태스크를 성공적으로 구현하였다.|3가지 이상의 모델이 성공적으로 시도됨|\n",
    "|**2**|gensim을 활용하여 자체학습된 혹은 사전학습된 임베딩 레이어를 분석하였다.|gensim의 유사단어 찾기를 활용하여 자체학습한 임베딩과 사전학습 임베딩을 적절히 분석함|\n",
    "|**3**|한국어 Word2Vec을 활용하여 가시적인 성능향상을 달성했다.|네이버 영화리뷰 데이터 감성분석 정확도를 85% 이상 달성함|\n",
    "\n",
    "#### 1 다양한 방법으로 Text Classification 태스크를 성공적으로 구현하였다.\n",
    ": RNN, 1-D CNN, GlobalMaxPooling1D의 세 가지 모델을 사용하였다.\n",
    "\n",
    "#### 2 gensim을 활용하여 자체학습된 혹은 사전학습된 임베딩 레이어를 분석하였다.\n",
    ": gensim을 활용하여 자체학습된 혹은 사전학습된 임베딩 레이어의 유사한 단어 찾기를 활용하였다.\n",
    "\n",
    "#### 3 한국어 Word2Vec을 활용하여 가시적인 성능향상을 달성했다.\n",
    ": 네이버 영화리뷰 데이터 감성분석 정확도를 성능향상을 적절히 달성했다."
   ]
  },
  {
   "cell_type": "markdown",
   "id": "manual-parade",
   "metadata": {},
   "source": [
    "## 회고\n",
    "생각보다 중간중간 오류가 많이 발생해서 힘들었다.  \n",
    "마지막엔 GPU 관련 에러 때문에 학습이 되지 않았는데, 내 코드의 문제가 아니라 일시적 오류인 것 같아 해결하기 위해서 이런저런 시도를 해봤지만 해결이 안 되서 힘든 마음에 자고 일어났더니 그 때는 역시 잘 돌아가서 그 부분이 힘들었다.  \n",
    "\n",
    "그 외에 gensim의 버전에 대한 문제가 있었는데, 진영님에게 배운 서연님에게 배워서 해결하는 법은 들었는데 내가 시도해보니 또 잘 안 되었는데, 가상환경을 만들어서 겨우겨우 해결할 수 있었다.\n",
    "\n",
    "역시 마음이 급할 때는 뭐든지 잘 안 되는 것 같다.\n",
    "차분하게 천천히 따라했으면 더 재밌게 잘 했을텐데 아쉬운 마음이 많이 들었다."
   ]
  },
  {
   "cell_type": "code",
   "execution_count": null,
   "id": "color-basement",
   "metadata": {},
   "outputs": [],
   "source": []
  }
 ],
 "metadata": {
  "kernelspec": {
   "display_name": "Python 3",
   "language": "python",
   "name": "python3"
  },
  "language_info": {
   "codemirror_mode": {
    "name": "ipython",
    "version": 3
   },
   "file_extension": ".py",
   "mimetype": "text/x-python",
   "name": "python",
   "nbconvert_exporter": "python",
   "pygments_lexer": "ipython3",
   "version": "3.7.9"
  }
 },
 "nbformat": 4,
 "nbformat_minor": 5
}
