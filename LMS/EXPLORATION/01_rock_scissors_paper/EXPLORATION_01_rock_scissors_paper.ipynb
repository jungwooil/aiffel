{
 "cells": [
  {
   "cell_type": "markdown",
   "id": "medical-pepper",
   "metadata": {},
   "source": [
    "## 미니 프로젝트 : 가위바위보 분류기"
   ]
  },
  {
   "cell_type": "markdown",
   "id": "recovered-killer",
   "metadata": {},
   "source": [
    "### 1 라이브러리"
   ]
  },
  {
   "cell_type": "code",
   "execution_count": 1,
   "id": "surrounded-quality",
   "metadata": {},
   "outputs": [
    {
     "name": "stdout",
     "output_type": "stream",
     "text": [
      "라이브러리 import 완료!\n"
     ]
    }
   ],
   "source": [
    "from PIL import Image\n",
    "import os, glob\n",
    "import numpy as np\n",
    "import tensorflow as tf\n",
    "from tensorflow import keras\n",
    "from keras.callbacks import ModelCheckpoint, EarlyStopping\n",
    "\n",
    "print(\"라이브러리 import 완료!\")"
   ]
  },
  {
   "cell_type": "markdown",
   "id": "diagnostic-toilet",
   "metadata": {},
   "source": [
    "### 2 데이터 불러오기 + Resize 하기"
   ]
  },
  {
   "cell_type": "code",
   "execution_count": 2,
   "id": "passing-parent",
   "metadata": {},
   "outputs": [
    {
     "name": "stdout",
     "output_type": "stream",
     "text": [
      "500  images to be resized.\n",
      "500  images resized.\n",
      "가위 이미지 resize 완료!\n",
      "500  images to be resized.\n",
      "500  images resized.\n",
      "바위 이미지 resize 완료!\n",
      "500  images to be resized.\n",
      "500  images resized.\n",
      "보 이미지 resize 완료!\n"
     ]
    }
   ],
   "source": [
    "def resize_images(img_path):\n",
    "    images=glob.glob(img_path + \"/*.jpg\")  \n",
    "    \n",
    "    print(len(images), \" images to be resized.\")\n",
    "\n",
    "    target_size=(28,28)\n",
    "    for img in images:\n",
    "        old_img=Image.open(img)\n",
    "        new_img=old_img.resize(target_size,Image.ANTIALIAS)\n",
    "        new_img.save(img, \"JPEG\")\n",
    "    \n",
    "    print(len(images), \" images resized.\")\n",
    "\n",
    "image_dir_path = os.getenv(\"HOME\") + \"/aiffel/rock_scissor_paper/scissor\"\n",
    "resize_images(image_dir_path)\n",
    "print(\"가위 이미지 resize 완료!\")\n",
    "\n",
    "image_dir_path = os.getenv(\"HOME\") + \"/aiffel/rock_scissor_paper/rock\"\n",
    "resize_images(image_dir_path)\n",
    "print(\"바위 이미지 resize 완료!\")\n",
    "\n",
    "image_dir_path = os.getenv(\"HOME\") + \"/aiffel/rock_scissor_paper/paper\"\n",
    "resize_images(image_dir_path)\n",
    "print(\"보 이미지 resize 완료!\")"
   ]
  },
  {
   "cell_type": "code",
   "execution_count": 3,
   "id": "biological-stroke",
   "metadata": {},
   "outputs": [
    {
     "name": "stdout",
     "output_type": "stream",
     "text": [
      "학습데이터(x_train)의 이미지 개수는 1500 입니다.\n",
      "x_train shape: (1500, 28, 28, 3)\n",
      "y_train shape: (1500,)\n"
     ]
    }
   ],
   "source": [
    "def load_data(img_path, number_of_data=1500):\n",
    "    img_size=28\n",
    "    color=3\n",
    "    imgs=np.zeros(number_of_data*img_size*img_size*color,dtype=np.int32).reshape(number_of_data,img_size,img_size,color)\n",
    "    labels=np.zeros(number_of_data,dtype=np.int32)\n",
    "\n",
    "    idx=0\n",
    "    for file in glob.iglob(img_path+'/scissor/*.jpg'):\n",
    "        img = np.array(Image.open(file),dtype=np.int32)\n",
    "        imgs[idx,:,:,:]=img\n",
    "        labels[idx]=0\n",
    "        idx=idx+1\n",
    "\n",
    "    for file in glob.iglob(img_path+'/rock/*.jpg'):\n",
    "        img = np.array(Image.open(file),dtype=np.int32)\n",
    "        imgs[idx,:,:,:]=img\n",
    "        labels[idx]=1\n",
    "        idx=idx+1  \n",
    "    \n",
    "    for file in glob.iglob(img_path+'/paper/*.jpg'):\n",
    "        img = np.array(Image.open(file),dtype=np.int32)\n",
    "        imgs[idx,:,:,:]=img\n",
    "        labels[idx]=2\n",
    "        idx=idx+1\n",
    "        \n",
    "    print(\"학습데이터(x_train)의 이미지 개수는\", idx,\"입니다.\")\n",
    "    return imgs, labels\n",
    "\n",
    "image_dir_path = os.getenv(\"HOME\") + \"/aiffel/rock_scissor_paper\"\n",
    "(x_train, y_train)=load_data(image_dir_path)\n",
    "x_train_norm = x_train/255.0\n",
    "\n",
    "print(\"x_train shape: {}\".format(x_train.shape))\n",
    "print(\"y_train shape: {}\".format(y_train.shape))"
   ]
  },
  {
   "cell_type": "markdown",
   "id": "romantic-verse",
   "metadata": {},
   "source": [
    "### 딥러닝 네트워크 설계하기"
   ]
  },
  {
   "cell_type": "code",
   "execution_count": 4,
   "id": "delayed-suspect",
   "metadata": {},
   "outputs": [
    {
     "name": "stdout",
     "output_type": "stream",
     "text": [
      "Model에 추가된 Layer 개수:  13\n",
      "Model: \"sequential\"\n",
      "_________________________________________________________________\n",
      "Layer (type)                 Output Shape              Param #   \n",
      "=================================================================\n",
      "conv2d (Conv2D)              (None, 26, 26, 16)        448       \n",
      "_________________________________________________________________\n",
      "max_pooling2d (MaxPooling2D) (None, 13, 13, 16)        0         \n",
      "_________________________________________________________________\n",
      "dropout (Dropout)            (None, 13, 13, 16)        0         \n",
      "_________________________________________________________________\n",
      "conv2d_1 (Conv2D)            (None, 11, 11, 32)        4640      \n",
      "_________________________________________________________________\n",
      "max_pooling2d_1 (MaxPooling2 (None, 5, 5, 32)          0         \n",
      "_________________________________________________________________\n",
      "dropout_1 (Dropout)          (None, 5, 5, 32)          0         \n",
      "_________________________________________________________________\n",
      "conv2d_2 (Conv2D)            (None, 3, 3, 32)          9248      \n",
      "_________________________________________________________________\n",
      "max_pooling2d_2 (MaxPooling2 (None, 1, 1, 32)          0         \n",
      "_________________________________________________________________\n",
      "dropout_2 (Dropout)          (None, 1, 1, 32)          0         \n",
      "_________________________________________________________________\n",
      "flatten (Flatten)            (None, 32)                0         \n",
      "_________________________________________________________________\n",
      "dense (Dense)                (None, 16)                528       \n",
      "_________________________________________________________________\n",
      "dropout_3 (Dropout)          (None, 16)                0         \n",
      "_________________________________________________________________\n",
      "dense_1 (Dense)              (None, 3)                 51        \n",
      "=================================================================\n",
      "Total params: 14,915\n",
      "Trainable params: 14,915\n",
      "Non-trainable params: 0\n",
      "_________________________________________________________________\n"
     ]
    }
   ],
   "source": [
    "model=keras.models.Sequential()\n",
    "model.add(keras.layers.Conv2D(16, (3,3), activation='relu', input_shape=(28,28,3)))\n",
    "model.add(keras.layers.MaxPool2D(2,2))\n",
    "model.add(keras.layers.Dropout(0.2))\n",
    "model.add(keras.layers.Conv2D(32, (3,3), activation='relu'))\n",
    "model.add(keras.layers.MaxPooling2D((2,2)))\n",
    "model.add(keras.layers.Dropout(0.1))\n",
    "model.add(keras.layers.Conv2D(32, (3,3), activation='relu'))\n",
    "model.add(keras.layers.MaxPooling2D((2,2)))\n",
    "model.add(keras.layers.Dropout(0.1))\n",
    "model.add(keras.layers.Flatten())\n",
    "model.add(keras.layers.Dense(16, activation='relu'))\n",
    "model.add(keras.layers.Dropout(0.1))\n",
    "model.add(keras.layers.Dense(3, activation='softmax'))\n",
    "\n",
    "print('Model에 추가된 Layer 개수: ', len(model.layers))\n",
    "\n",
    "model.summary()"
   ]
  },
  {
   "cell_type": "markdown",
   "id": "opened-shelter",
   "metadata": {},
   "source": [
    "### 딥러닝 네트워크 학습시키기"
   ]
  },
  {
   "cell_type": "code",
   "execution_count": 5,
   "id": "certain-adjustment",
   "metadata": {},
   "outputs": [
    {
     "name": "stdout",
     "output_type": "stream",
     "text": [
      "Epoch 1/48\n",
      "47/47 [==============================] - 8s 69ms/step - loss: 21.9580 - accuracy: 0.3113\n",
      "Epoch 2/48\n",
      "47/47 [==============================] - 0s 4ms/step - loss: 1.3220 - accuracy: 0.3662\n",
      "Epoch 3/48\n",
      "47/47 [==============================] - 0s 4ms/step - loss: 1.1295 - accuracy: 0.4027\n",
      "Epoch 4/48\n",
      "47/47 [==============================] - 0s 3ms/step - loss: 1.1254 - accuracy: 0.3722\n",
      "Epoch 5/48\n",
      "47/47 [==============================] - 0s 4ms/step - loss: 1.0739 - accuracy: 0.4495\n",
      "Epoch 6/48\n",
      "47/47 [==============================] - 0s 3ms/step - loss: 1.0312 - accuracy: 0.5099\n",
      "Epoch 7/48\n",
      "47/47 [==============================] - 0s 4ms/step - loss: 0.9450 - accuracy: 0.5628\n",
      "Epoch 8/48\n",
      "47/47 [==============================] - 0s 3ms/step - loss: 0.8699 - accuracy: 0.6097\n",
      "Epoch 9/48\n",
      "47/47 [==============================] - 0s 3ms/step - loss: 0.7751 - accuracy: 0.6724\n",
      "Epoch 10/48\n",
      "47/47 [==============================] - 0s 3ms/step - loss: 0.7465 - accuracy: 0.6837\n",
      "Epoch 11/48\n",
      "47/47 [==============================] - 0s 4ms/step - loss: 0.7073 - accuracy: 0.7161\n",
      "Epoch 12/48\n",
      "47/47 [==============================] - 0s 4ms/step - loss: 0.6433 - accuracy: 0.7324\n",
      "Epoch 13/48\n",
      "47/47 [==============================] - 0s 3ms/step - loss: 0.5566 - accuracy: 0.7986\n",
      "Epoch 14/48\n",
      "47/47 [==============================] - 0s 3ms/step - loss: 0.5791 - accuracy: 0.7727\n",
      "Epoch 15/48\n",
      "47/47 [==============================] - 0s 4ms/step - loss: 0.5244 - accuracy: 0.7936\n",
      "Epoch 16/48\n",
      "47/47 [==============================] - 0s 4ms/step - loss: 0.5109 - accuracy: 0.7974\n",
      "Epoch 17/48\n",
      "47/47 [==============================] - 0s 3ms/step - loss: 0.4466 - accuracy: 0.8164\n",
      "Epoch 18/48\n",
      "47/47 [==============================] - 0s 3ms/step - loss: 0.3689 - accuracy: 0.8581\n",
      "Epoch 19/48\n",
      "47/47 [==============================] - 0s 3ms/step - loss: 0.3939 - accuracy: 0.8564\n",
      "Epoch 20/48\n",
      "47/47 [==============================] - 0s 3ms/step - loss: 0.4317 - accuracy: 0.8562\n",
      "Epoch 21/48\n",
      "47/47 [==============================] - 0s 3ms/step - loss: 0.3397 - accuracy: 0.8874\n",
      "Epoch 22/48\n",
      "47/47 [==============================] - 0s 3ms/step - loss: 0.3468 - accuracy: 0.8823\n",
      "Epoch 23/48\n",
      "47/47 [==============================] - 0s 3ms/step - loss: 0.3127 - accuracy: 0.8792\n",
      "Epoch 24/48\n",
      "47/47 [==============================] - 0s 3ms/step - loss: 0.2293 - accuracy: 0.9188\n",
      "Epoch 25/48\n",
      "47/47 [==============================] - 0s 3ms/step - loss: 0.2450 - accuracy: 0.9047\n",
      "Epoch 26/48\n",
      "47/47 [==============================] - 0s 4ms/step - loss: 0.2323 - accuracy: 0.9202\n",
      "Epoch 27/48\n",
      "47/47 [==============================] - 0s 4ms/step - loss: 0.2278 - accuracy: 0.9158\n",
      "Epoch 28/48\n",
      "47/47 [==============================] - 0s 3ms/step - loss: 0.2103 - accuracy: 0.9327\n",
      "Epoch 29/48\n",
      "47/47 [==============================] - 0s 3ms/step - loss: 0.2004 - accuracy: 0.9442\n",
      "Epoch 30/48\n",
      "47/47 [==============================] - 0s 3ms/step - loss: 0.1956 - accuracy: 0.9284\n",
      "Epoch 31/48\n",
      "47/47 [==============================] - 0s 3ms/step - loss: 0.1839 - accuracy: 0.9461\n",
      "Epoch 32/48\n",
      "47/47 [==============================] - 0s 3ms/step - loss: 0.2005 - accuracy: 0.9310\n",
      "Epoch 33/48\n",
      "47/47 [==============================] - 0s 4ms/step - loss: 0.2138 - accuracy: 0.9293\n",
      "Epoch 34/48\n",
      "47/47 [==============================] - 0s 3ms/step - loss: 0.1512 - accuracy: 0.9497\n",
      "Epoch 35/48\n",
      "47/47 [==============================] - 0s 3ms/step - loss: 0.1813 - accuracy: 0.9473\n",
      "Epoch 36/48\n",
      "47/47 [==============================] - 0s 3ms/step - loss: 0.1612 - accuracy: 0.9438\n",
      "Epoch 37/48\n",
      "47/47 [==============================] - 0s 3ms/step - loss: 0.1739 - accuracy: 0.9441\n",
      "Epoch 38/48\n",
      "47/47 [==============================] - 0s 3ms/step - loss: 0.1341 - accuracy: 0.9494\n",
      "Epoch 39/48\n",
      "47/47 [==============================] - 0s 3ms/step - loss: 0.1726 - accuracy: 0.9381\n",
      "Epoch 40/48\n",
      "47/47 [==============================] - 0s 3ms/step - loss: 0.1421 - accuracy: 0.9648\n",
      "Epoch 41/48\n",
      "47/47 [==============================] - 0s 3ms/step - loss: 0.1555 - accuracy: 0.9600\n",
      "Epoch 42/48\n",
      "47/47 [==============================] - 0s 3ms/step - loss: 0.1825 - accuracy: 0.9375\n",
      "Epoch 43/48\n",
      "47/47 [==============================] - 0s 3ms/step - loss: 0.1388 - accuracy: 0.9483\n",
      "Epoch 44/48\n",
      "47/47 [==============================] - 0s 3ms/step - loss: 0.1314 - accuracy: 0.9543\n",
      "Epoch 45/48\n",
      "47/47 [==============================] - 0s 3ms/step - loss: 0.1619 - accuracy: 0.9472\n",
      "Epoch 46/48\n",
      "47/47 [==============================] - 0s 3ms/step - loss: 0.1171 - accuracy: 0.9657\n",
      "Epoch 47/48\n",
      "47/47 [==============================] - 0s 4ms/step - loss: 0.2079 - accuracy: 0.9230\n",
      "Epoch 48/48\n",
      "47/47 [==============================] - 0s 3ms/step - loss: 0.1049 - accuracy: 0.9686\n"
     ]
    },
    {
     "data": {
      "text/plain": [
       "<tensorflow.python.keras.callbacks.History at 0x7f71b6a18d90>"
      ]
     },
     "execution_count": 5,
     "metadata": {},
     "output_type": "execute_result"
    }
   ],
   "source": [
    "model.compile(optimizer='adam',\n",
    "             loss='sparse_categorical_crossentropy',\n",
    "             metrics=['accuracy'])\n",
    "\n",
    "earlystopping = EarlyStopping(monitor='val_loss', patience=10)\n",
    "model.fit(x_train, y_train, epochs=48)"
   ]
  },
  {
   "cell_type": "markdown",
   "id": "confident-marsh",
   "metadata": {},
   "source": [
    "### 테스트 데이터 불러오기"
   ]
  },
  {
   "cell_type": "code",
   "execution_count": 6,
   "id": "joint-transaction",
   "metadata": {},
   "outputs": [
    {
     "name": "stdout",
     "output_type": "stream",
     "text": [
      "테스트데이터(x_test)의 이미지 개수는 300 입니다.\n",
      "x_test shape: (300, 28, 28, 3)\n",
      "y_test shape: (300,)\n"
     ]
    }
   ],
   "source": [
    "def load_test_data(img_path, number_of_data=300):\n",
    "    img_size=28\n",
    "    color=3\n",
    "    imgs=np.zeros(number_of_data*img_size*img_size*color,dtype=np.int32).reshape(number_of_data,img_size,img_size,color)\n",
    "    labels=np.zeros(number_of_data,dtype=np.int32)\n",
    "\n",
    "    idx=0\n",
    "    for file in glob.iglob(img_path+'/scissor/*.jpg'):\n",
    "        img = np.array(Image.open(file),dtype=np.int32)\n",
    "        imgs[idx,:,:,:]=img\n",
    "        labels[idx]=0\n",
    "        idx=idx+1\n",
    "\n",
    "    for file in glob.iglob(img_path+'/rock/*.jpg'):\n",
    "        img = np.array(Image.open(file),dtype=np.int32)\n",
    "        imgs[idx,:,:,:]=img\n",
    "        labels[idx]=1\n",
    "        idx=idx+1  \n",
    "    \n",
    "    for file in glob.iglob(img_path+'/paper/*.jpg'):\n",
    "        img = np.array(Image.open(file),dtype=np.int32)\n",
    "        imgs[idx,:,:,:]=img\n",
    "        labels[idx]=2\n",
    "        idx=idx+1\n",
    "        \n",
    "    print(\"테스트데이터(x_test)의 이미지 개수는\", idx,\"입니다.\")\n",
    "    return imgs, labels\n",
    "\n",
    "image_dir_path = os.getenv(\"HOME\") + \"/aiffel/rock_scissor_paper/test\"\n",
    "(x_test, y_test)=load_test_data(image_dir_path)\n",
    "x_test_norm = x_test/255.0\n",
    "\n",
    "print(\"x_test shape: {}\".format(x_test.shape))\n",
    "print(\"y_test shape: {}\".format(y_test.shape))"
   ]
  },
  {
   "cell_type": "markdown",
   "id": "daily-center",
   "metadata": {},
   "source": [
    "### test_accuracy 측정"
   ]
  },
  {
   "cell_type": "code",
   "execution_count": 7,
   "id": "strong-leave",
   "metadata": {},
   "outputs": [
    {
     "name": "stdout",
     "output_type": "stream",
     "text": [
      "10/10 - 2s - loss: 1.7775 - accuracy: 0.6033\n",
      "test_loss: 1.7774627208709717 \n",
      "test_accuracy: 0.6033333539962769\n"
     ]
    }
   ],
   "source": [
    "test_loss, test_accuracy = model.evaluate(x_test,y_test, verbose=2)\n",
    "print(\"test_loss: {} \".format(test_loss))\n",
    "print(\"test_accuracy: {}\".format(test_accuracy))"
   ]
  },
  {
   "cell_type": "markdown",
   "id": "olive-fruit",
   "metadata": {},
   "source": [
    "- train 데이터에서 가위 바위 보 사진들을 수집할 때, 데이터가 레이블에 너무 혼동을 주지 않는 선에서 최대한 많은 데이터를 수집했다.\n",
    "- 데이터에서 추출할 특징이 MNIST에 비해 더 많을 것이라고 생각해 conv2D 레이어를 중첩했다.\n",
    "- 네트워크 설계 과정에서 Dropout, 데이터 학습 과정에서 earlystop을 사용해서 과적합을 줄이고자 했다."
   ]
  },
  {
   "cell_type": "code",
   "execution_count": null,
   "id": "operational-tuesday",
   "metadata": {},
   "outputs": [],
   "source": []
  },
  {
   "cell_type": "code",
   "execution_count": null,
   "id": "tender-reconstruction",
   "metadata": {},
   "outputs": [],
   "source": []
  }
 ],
 "metadata": {
  "kernelspec": {
   "display_name": "Python 3",
   "language": "python",
   "name": "python3"
  },
  "language_info": {
   "codemirror_mode": {
    "name": "ipython",
    "version": 3
   },
   "file_extension": ".py",
   "mimetype": "text/x-python",
   "name": "python",
   "nbconvert_exporter": "python",
   "pygments_lexer": "ipython3",
   "version": "3.7.9"
  }
 },
 "nbformat": 4,
 "nbformat_minor": 5
}
