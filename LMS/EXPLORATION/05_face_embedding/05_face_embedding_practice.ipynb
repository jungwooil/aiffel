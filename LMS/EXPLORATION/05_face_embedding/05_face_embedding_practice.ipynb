{
 "cells": [
  {
   "cell_type": "markdown",
   "id": "82c7dbde",
   "metadata": {},
   "source": [
    "### 데이터 준비하기"
   ]
  },
  {
   "cell_type": "code",
   "execution_count": null,
   "id": "d5cabbaa",
   "metadata": {},
   "outputs": [],
   "source": [
    "import os\n",
    "\n",
    "dir_path = os.getenv('HOME')+'/aiffel/face_embedding/images'\n",
    "file_list = os.listdir(dir_path)\n",
    "\n",
    "print (\"file_list: {}\".format(file_list))\n",
    "\n",
    "import matplotlib.pyplot as plt\n",
    "import matplotlib.image as img\n",
    "\n",
    "#Set figsize here\n",
    "fig, axes = plt.subplots(nrows=2, ncols=3, figsize=(24,10))\n",
    "\n",
    "# flatten axes for easy iterating\n",
    "for i, ax in enumerate(axes.flatten()):\n",
    "  image = img.imread(dir_path+'/'+file_list[i])\n",
    "  ax.imshow(image)\n",
    "plt.show()\n",
    "\n",
    "fig.tight_layout()"
   ]
  },
  {
   "cell_type": "code",
   "execution_count": null,
   "id": "75846839",
   "metadata": {},
   "outputs": [],
   "source": [
    "import face_recognition\n",
    "import os\n",
    "%matplotlib inline\n",
    "import matplotlib.pyplot as plt\n",
    "\n",
    "image_path = os.getenv('HOME')+'/aiffel/face_embedding/images/obama.jpg'\n",
    "image = face_recognition.load_image_file(image_path)\n",
    "face_locations = face_recognition.face_locations(image)\n",
    "\n",
    "print(face_locations)  # 이미지에서 얼굴 영역의 좌표를 출력합니다.\n",
    "\n",
    "a, b, c, d = face_locations[0]\n",
    "cropped_face = image[a:c,d:b,:]\n",
    "\n",
    "plt.imshow(cropped_face)   # 이미지에서 얼굴영역만 잘라낸 cropped_face를 그려 봅니다."
   ]
  },
  {
   "cell_type": "code",
   "execution_count": null,
   "id": "7b281c7b",
   "metadata": {},
   "outputs": [],
   "source": [
    "import face_recognition\n",
    "import os\n",
    "\n",
    "def get_cropped_face(image_path):\n",
    "    image = face_recognition.load_image_file(image_path)\n",
    "    face_locations = face_recognition.face_locations(image)\n",
    "    a, b, c, d = face_locations[0]\n",
    "    cropped_face = image[a:c,d:b,:]\n",
    "    \n",
    "    return cropped_face"
   ]
  },
  {
   "cell_type": "code",
   "execution_count": null,
   "id": "e3e5993e",
   "metadata": {},
   "outputs": [],
   "source": [
    "image_path = os.getenv('HOME')+'/aiffel/face_embedding/image/\n",
    "\n",
    "cropped_face = get_cropped_face(image_path)\n",
    "plt.imshow(cropped_face)"
   ]
  },
  {
   "cell_type": "markdown",
   "id": "935280ad",
   "metadata": {},
   "source": [
    "## 얼굴 임베딩 만들기 (2)FaceNet"
   ]
  },
  {
   "cell_type": "markdown",
   "id": "f40831b6",
   "metadata": {},
   "source": [
    "### 얼굴 임베딩 추출"
   ]
  },
  {
   "cell_type": "code",
   "execution_count": null,
   "id": "536a19d1",
   "metadata": {},
   "outputs": [],
   "source": [
    "# import os\n",
    "\n",
    "# dir_path = os.getenv('HOME')+'/aiffel/face_embedding/images'\n",
    "# file_list = os.listdir(dir_path)\n",
    "\n",
    "# print (\"file_list: {}\".format(file_list))"
   ]
  },
  {
   "cell_type": "code",
   "execution_count": null,
   "id": "22c30244",
   "metadata": {},
   "outputs": [],
   "source": [
    "image_file = os.path.join(dir_path, 'obama.jpg')\n",
    "face = get_cropped_face(image_file)   # 얼굴 영역을 구하는 함수(이전 스텝에서 구현)\n",
    "\n",
    "# 얼굴 영역을 가지고 얼굴 임베딩 벡터를 구하는 함수\n",
    "def get_face_embedding(face):\n",
    "    return face_recognition.face_encodings(face)\n",
    "\n",
    "embedding = get_face_embedding(face)  \n",
    "embedding"
   ]
  },
  {
   "cell_type": "code",
   "execution_count": null,
   "id": "6e97255c",
   "metadata": {},
   "outputs": [],
   "source": [
    "def get_face_embedding_dict(dir_path):\n",
    "    file_list = os.listdir(dir_path)\n",
    "    embedding_dict = {}\n",
    "    \n",
    "    for file in file_list:\n",
    "        file_path = os.path.join(dir_path, file)\n",
    "        face = get_cropped_face(file_path)\n",
    "        embedding = get_face_embedding(face)\n",
    "        \n",
    "        if len(embedding) > 0:  \n",
    "            embedding_dict[os.path.splitext(file)[0]] = embedding[0]\n",
    "        \n",
    "    return embedding_dict"
   ]
  },
  {
   "cell_type": "code",
   "execution_count": null,
   "id": "89e72aaf",
   "metadata": {},
   "outputs": [],
   "source": [
    "embedding_dict = get_face_embedding_dict(dir_path)\n",
    "embedding_dict['trump']"
   ]
  },
  {
   "cell_type": "markdown",
   "id": "80db0756",
   "metadata": {},
   "source": [
    "## 5-5. 얼굴임베딩 사이의 거리측정"
   ]
  },
  {
   "cell_type": "markdown",
   "id": "2d7a8441",
   "metadata": {},
   "source": [
    "numpy.linalg.norm를 활용하여 L2 Norm Distance로 계산"
   ]
  },
  {
   "cell_type": "code",
   "execution_count": null,
   "id": "cbcc828d",
   "metadata": {},
   "outputs": [],
   "source": [
    "import numpy as np\n",
    "\n",
    "def get_distance(name1, name2):\n",
    "    return np.linalg.norm(embedding_dict[name1]-embedding_dict[name2], ord=2)\n",
    "\n",
    "get_distance('obama', 'trump')"
   ]
  },
  {
   "cell_type": "markdown",
   "id": "9d6d337c",
   "metadata": {},
   "source": [
    "## 5-6. 얼굴임베딩 공간의 시각화"
   ]
  },
  {
   "cell_type": "markdown",
   "id": "f41cf2ee",
   "metadata": {},
   "source": [
    "## 5-7. 가장 닮은꼴 얼굴 찾아보기"
   ]
  },
  {
   "cell_type": "code",
   "execution_count": null,
   "id": "c43889ec",
   "metadata": {},
   "outputs": [],
   "source": [
    "def get_nearest_face(name, top=5): \n",
    "    pass\n",
    "get_nearest_face('trump')"
   ]
  },
  {
   "cell_type": "code",
   "execution_count": null,
   "id": "2b1af9cd",
   "metadata": {},
   "outputs": [],
   "source": [
    "# name1과 name2의 거리를 비교하는 함수를 생성하되, name1은 미리 지정하고, name2는 호출시에 인자로 받도록 합니다.\n",
    "def get_sort_key_func(name1):\n",
    "    def get_distance_from_name1(name2):\n",
    "        return get_distance(name1, name2)\n",
    "    return get_distance_from_name1\n",
    "\n",
    "sort_key_func = get_sort_key_func('trump')   \n",
    "# 이렇게 생성된 함수 sort_key_func는 sort_key_func('obama') 라고 호출할 때 trump와 obama 사이의 임베딩 벡터 거리를 계산합니다."
   ]
  },
  {
   "cell_type": "code",
   "execution_count": null,
   "id": "d8f66fa4",
   "metadata": {},
   "outputs": [],
   "source": [
    "sorted(embedding_dict.items(), key=lambda x:sort_key_func(x[0]))"
   ]
  },
  {
   "cell_type": "markdown",
   "id": "ff8ad74a",
   "metadata": {},
   "source": [
    "sorted(정렬할 데이터, key 파라미터)\n",
    "- sorted(data, key= 식) : 해당 키의 식을 기준으로 정렬하여 반환"
   ]
  },
  {
   "cell_type": "code",
   "execution_count": null,
   "id": "21493598",
   "metadata": {},
   "outputs": [],
   "source": [
    "def get_nearest_face(name, top=5):\n",
    "    sort_key_func = get_sort_key_func(name)\n",
    "    sorted_faces = sorted(embedding_dict.items(), key=lambda x:sort_key_func(x[0]))\n",
    "    \n",
    "    for i in range(top+1):\n",
    "        if i == 0 :   # 첫번째로 나오는 이름은 자기 자신일 것이므로 제외합시다. \n",
    "            continue\n",
    "        if sorted_faces[i]:\n",
    "            print('순위 {} : 이름({}), 거리({})'.format(i, sorted_faces[i][0], sort_key_func(sorted_faces[i][0])))"
   ]
  },
  {
   "cell_type": "code",
   "execution_count": null,
   "id": "730066b0",
   "metadata": {},
   "outputs": [],
   "source": [
    "# obama와 가장 닮은 사람은 누굴까요?\n",
    "get_nearest_face('obama')"
   ]
  },
  {
   "cell_type": "code",
   "execution_count": null,
   "id": "65bfdbdb",
   "metadata": {},
   "outputs": [],
   "source": []
  }
 ],
 "metadata": {
  "kernelspec": {
   "display_name": "Python 3",
   "language": "python",
   "name": "python3"
  },
  "language_info": {
   "codemirror_mode": {
    "name": "ipython",
    "version": 3
   },
   "file_extension": ".py",
   "mimetype": "text/x-python",
   "name": "python",
   "nbconvert_exporter": "python",
   "pygments_lexer": "ipython3",
   "version": "3.8.8"
  }
 },
 "nbformat": 4,
 "nbformat_minor": 5
}
