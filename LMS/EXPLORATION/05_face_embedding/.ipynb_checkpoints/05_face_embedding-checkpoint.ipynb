{
 "cells": [
  {
   "cell_type": "markdown",
   "id": "2bb03478",
   "metadata": {},
   "source": [
    "## 5-8. 프로젝트 : 나랑 닮은 연예인을 찾아보자"
   ]
  },
  {
   "cell_type": "markdown",
   "id": "6a505491",
   "metadata": {},
   "source": [
    "#### Library Import"
   ]
  },
  {
   "cell_type": "code",
   "execution_count": null,
   "id": "32186b6d",
   "metadata": {},
   "outputs": [],
   "source": [
    "import os\n",
    "import face_recognition\n",
    "%matplotlib inline\n",
    "import matplotlib.pyplot as plt"
   ]
  },
  {
   "cell_type": "markdown",
   "id": "2f0d2888",
   "metadata": {},
   "source": [
    "### Step1. 사진 모으기"
   ]
  },
  {
   "cell_type": "markdown",
   "id": "9e8bd0ad",
   "metadata": {},
   "source": [
    "#### 1. 내 사진 찍기"
   ]
  },
  {
   "cell_type": "code",
   "execution_count": null,
   "id": "a1aa8517",
   "metadata": {},
   "outputs": [],
   "source": [
    "import os\n",
    "\n",
    "dir_path = os.getenv('HOME')+'/Desktop/Project/aiffel/LMS/EXPLORATION/05_face_embedding/images'\n",
    "file_list = os.listdir(dir_path)\n",
    "\n",
    "print (\"file_list: {}\".format(file_list))\n",
    "\n",
    "import matplotlib.pyplot as plt\n",
    "import matplotlib.image as img\n",
    "\n",
    "#Set figsize here\n",
    "fig, axes = plt.subplots(nrows=1, ncols=4, figsize=(12,12))\n",
    "\n",
    "# flatten axes for easy iterating\n",
    "for i, ax in enumerate(axes.flatten()):\n",
    "  image = img.imread(dir_path+'/'+file_list[i])\n",
    "  ax.imshow(image)\n",
    "plt.show()\n",
    "\n",
    "fig.tight_layout()"
   ]
  },
  {
   "cell_type": "code",
   "execution_count": null,
   "id": "d45d3995",
   "metadata": {},
   "outputs": [],
   "source": [
    "image_path = os.getenv('HOME')+'/aiffel/face_embedding/images/obama.jpg'\n",
    "image = face_recognition.load_image_file(image_path)\n",
    "face_locations = face_recognition.face_locations(image)\n",
    "\n",
    "print(face_locations)  # 이미지에서 얼굴 영역의 좌표를 출력합니다.\n",
    "\n",
    "a, b, c, d = face_locations[0]\n",
    "cropped_face = image[a:c,d:b,:]\n",
    "\n",
    "plt.imshow(cropped_face)   # 이미지에서 얼굴영역만 잘라낸 cropped_face를 그려 봅니다."
   ]
  },
  {
   "cell_type": "markdown",
   "id": "8833e788",
   "metadata": {},
   "source": [
    "#### 2. 비교할 연예인 사진 모으기"
   ]
  },
  {
   "cell_type": "code",
   "execution_count": null,
   "id": "fedda50e",
   "metadata": {},
   "outputs": [],
   "source": []
  },
  {
   "cell_type": "markdown",
   "id": "4be50117",
   "metadata": {},
   "source": [
    "### Step2. 얼굴 영역 자르기"
   ]
  },
  {
   "cell_type": "code",
   "execution_count": null,
   "id": "9c781adb",
   "metadata": {},
   "outputs": [],
   "source": []
  },
  {
   "cell_type": "code",
   "execution_count": null,
   "id": "21ed30e3",
   "metadata": {},
   "outputs": [],
   "source": []
  },
  {
   "cell_type": "markdown",
   "id": "d41e99ed",
   "metadata": {},
   "source": [
    "### Step3. 얼굴 영역의 임베딩 추출하기"
   ]
  },
  {
   "cell_type": "code",
   "execution_count": null,
   "id": "67ff1eb6",
   "metadata": {},
   "outputs": [],
   "source": []
  },
  {
   "cell_type": "markdown",
   "id": "31d3b1ae",
   "metadata": {},
   "source": [
    "### Step4. 모은 연예인들과 비교하기"
   ]
  },
  {
   "cell_type": "code",
   "execution_count": null,
   "id": "36d6d88a",
   "metadata": {},
   "outputs": [],
   "source": [
    "b"
   ]
  },
  {
   "cell_type": "markdown",
   "id": "6c6e05a7",
   "metadata": {},
   "source": [
    "### Step5. 다양한 재미있는 시각화 시도해 보기"
   ]
  },
  {
   "cell_type": "code",
   "execution_count": null,
   "id": "2073390a",
   "metadata": {},
   "outputs": [],
   "source": []
  }
 ],
 "metadata": {
  "kernelspec": {
   "display_name": "Python 3",
   "language": "python",
   "name": "python3"
  },
  "language_info": {
   "codemirror_mode": {
    "name": "ipython",
    "version": 3
   },
   "file_extension": ".py",
   "mimetype": "text/x-python",
   "name": "python",
   "nbconvert_exporter": "python",
   "pygments_lexer": "ipython3",
   "version": "3.8.8"
  }
 },
 "nbformat": 4,
 "nbformat_minor": 5
}
