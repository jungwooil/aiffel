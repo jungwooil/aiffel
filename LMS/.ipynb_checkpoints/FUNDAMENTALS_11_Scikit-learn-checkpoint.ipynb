{
 "cells": [
  {
   "cell_type": "markdown",
   "id": "6e395de7",
   "metadata": {},
   "source": [
    "## 11-2. 머신러닝 알고리즘"
   ]
  },
  {
   "cell_type": "markdown",
   "id": "0638c904",
   "metadata": {},
   "source": [
    "머신러닝용 라이브러리인 `사이킷런(Scikit-Learn)`을 사용해서 직접 알고리즘 구현"
   ]
  },
  {
   "cell_type": "markdown",
   "id": "4a119570",
   "metadata": {},
   "source": [
    "머신러닝 알고리즘 종류 3가지\n",
    "- 지도학습 (Supervised Learning)\n",
    "- 비지도학습 (Unsupervised Learning)\n",
    "- 강화학습 (Reinforcement Learning)"
   ]
  },
  {
   "cell_type": "markdown",
   "id": "9c3ac4ca",
   "metadata": {},
   "source": [
    "위 3가지 카테고리는 상황이나 구현하고자 하는 Application에 따라 합쳐서 사용될 수도 있습니다. 경우에 따라 지도학습으로 학습을 진행하다 차원과 특징(Feature)의 수가 너무 많아지면 비지도 학습으로 전환하기도 합니다.\n",
    "\n",
    "그리고 어떤 문헌에서는 지도학습과 비지도학습의 중간 개념으로 준(반)지도학습(Semi-Supervised Learning) 또는 약지도학습(Weakly Supervised Learning)을 제시하기도 합니다.\n",
    "\n",
    "알파고의 경우 지도학습을 통해 바둑 기보를 학습하고 강화학습을 거쳐 최적화되었습니다."
   ]
  },
  {
   "cell_type": "markdown",
   "id": "a6925ac7",
   "metadata": {},
   "source": [
    "### 지도학습과 비지도학습"
   ]
  },
  {
   "cell_type": "markdown",
   "id": "ee294d96",
   "metadata": {},
   "source": [
    "Q. 지도 학습에 속하는 대표적인 알고리즘에는 어떤것이 있나요?\n",
    "\n",
    "- 분류(Classification): 데이터가 범주형(categorical) 변수를 예측하기 위해 사용될 때\n",
    "- 회귀(Regression): 연속값을 예측할 때\n",
    "- 예측(Forecasting): 과거 및 현재를 기반으로 미래를 예측할 때"
   ]
  },
  {
   "cell_type": "markdown",
   "id": "b35af6d8",
   "metadata": {},
   "source": [
    "Q. 비지도 학습에 속하는 대표적인 알고리즘에는 어떤 것이 있나요?\n",
    "\n",
    "- 클러스터링(Clustering): 특정 기준에 따라 유사한 데이터 사례들을 하나의 세트로 그룹화\n",
    "- 차원 축소(Demension Reduction): 고려 중인 변수의 개수를 줄이는 작업"
   ]
  },
  {
   "cell_type": "markdown",
   "id": "8a4dfc70",
   "metadata": {},
   "source": [
    "Q. 머신러닝을 위한 특정 알고리즘 종류\n",
    "\n",
    "- 선형 회귀(Linear regression)와 로지스틱 회귀(Logistic regression)\n",
    "- 선형(Linear) SVM 및 커널(Kernel) SVM\n",
    "- 트리와 앙상블 트리(ensemble tree)\n",
    "- 신경망과 딥러닝\n",
    "- K-평균/K-모드(k-means/k-modes)\n",
    "- 가우시안 혼합 모델(GMM; Gaussian mixture model) 클러스터링\n",
    "- DBSCAN\n",
    "- 계층적 군집화(Hierarchical clustering)\n",
    "- PCA, SVD, LDA"
   ]
  },
  {
   "cell_type": "markdown",
   "id": "4f20aebb",
   "metadata": {},
   "source": [
    "보통 라벨(정답)의 존재 유무에 따라 머신러닝을 지도학습과 비지도학습으로 나눈다\n",
    "\n",
    "데이터가 매우 복잡하다면 차원을 축소하기도 하고, 주요한 성분이 있다면 주성분 분석을 적용하기도 함\n",
    "\n",
    "또한, 데이터의 종류에 따라 같은 회귀라도 선형회귀는 수치형 데이터(연속적인 데이터)를 예측하는 데 사용된다면 로지스틱 회귀는 분류(엄밀히 말하면 이진분류)에 사용\n",
    "\n",
    "따라서 **정답 유무, 데이터의 종류, 특성, 문제 정의**에 따라 머신러닝 알고리즘은 굉장히 복합적으로 사용"
   ]
  },
  {
   "cell_type": "markdown",
   "id": "3530e0a6",
   "metadata": {},
   "source": [
    "### 강화학습"
   ]
  },
  {
   "cell_type": "markdown",
   "id": "9f15f76f",
   "metadata": {},
   "source": [
    "지도학습, 비지도학습과는 다른 종류의 알고리즘\\\n",
    "학습하는 시스템을 에이전트라고 하고, 환경을 관찰해서 에이전트가 스스로 행동하게 한다\\\n",
    "모델은 그 결과로 특정 보상을 받아 이 보상을 최대화하도록 학습"
   ]
  },
  {
   "cell_type": "markdown",
   "id": "fbe87386",
   "metadata": {},
   "source": [
    "강화학습에서 기본적으로 쓰이는 용어\n",
    "\n",
    "- 에이전트(Agent): 학습 주체 (혹은 actor, controller)\n",
    "- 환경(Environment): 에이전트에게 주어진 환경, 상황, 조건\n",
    "- 행동(Action): 환경으로부터 주어진 정보를 바탕으로 에이전트가 판단한 행동\n",
    "- 보상(Reward): 행동에 대한 보상을 머신러닝 엔지니어가 설계"
   ]
  },
  {
   "cell_type": "markdown",
   "id": "d2b6c7dd",
   "metadata": {},
   "source": [
    "강화학습 알고리즘의 대표적인 종류\n",
    "\n",
    "- Monte Carlo methods\n",
    "- Q-Learning\n",
    "- Policy Gradient methods"
   ]
  },
  {
   "cell_type": "markdown",
   "id": "de08f06c",
   "metadata": {},
   "source": [
    "## 11-3. 사이킷런에서 가이드하는 머신러닝 알고리즘"
   ]
  },
  {
   "cell_type": "markdown",
   "id": "7a399fa0",
   "metadata": {},
   "source": [
    "`Scikit-Learn`에서의 알고리즘 분류"
   ]
  },
  {
   "cell_type": "markdown",
   "id": "d45fa03f",
   "metadata": {},
   "source": [
    "Q4. 사이킷런에서 알고리즘의 Task는 몇 가지이며 각각 무엇인가요?\n",
    "\n",
    "4가지\n",
    "- Classification\n",
    "- Regression\n",
    "- Clustering\n",
    "- Dimensionality reduction"
   ]
  },
  {
   "cell_type": "markdown",
   "id": "e19ed524",
   "metadata": {},
   "source": [
    "Q5. 사이킷런에서는 알고리즘을 크게 어떤 기준에 따라 나누었나요?\n",
    "\n",
    "- 데이터의 양\n",
    "- 라벨링 유무\n",
    "- 데이터가 수치형(Quantity)인지 범주형(Category)인지 여부 등"
   ]
  },
  {
   "cell_type": "markdown",
   "id": "1de828a5",
   "metadata": {},
   "source": [
    "사이킷런에서 알고리즘 분류하는 기준, 종류는 적용하고자 하는 상황 혹은 새로운 기술이 나옴에 따라 언제든 바뀔 수 있다\n",
    "\n",
    "실제 다른 라이브러리에서는 다르게 알고리즘 분류하기도 함"
   ]
  },
  {
   "cell_type": "markdown",
   "id": "6f61a97e",
   "metadata": {},
   "source": [
    "Q6. 사이킷런에서 소개하는 Classification용 알고리즘은 몇 개이며 그 종류에는 무엇이 있나요?\n",
    "\n",
    "7개\n",
    "- SGD Classifier\n",
    "- Linear SVC\n",
    "- Kernel Approximation\n",
    "- K-Neighbors Classifier\n",
    "- SVC\n",
    "- Ensemble Classifier\n",
    "- Naive Bayes"
   ]
  },
  {
   "cell_type": "markdown",
   "id": "8c1669f1",
   "metadata": {},
   "source": [
    "Q7. 사이킷런에서 소개하는 Regression용 알고리즘은 몇 개이며 그 종류에는 무엇이 있나요?\n",
    "\n",
    "A7. 7개\n",
    "- SGD Regressor\n",
    "- Lasso\n",
    "- ElasticNet\n",
    "- RidgeRegression\n",
    "- SVR(kernel='linear')\n",
    "- SVR(kernel='rbf')\n",
    "- EnsembleRegressors"
   ]
  },
  {
   "cell_type": "markdown",
   "id": "c3dba169",
   "metadata": {},
   "source": [
    "Q8. Ensemble 기법은 어느 Task 카테고리에 사용되었나요?\n",
    "\n",
    "A8. Classification, Regression"
   ]
  },
  {
   "cell_type": "markdown",
   "id": "c0aa57b5",
   "metadata": {},
   "source": [
    "Q9. SGD 기법은 어느 Task 카테고리에 사용되었나요?\n",
    "\n",
    "A9. Classification, Regression"
   ]
  },
  {
   "cell_type": "markdown",
   "id": "2e8102e7",
   "metadata": {},
   "source": [
    "## 11-4. Hello Scikit-learn"
   ]
  },
  {
   "cell_type": "markdown",
   "id": "dea64790",
   "metadata": {},
   "source": [
    "### 1) 설치 "
   ]
  },
  {
   "cell_type": "markdown",
   "id": "eef07491",
   "metadata": {},
   "source": [
    "### 의존성 (Dependencies)"
   ]
  },
  {
   "cell_type": "markdown",
   "id": "753b89a4",
   "metadata": {},
   "source": [
    "사이킷런은 파이썬 기반 머신러닝 라이브러리로, 다음과 같은 파이썬, 파이썬 라이브러리에 의존성을 가진다 (Scikit-Learn 0.20까지는 Python 2.7과 Python 3.4에 동작하였고, 현재 최신 버전인 0.23를 사용하기 위해선 다음과 같은 사양이 요구된다)\n",
    "\n",
    "- Python (>= 3.6)\n",
    "- NumPy (>= 1.13.3)\n",
    "- SciPy (>= 0.19.1)\n",
    "- joblib (>= 0.11)"
   ]
  },
  {
   "cell_type": "markdown",
   "id": "6f0b117b",
   "metadata": {},
   "source": [
    "### 설치"
   ]
  },
  {
   "cell_type": "code",
   "execution_count": 11,
   "id": "36ef1318",
   "metadata": {},
   "outputs": [
    {
     "name": "stdout",
     "output_type": "stream",
     "text": [
      "Collecting package metadata (current_repodata.json): done\n",
      "Solving environment: done\n",
      "\n",
      "# All requested packages already installed.\n",
      "\n"
     ]
    }
   ],
   "source": [
    "# !pip install scikit-learn\n",
    "\n",
    "# !conda install scikit-learn"
   ]
  },
  {
   "cell_type": "code",
   "execution_count": 12,
   "id": "be2b4633",
   "metadata": {},
   "outputs": [
    {
     "name": "stdout",
     "output_type": "stream",
     "text": [
      "0.24.1\n"
     ]
    }
   ],
   "source": [
    "import sklearn\n",
    "print(sklearn.__version__)"
   ]
  },
  {
   "cell_type": "markdown",
   "id": "1d776d1f",
   "metadata": {},
   "source": [
    "### 2) 사이킷런 살펴보기"
   ]
  },
  {
   "cell_type": "markdown",
   "id": "b1d5d6c7",
   "metadata": {},
   "source": [
    "Q10. Scikit-Learn에서 Scikit이란 이름은 어떻게 만들어 진 건가요?\n",
    "\n",
    "A10. sciPy + Toolkit"
   ]
  },
  {
   "cell_type": "markdown",
   "id": "d0c5c109",
   "metadata": {},
   "source": [
    "Q11. Scikit-Learn에서 훈련 데이터와 테스트 데이터를 나누는 기능을 제공하는 함수의 이름은 무엇인가요?\n",
    "\n",
    "A11. sklearn.model_selection 패키지의 train_test_split"
   ]
  },
  {
   "cell_type": "markdown",
   "id": "38f1b687",
   "metadata": {},
   "source": [
    "Q12. 위 동영상을 보고 Scikit-Learn에서 ETL(Extract Transform Load) 기능을 수행하는 함수가 무엇인지 찾아보세요.\n",
    "\n",
    "A12. transformer()"
   ]
  },
  {
   "cell_type": "markdown",
   "id": "320addeb",
   "metadata": {},
   "source": [
    "Q13. 위 동영상을 보고 Scikit-Learn에서 모델(Model)로 표현되는 클래스가 무엇인지 찾아보세요.\n",
    "\n",
    "A13. Estimator"
   ]
  },
  {
   "cell_type": "markdown",
   "id": "5e8cf755",
   "metadata": {},
   "source": [
    "Q14. 위 동영상에서 소개한 Estimator 클래스의 메소드에는 어떤 것이 있었나요?\n",
    "\n",
    "A.14 fit(), predict()"
   ]
  },
  {
   "cell_type": "markdown",
   "id": "05fd5069",
   "metadata": {},
   "source": [
    "Q15. 위 동영상에서 Estimator와 transformer() 2가지 기능을 수행하는 scikit-learn의 API는 무엇인가요?\n",
    "\n",
    "A15. Pipeline(meta-estimator)"
   ]
  },
  {
   "cell_type": "markdown",
   "id": "25112f68",
   "metadata": {},
   "source": [
    "### 11-5. 사이킷런의 주요 모듈 (1) 데이터 표현법"
   ]
  },
  {
   "cell_type": "markdown",
   "id": "57a34d6d",
   "metadata": {},
   "source": [
    "사이킷런의 알고리즘은 파이썬 클래스로 구현되어 있고, 데이터셋은 **NumPy의 ndarray, Pandas의 DataFrame, SciPy의 Sparse Matrix**를 이용해 나타낼 수 있다\n",
    "\n",
    "훈련과 예측 등 머신러닝 모델을 다룰 때는 CoreAPI라고 불리는 `fit()`, `transfomer()`, `predict()`과 같은 함수들을 이용한다"
   ]
  },
  {
   "cell_type": "markdown",
   "id": "60f95203",
   "metadata": {},
   "source": [
    "공식 홈페이지에서 소개하는 사이킷런의 모듈들(API)"
   ]
  },
  {
   "cell_type": "markdown",
   "id": "2155a364",
   "metadata": {},
   "source": [
    "**표**"
   ]
  },
  {
   "cell_type": "markdown",
   "id": "6bd456b2",
   "metadata": {},
   "source": [
    "### 데이터 표현법"
   ]
  },
  {
   "cell_type": "markdown",
   "id": "e65c0743",
   "metadata": {},
   "source": [
    "사이킷런에서 제공하는 데이터셋은 **NumPy의 ndarray, Pandas의 DataFrame, SciPy의 Sparse Matrix**로 나타낼 수 있는데,"
   ]
  },
  {
   "cell_type": "markdown",
   "id": "18e446c8",
   "metadata": {},
   "source": [
    "사이킷런에서는 데이터 표현 방식을 보통 다음 2가지로 나타낸다\\\n",
    "**특성행렬(Feature Matrix)**, **타겟벡터(Target Vector)**"
   ]
  },
  {
   "cell_type": "markdown",
   "id": "c44d9163",
   "metadata": {},
   "source": [
    "표"
   ]
  },
  {
   "cell_type": "markdown",
   "id": "e8917993",
   "metadata": {},
   "source": [
    "### 특성 행렬(Feature Matrix)"
   ]
  },
  {
   "cell_type": "markdown",
   "id": "459f4005",
   "metadata": {},
   "source": [
    "- 입력 데이터를 의미\n",
    "- 특성(feature): 데이터에서 수치 값, 이산 값, 불리언 값으로 표현되는 개별 관측치\\\n",
    "특성 행렬에서는 열에 해당하는 값\n",
    "- 표본(sample): 각 입력 데이터, 특성 행렬에서는 행에 해당하는 값\n",
    "- `n_samples`: 행의 개수(표본의 개수)\n",
    "- `n_features`: 열의 개수(특성의 개수)\n",
    "- `X`: 통상 특성 행렬은 변수명 X로 표기\n",
    "- `[n_samples, n_features]`은 [행, 열]형태의 2차원 배열 구조를 사용하며 이는 NumPy의 ndarray, Pandas의 DataFrame, SciPy의 Sparse Matrix를 사용하여 나타낼 수 있다\n"
   ]
  },
  {
   "cell_type": "markdown",
   "id": "4ce2a54f",
   "metadata": {},
   "source": [
    "### 타겟 벡터 (Target Vector)"
   ]
  },
  {
   "cell_type": "markdown",
   "id": "2895dc6d",
   "metadata": {},
   "source": [
    "- 입력 데이터의 라벨(정답) 을 의미\n",
    "- 목표(Target): 라벨, 타겟값, 목표값. 특성 행렬(Feature Matrix)로부터 예측하고자 하는 것\n",
    "- `n_samples`: 벡터의 길이(라벨의 개수)\n",
    "- 타겟 벡터에서 `n_features`는 없다\n",
    "- `y`: 통상 타겟 벡터는 변수명 y로 표기한다\n",
    "- 타겟 벡터는 보통 1차원 벡터로 나타내며, 이는 NumPy의 ndarray, Pandas의 Series를 사용하여 나타낼 수 있다\n",
    "- (단, 타겟 벡터는 경우에 따라 1차원으로 나타내지 않을 수도 있다)"
   ]
  },
  {
   "cell_type": "markdown",
   "id": "83cbdc20",
   "metadata": {},
   "source": [
    "❗️특성행렬 X의 n_samples와 타겟벡터 y의 n_samples는 동일해야 한다"
   ]
  },
  {
   "cell_type": "markdown",
   "id": "59d315dd",
   "metadata": {},
   "source": [
    "## 11-6. 사이킷런의 주요 모듈 (2) 회귀 모델 실습"
   ]
  },
  {
   "cell_type": "code",
   "execution_count": 2,
   "id": "0b2d3b1a",
   "metadata": {},
   "outputs": [
    {
     "data": {
      "text/plain": [
       "<matplotlib.collections.PathCollection at 0x7f8ee066ee20>"
      ]
     },
     "execution_count": 2,
     "metadata": {},
     "output_type": "execute_result"
    },
    {
     "data": {
      "image/png": "[encoded data removed]",
      "text/plain": [
       "<Figure size 432x288 with 1 Axes>"
      ]
     },
     "metadata": {
      "needs_background": "light"
     },
     "output_type": "display_data"
    }
   ],
   "source": [
    "import numpy as np\n",
    "import matplotlib.pyplot as plt\n",
    "r = np.random.RandomState(10)\n",
    "x = 10 * r.rand(100)\n",
    "y = 2 * x - 3 * r.rand(100)\n",
    "plt.scatter(x,y)"
   ]
  },
  {
   "cell_type": "code",
   "execution_count": 4,
   "id": "5e387135",
   "metadata": {},
   "outputs": [
    {
     "data": {
      "text/plain": [
       "(100,)"
      ]
     },
     "execution_count": 4,
     "metadata": {},
     "output_type": "execute_result"
    }
   ],
   "source": [
    "x.shape"
   ]
  },
  {
   "cell_type": "code",
   "execution_count": 5,
   "id": "3707eb53",
   "metadata": {},
   "outputs": [
    {
     "data": {
      "text/plain": [
       "(100,)"
      ]
     },
     "execution_count": 5,
     "metadata": {},
     "output_type": "execute_result"
    }
   ],
   "source": [
    "y.shape"
   ]
  },
  {
   "cell_type": "code",
   "execution_count": 6,
   "id": "81fe4686",
   "metadata": {},
   "outputs": [
    {
     "data": {
      "text/plain": [
       "LinearRegression()"
      ]
     },
     "execution_count": 6,
     "metadata": {},
     "output_type": "execute_result"
    }
   ],
   "source": [
    "from sklearn.linear_model import LinearRegression\n",
    "model = LinearRegression()\n",
    "model"
   ]
  },
  {
   "cell_type": "code",
   "execution_count": 7,
   "id": "af6157e2",
   "metadata": {},
   "outputs": [
    {
     "ename": "ValueError",
     "evalue": "Expected 2D array, got 1D array instead:\narray=[7.71320643 0.20751949 6.33648235 7.48803883 4.98507012 2.24796646\n 1.98062865 7.60530712 1.69110837 0.88339814 6.85359818 9.53393346\n 0.03948266 5.12192263 8.12620962 6.12526067 7.21755317 2.91876068\n 9.17774123 7.14575783 5.42544368 1.42170048 3.7334076  6.74133615\n 4.41833174 4.34013993 6.17766978 5.13138243 6.50397182 6.01038953\n 8.05223197 5.21647152 9.08648881 3.19236089 0.90459349 3.00700057\n 1.13984362 8.28681326 0.46896319 6.26287148 5.47586156 8.19286996\n 1.9894754  8.56850302 3.51652639 7.54647692 2.95961707 8.8393648\n 3.25511638 1.65015898 3.92529244 0.93460375 8.21105658 1.5115202\n 3.84114449 9.44260712 9.87625475 4.56304547 8.26122844 2.51374134\n 5.97371648 9.0283176  5.34557949 5.90201363 0.39281767 3.57181759\n 0.7961309  3.05459918 3.30719312 7.73830296 0.39959209 4.29492178\n 3.14926872 6.36491143 3.4634715  0.43097356 8.79915175 7.63240587\n 8.78096643 4.17509144 6.05577564 5.13466627 5.97836648 2.62215661\n 3.00871309 0.25399782 3.03062561 2.42075875 5.57578189 5.6550702\n 4.75132247 2.92797976 0.64251061 9.78819146 3.39707844 4.95048631\n 9.77080726 4.40773825 3.18272805 5.19796986].\nReshape your data either using array.reshape(-1, 1) if your data has a single feature or array.reshape(1, -1) if it contains a single sample.",
     "output_type": "error",
     "traceback": [
      "\u001b[0;31m---------------------------------------------------------------------------\u001b[0m",
      "\u001b[0;31mValueError\u001b[0m                                Traceback (most recent call last)",
      "\u001b[0;32m<ipython-input-7-65b198098d37>\u001b[0m in \u001b[0;36m<module>\u001b[0;34m\u001b[0m\n\u001b[1;32m      1\u001b[0m \u001b[0;31m# ! 에러 발생\u001b[0m\u001b[0;34m\u001b[0m\u001b[0;34m\u001b[0m\u001b[0;34m\u001b[0m\u001b[0m\n\u001b[0;32m----> 2\u001b[0;31m \u001b[0mmodel\u001b[0m\u001b[0;34m.\u001b[0m\u001b[0mfit\u001b[0m\u001b[0;34m(\u001b[0m\u001b[0mx\u001b[0m\u001b[0;34m,\u001b[0m \u001b[0my\u001b[0m\u001b[0;34m)\u001b[0m\u001b[0;34m\u001b[0m\u001b[0;34m\u001b[0m\u001b[0m\n\u001b[0m",
      "\u001b[0;32m/opt/anaconda3/lib/python3.8/site-packages/sklearn/linear_model/_base.py\u001b[0m in \u001b[0;36mfit\u001b[0;34m(self, X, y, sample_weight)\u001b[0m\n\u001b[1;32m    516\u001b[0m         \u001b[0maccept_sparse\u001b[0m \u001b[0;34m=\u001b[0m \u001b[0;32mFalse\u001b[0m \u001b[0;32mif\u001b[0m \u001b[0mself\u001b[0m\u001b[0;34m.\u001b[0m\u001b[0mpositive\u001b[0m \u001b[0;32melse\u001b[0m \u001b[0;34m[\u001b[0m\u001b[0;34m'csr'\u001b[0m\u001b[0;34m,\u001b[0m \u001b[0;34m'csc'\u001b[0m\u001b[0;34m,\u001b[0m \u001b[0;34m'coo'\u001b[0m\u001b[0;34m]\u001b[0m\u001b[0;34m\u001b[0m\u001b[0;34m\u001b[0m\u001b[0m\n\u001b[1;32m    517\u001b[0m \u001b[0;34m\u001b[0m\u001b[0m\n\u001b[0;32m--> 518\u001b[0;31m         X, y = self._validate_data(X, y, accept_sparse=accept_sparse,\n\u001b[0m\u001b[1;32m    519\u001b[0m                                    y_numeric=True, multi_output=True)\n\u001b[1;32m    520\u001b[0m \u001b[0;34m\u001b[0m\u001b[0m\n",
      "\u001b[0;32m/opt/anaconda3/lib/python3.8/site-packages/sklearn/base.py\u001b[0m in \u001b[0;36m_validate_data\u001b[0;34m(self, X, y, reset, validate_separately, **check_params)\u001b[0m\n\u001b[1;32m    431\u001b[0m                 \u001b[0my\u001b[0m \u001b[0;34m=\u001b[0m \u001b[0mcheck_array\u001b[0m\u001b[0;34m(\u001b[0m\u001b[0my\u001b[0m\u001b[0;34m,\u001b[0m \u001b[0;34m**\u001b[0m\u001b[0mcheck_y_params\u001b[0m\u001b[0;34m)\u001b[0m\u001b[0;34m\u001b[0m\u001b[0;34m\u001b[0m\u001b[0m\n\u001b[1;32m    432\u001b[0m             \u001b[0;32melse\u001b[0m\u001b[0;34m:\u001b[0m\u001b[0;34m\u001b[0m\u001b[0;34m\u001b[0m\u001b[0m\n\u001b[0;32m--> 433\u001b[0;31m                 \u001b[0mX\u001b[0m\u001b[0;34m,\u001b[0m \u001b[0my\u001b[0m \u001b[0;34m=\u001b[0m \u001b[0mcheck_X_y\u001b[0m\u001b[0;34m(\u001b[0m\u001b[0mX\u001b[0m\u001b[0;34m,\u001b[0m \u001b[0my\u001b[0m\u001b[0;34m,\u001b[0m \u001b[0;34m**\u001b[0m\u001b[0mcheck_params\u001b[0m\u001b[0;34m)\u001b[0m\u001b[0;34m\u001b[0m\u001b[0;34m\u001b[0m\u001b[0m\n\u001b[0m\u001b[1;32m    434\u001b[0m             \u001b[0mout\u001b[0m \u001b[0;34m=\u001b[0m \u001b[0mX\u001b[0m\u001b[0;34m,\u001b[0m \u001b[0my\u001b[0m\u001b[0;34m\u001b[0m\u001b[0;34m\u001b[0m\u001b[0m\n\u001b[1;32m    435\u001b[0m \u001b[0;34m\u001b[0m\u001b[0m\n",
      "\u001b[0;32m/opt/anaconda3/lib/python3.8/site-packages/sklearn/utils/validation.py\u001b[0m in \u001b[0;36minner_f\u001b[0;34m(*args, **kwargs)\u001b[0m\n\u001b[1;32m     61\u001b[0m             \u001b[0mextra_args\u001b[0m \u001b[0;34m=\u001b[0m \u001b[0mlen\u001b[0m\u001b[0;34m(\u001b[0m\u001b[0margs\u001b[0m\u001b[0;34m)\u001b[0m \u001b[0;34m-\u001b[0m \u001b[0mlen\u001b[0m\u001b[0;34m(\u001b[0m\u001b[0mall_args\u001b[0m\u001b[0;34m)\u001b[0m\u001b[0;34m\u001b[0m\u001b[0;34m\u001b[0m\u001b[0m\n\u001b[1;32m     62\u001b[0m             \u001b[0;32mif\u001b[0m \u001b[0mextra_args\u001b[0m \u001b[0;34m<=\u001b[0m \u001b[0;36m0\u001b[0m\u001b[0;34m:\u001b[0m\u001b[0;34m\u001b[0m\u001b[0;34m\u001b[0m\u001b[0m\n\u001b[0;32m---> 63\u001b[0;31m                 \u001b[0;32mreturn\u001b[0m \u001b[0mf\u001b[0m\u001b[0;34m(\u001b[0m\u001b[0;34m*\u001b[0m\u001b[0margs\u001b[0m\u001b[0;34m,\u001b[0m \u001b[0;34m**\u001b[0m\u001b[0mkwargs\u001b[0m\u001b[0;34m)\u001b[0m\u001b[0;34m\u001b[0m\u001b[0;34m\u001b[0m\u001b[0m\n\u001b[0m\u001b[1;32m     64\u001b[0m \u001b[0;34m\u001b[0m\u001b[0m\n\u001b[1;32m     65\u001b[0m             \u001b[0;31m# extra_args > 0\u001b[0m\u001b[0;34m\u001b[0m\u001b[0;34m\u001b[0m\u001b[0;34m\u001b[0m\u001b[0m\n",
      "\u001b[0;32m/opt/anaconda3/lib/python3.8/site-packages/sklearn/utils/validation.py\u001b[0m in \u001b[0;36mcheck_X_y\u001b[0;34m(X, y, accept_sparse, accept_large_sparse, dtype, order, copy, force_all_finite, ensure_2d, allow_nd, multi_output, ensure_min_samples, ensure_min_features, y_numeric, estimator)\u001b[0m\n\u001b[1;32m    812\u001b[0m         \u001b[0;32mraise\u001b[0m \u001b[0mValueError\u001b[0m\u001b[0;34m(\u001b[0m\u001b[0;34m\"y cannot be None\"\u001b[0m\u001b[0;34m)\u001b[0m\u001b[0;34m\u001b[0m\u001b[0;34m\u001b[0m\u001b[0m\n\u001b[1;32m    813\u001b[0m \u001b[0;34m\u001b[0m\u001b[0m\n\u001b[0;32m--> 814\u001b[0;31m     X = check_array(X, accept_sparse=accept_sparse,\n\u001b[0m\u001b[1;32m    815\u001b[0m                     \u001b[0maccept_large_sparse\u001b[0m\u001b[0;34m=\u001b[0m\u001b[0maccept_large_sparse\u001b[0m\u001b[0;34m,\u001b[0m\u001b[0;34m\u001b[0m\u001b[0;34m\u001b[0m\u001b[0m\n\u001b[1;32m    816\u001b[0m                     \u001b[0mdtype\u001b[0m\u001b[0;34m=\u001b[0m\u001b[0mdtype\u001b[0m\u001b[0;34m,\u001b[0m \u001b[0morder\u001b[0m\u001b[0;34m=\u001b[0m\u001b[0morder\u001b[0m\u001b[0;34m,\u001b[0m \u001b[0mcopy\u001b[0m\u001b[0;34m=\u001b[0m\u001b[0mcopy\u001b[0m\u001b[0;34m,\u001b[0m\u001b[0;34m\u001b[0m\u001b[0;34m\u001b[0m\u001b[0m\n",
      "\u001b[0;32m/opt/anaconda3/lib/python3.8/site-packages/sklearn/utils/validation.py\u001b[0m in \u001b[0;36minner_f\u001b[0;34m(*args, **kwargs)\u001b[0m\n\u001b[1;32m     61\u001b[0m             \u001b[0mextra_args\u001b[0m \u001b[0;34m=\u001b[0m \u001b[0mlen\u001b[0m\u001b[0;34m(\u001b[0m\u001b[0margs\u001b[0m\u001b[0;34m)\u001b[0m \u001b[0;34m-\u001b[0m \u001b[0mlen\u001b[0m\u001b[0;34m(\u001b[0m\u001b[0mall_args\u001b[0m\u001b[0;34m)\u001b[0m\u001b[0;34m\u001b[0m\u001b[0;34m\u001b[0m\u001b[0m\n\u001b[1;32m     62\u001b[0m             \u001b[0;32mif\u001b[0m \u001b[0mextra_args\u001b[0m \u001b[0;34m<=\u001b[0m \u001b[0;36m0\u001b[0m\u001b[0;34m:\u001b[0m\u001b[0;34m\u001b[0m\u001b[0;34m\u001b[0m\u001b[0m\n\u001b[0;32m---> 63\u001b[0;31m                 \u001b[0;32mreturn\u001b[0m \u001b[0mf\u001b[0m\u001b[0;34m(\u001b[0m\u001b[0;34m*\u001b[0m\u001b[0margs\u001b[0m\u001b[0;34m,\u001b[0m \u001b[0;34m**\u001b[0m\u001b[0mkwargs\u001b[0m\u001b[0;34m)\u001b[0m\u001b[0;34m\u001b[0m\u001b[0;34m\u001b[0m\u001b[0m\n\u001b[0m\u001b[1;32m     64\u001b[0m \u001b[0;34m\u001b[0m\u001b[0m\n\u001b[1;32m     65\u001b[0m             \u001b[0;31m# extra_args > 0\u001b[0m\u001b[0;34m\u001b[0m\u001b[0;34m\u001b[0m\u001b[0;34m\u001b[0m\u001b[0m\n",
      "\u001b[0;32m/opt/anaconda3/lib/python3.8/site-packages/sklearn/utils/validation.py\u001b[0m in \u001b[0;36mcheck_array\u001b[0;34m(array, accept_sparse, accept_large_sparse, dtype, order, copy, force_all_finite, ensure_2d, allow_nd, ensure_min_samples, ensure_min_features, estimator)\u001b[0m\n\u001b[1;32m    635\u001b[0m             \u001b[0;31m# If input is 1D raise error\u001b[0m\u001b[0;34m\u001b[0m\u001b[0;34m\u001b[0m\u001b[0;34m\u001b[0m\u001b[0m\n\u001b[1;32m    636\u001b[0m             \u001b[0;32mif\u001b[0m \u001b[0marray\u001b[0m\u001b[0;34m.\u001b[0m\u001b[0mndim\u001b[0m \u001b[0;34m==\u001b[0m \u001b[0;36m1\u001b[0m\u001b[0;34m:\u001b[0m\u001b[0;34m\u001b[0m\u001b[0;34m\u001b[0m\u001b[0m\n\u001b[0;32m--> 637\u001b[0;31m                 raise ValueError(\n\u001b[0m\u001b[1;32m    638\u001b[0m                     \u001b[0;34m\"Expected 2D array, got 1D array instead:\\narray={}.\\n\"\u001b[0m\u001b[0;34m\u001b[0m\u001b[0;34m\u001b[0m\u001b[0m\n\u001b[1;32m    639\u001b[0m                     \u001b[0;34m\"Reshape your data either using array.reshape(-1, 1) if \"\u001b[0m\u001b[0;34m\u001b[0m\u001b[0;34m\u001b[0m\u001b[0m\n",
      "\u001b[0;31mValueError\u001b[0m: Expected 2D array, got 1D array instead:\narray=[7.71320643 0.20751949 6.33648235 7.48803883 4.98507012 2.24796646\n 1.98062865 7.60530712 1.69110837 0.88339814 6.85359818 9.53393346\n 0.03948266 5.12192263 8.12620962 6.12526067 7.21755317 2.91876068\n 9.17774123 7.14575783 5.42544368 1.42170048 3.7334076  6.74133615\n 4.41833174 4.34013993 6.17766978 5.13138243 6.50397182 6.01038953\n 8.05223197 5.21647152 9.08648881 3.19236089 0.90459349 3.00700057\n 1.13984362 8.28681326 0.46896319 6.26287148 5.47586156 8.19286996\n 1.9894754  8.56850302 3.51652639 7.54647692 2.95961707 8.8393648\n 3.25511638 1.65015898 3.92529244 0.93460375 8.21105658 1.5115202\n 3.84114449 9.44260712 9.87625475 4.56304547 8.26122844 2.51374134\n 5.97371648 9.0283176  5.34557949 5.90201363 0.39281767 3.57181759\n 0.7961309  3.05459918 3.30719312 7.73830296 0.39959209 4.29492178\n 3.14926872 6.36491143 3.4634715  0.43097356 8.79915175 7.63240587\n 8.78096643 4.17509144 6.05577564 5.13466627 5.97836648 2.62215661\n 3.00871309 0.25399782 3.03062561 2.42075875 5.57578189 5.6550702\n 4.75132247 2.92797976 0.64251061 9.78819146 3.39707844 4.95048631\n 9.77080726 4.40773825 3.18272805 5.19796986].\nReshape your data either using array.reshape(-1, 1) if your data has a single feature or array.reshape(1, -1) if it contains a single sample."
     ]
    }
   ],
   "source": [
    "# ! 에러 발생\n",
    "model.fit(x, y)"
   ]
  },
  {
   "cell_type": "code",
   "execution_count": 8,
   "id": "5e9d47f3",
   "metadata": {},
   "outputs": [],
   "source": [
    "X = x.reshape(100,1)"
   ]
  },
  {
   "cell_type": "code",
   "execution_count": 10,
   "id": "16794de3",
   "metadata": {},
   "outputs": [
    {
     "data": {
      "text/plain": [
       "LinearRegression()"
      ]
     },
     "execution_count": 10,
     "metadata": {},
     "output_type": "execute_result"
    }
   ],
   "source": [
    "model.fit(X,y)"
   ]
  },
  {
   "cell_type": "code",
   "execution_count": 12,
   "id": "d12dd07a",
   "metadata": {},
   "outputs": [],
   "source": [
    "x_new = np.linspace(-1, 11, 100)\n",
    "X_new = x_new.reshape(100,1)\n",
    "y_new = model.predict(X_new)"
   ]
  },
  {
   "cell_type": "markdown",
   "id": "02b67391",
   "metadata": {},
   "source": [
    "**Tip**\\\n",
    "reshape() 함수에서 나머지 숫자를 -1로 넣으면 자동으로 남은 숫자를 계산해 준다\\\n",
    "즉, x_new의 인자의 개수가 100개이므로, (100, 1)의 형태나 (2, 50)의 형태 등으로 변환해 줄 수 있는데, (2, -1)을 인자로 넣으면 (2, 50)의 형태로 자동으로 변환해 준다"
   ]
  },
  {
   "cell_type": "code",
   "execution_count": 13,
   "id": "f4880a8e",
   "metadata": {},
   "outputs": [
    {
     "data": {
      "text/plain": [
       "(100, 1)"
      ]
     },
     "execution_count": 13,
     "metadata": {},
     "output_type": "execute_result"
    }
   ],
   "source": [
    "X_ = x_new.reshape(-1,1)\n",
    "X_.shape"
   ]
  },
  {
   "cell_type": "markdown",
   "id": "3fa2ac17",
   "metadata": {},
   "source": [
    "학습된 회귀 모델이 잘 예측했는지 모델의 성능을 평가\\\n",
    "모델의 성능 평가 관련 모듈은 sklearn.metrics에 저장되어 있다\\\n",
    "회귀 모델의 경우 **RMSE(Root Mean Square Error)**를 사용해 성능을 평가"
   ]
  },
  {
   "cell_type": "markdown",
   "id": "deb6c3c8",
   "metadata": {},
   "source": [
    "사이킷런의 RMSE 오차 관련 함수의 스펙을 직접 확인해 보고 코드로 구현\\\n",
    "(힌트! mean_squared_error 함수의 공식을 유심히 보세요. np.sqrt를 활용해 보세요.)"
   ]
  },
  {
   "cell_type": "code",
   "execution_count": 15,
   "id": "7a2fe194",
   "metadata": {},
   "outputs": [
    {
     "name": "stdout",
     "output_type": "stream",
     "text": [
      "9.299028215052262\n"
     ]
    }
   ],
   "source": [
    "from sklearn.metrics import mean_squared_error\n",
    "\n",
    "error = np.sqrt(mean_squared_error(y,y_new))\n",
    "\n",
    "print(error)"
   ]
  },
  {
   "cell_type": "code",
   "execution_count": 16,
   "id": "f99a2704",
   "metadata": {},
   "outputs": [
    {
     "data": {
      "text/plain": [
       "[<matplotlib.lines.Line2D at 0x7f8ea004fdc0>]"
      ]
     },
     "execution_count": 16,
     "metadata": {},
     "output_type": "execute_result"
    },
    {
     "data": {
      "image/png": "[encoded data removed]",
      "text/plain": [
       "<Figure size 432x288 with 1 Axes>"
      ]
     },
     "metadata": {
      "needs_background": "light"
     },
     "output_type": "display_data"
    }
   ],
   "source": [
    "plt.scatter(x, y, label='input data')\n",
    "plt.plot(X_new, y_new, color='red', label='regression line')"
   ]
  },
  {
   "cell_type": "code",
   "execution_count": null,
   "id": "dea5d513",
   "metadata": {},
   "outputs": [],
   "source": []
  }
 ],
 "metadata": {
  "kernelspec": {
   "display_name": "Python 3",
   "language": "python",
   "name": "python3"
  },
  "language_info": {
   "codemirror_mode": {
    "name": "ipython",
    "version": 3
   },
   "file_extension": ".py",
   "mimetype": "text/x-python",
   "name": "python",
   "nbconvert_exporter": "python",
   "pygments_lexer": "ipython3",
   "version": "3.8.8"
  }
 },
 "nbformat": 4,
 "nbformat_minor": 5
}
